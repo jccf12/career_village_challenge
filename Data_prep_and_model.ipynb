{
 "cells": [
  {
   "cell_type": "code",
   "execution_count": 87,
   "metadata": {},
   "outputs": [],
   "source": [
    "import numpy as np\n",
    "import matplotlib.pyplot as plt\n",
    "import pandas as pd\n",
    "import datetime\n",
    "import seaborn as sns\n",
    "from scipy import stats as sts\n",
    "import shap\n",
    "from keras.models import Sequential\n",
    "from keras.layers import Dense\n",
    "import pandas as pd\n",
    "from sklearn import datasets\n",
    "import matplotlib.pyplot as plt\n",
    "import numpy as np\n",
    "from tensorflow import keras"
   ]
  },
  {
   "cell_type": "code",
   "execution_count": 88,
   "metadata": {},
   "outputs": [],
   "source": [
    "tag_users = pd.read_csv(\"data/tag_users.csv\")\n",
    "tag_questions = pd.read_csv(\"data/tag_questions.csv\")\n",
    "tags = pd.read_csv(\"data/tags.csv\")\n",
    "professionals = pd.read_csv(\"data/professionals.csv\")\n",
    "answers = pd.read_csv(\"data/answers.csv\")\n",
    "emails1 = pd.read_csv(\"data/emails1.csv\")\n",
    "emails2 = pd.read_csv(\"data/emails2.csv\")\n",
    "emails = pd.concat([emails1,emails2])\n",
    "questions = pd.read_csv(\"data/questions.csv\")\n",
    "matches1 = pd.read_csv(\"data/matches1.csv\")\n",
    "matches2 = pd.read_csv(\"data/matches2.csv\")\n",
    "matches3 = pd.read_csv(\"data/matches3.csv\")\n",
    "matches = pd.concat([matches1,matches2,matches3])\n",
    "answers_scores = pd.read_csv(\"data/answer_scores.csv\")\n",
    "group_members = pd.read_csv(\"data/group_memberships.csv\")\n",
    "schools_members = pd.read_csv(\"data/school_memberships.csv\")"
   ]
  },
  {
   "cell_type": "code",
   "execution_count": 89,
   "metadata": {},
   "outputs": [],
   "source": [
    "def get_user_tags(user_id):\n",
    "    user_tags = tag_users[tag_users[\"tag_users_user_id\"] == user_id][\"tag_users_tag_id\"]\n",
    "    tags_names =tags.loc[tags[\"tags_tag_id\"].isin(user_tags)]\n",
    "    return(tags)"
   ]
  },
  {
   "cell_type": "code",
   "execution_count": 90,
   "metadata": {},
   "outputs": [],
   "source": [
    "def get_user_answers(user_id):\n",
    "    all_answers = answers.loc[answers[\"answers_author_id\"]==user_id]\n",
    "    return all_answers"
   ]
  },
  {
   "cell_type": "code",
   "execution_count": 91,
   "metadata": {},
   "outputs": [],
   "source": [
    "def match_email_question(email_date):\n",
    "    f = lambda x: datetime.datetime.strptime(x, \"%Y-%m-%d %H:%M:%S UTC+0000\")\n",
    "    b  =f(email_date)\n",
    "    t = questions[\"questions_date_added\"].apply(f)\n",
    "    return questions.iloc[(b-t).abs().argsort()[:1]]"
   ]
  },
  {
   "cell_type": "code",
   "execution_count": 92,
   "metadata": {},
   "outputs": [],
   "source": [
    "# get only emails that were sent immediately after getting the question (ignore the weekly newsletter emails)\n",
    "immediate_emails = emails[emails[\"emails_frequency_level\"]==\"email_notification_immediate\"]\n",
    "\n",
    "# get the matches of the immediate emails only\n",
    "immediate_matches = matches[matches[\"matches_email_id\"].isin(immediate_emails[\"emails_id\"])]\n",
    "# get the emails that have their matches only (the data is missing the matches of some emails so we ignore those)\n",
    "immediate_emails = immediate_emails[immediate_emails[\"emails_id\"].isin(matches[\"matches_email_id\"])]\n",
    "# some renaming for convience\n",
    "immediate_emails = immediate_emails.rename(columns={'emails_id':\"id\"})\n",
    "immediate_matches = immediate_matches.rename(columns={'matches_email_id':\"id\"})\n",
    "# let's put the emails and their matches question id:\n",
    "emails_questions = pd.merge(immediate_emails, immediate_matches, how=\"left\", on=\"id\")\n",
    "#some renaming:\n",
    "emails_questions = emails_questions.rename(columns = {\"matches_question_id\": \"question_id\", \"emails_recipient_id\": \"professional_id\"})\n",
    "answers = answers.rename(columns = {\"answers_question_id\": \"question_id\", \"answers_author_id\": \"professional_id\"})\n",
    "\n",
    "# now, let's make a big data that has emails, questions sent, and answers. Note that some professionals provided more than\n",
    "# one answer to the same question. So this means the email Id will be repeated because it has two answers\n",
    "full_data = pd.merge(emails_questions, answers,how='left',  on=[\"professional_id\",\"question_id\" ])\n",
    "full_data = full_data.rename(columns = {\"id\": \"email_id\"})\n",
    "\n",
    "# get the target variable by looking ad the answer and putting 1 if it exists and 0 if not:\n",
    "target = full_data['answers_id'].fillna(0)\n",
    "target = pd.to_numeric(target, errors='coerce').fillna(1).astype(int) #here just turn str to NA then replace with 1\n",
    "full_data[\"q_answered?\"] = target\n",
    "\n",
    "# turn the email sent date into a datetime value instead of a string\n",
    "date_vectorizer = lambda x: datetime.datetime.strptime(x, \"%Y-%m-%d %H:%M:%S UTC+0000\")\n",
    "full_data[\"emails_date_sent\"] = full_data[\"emails_date_sent\"].apply(date_vectorizer)\n",
    "# turn the asnwer added data to datetime value instead of a string (while ignoring the NAs)\n",
    "indices = full_data[\"answers_date_added\"][full_data[\"answers_date_added\"].notnull()].index.values\n",
    "full_data.loc[indices, \"answers_date_added\"] = full_data[\"answers_date_added\"][full_data[\"answers_date_added\"].notnull()].apply(date_vectorizer)\n",
    "#adding the time taken for each professional to answer a question\n",
    "full_data[\"time_taken\"] =  pd.to_datetime(full_data[\"answers_date_added\"]) - pd.to_datetime(full_data[\"emails_date_sent\"])\n",
    "\n",
    "# some people were too active and answered the question even before the email was sent to them. So that would lead\n",
    "# to a negative time_taken. So we fix that by putting a zero for the time they took (they answered it immediately)\n",
    "indices2 = full_data[\"time_taken\"][full_data[\"time_taken\"] < datetime.timedelta( days=0)].index.values\n",
    "full_data.loc[indices2, \"time_taken\"]=datetime.timedelta(days=0, seconds=0,minutes=0, hours=0 )\n",
    "# get all the tags of each question\n",
    "tag_questions_names = pd.merge(tag_questions.rename(columns = {\"tag_questions_tag_id\":\"tag_id\"}), tags.rename(columns = {\"tags_tag_id\":\"tag_id\"}),how='left',  on=[\"tag_id\" ])\n",
    "tag_questions_names = tag_questions_names.rename(columns ={\"tag_questions_question_id\":\"question_id\", \"tags_tag_name\":\"tag_name\"})\n",
    "questions_tags = tag_questions_names.groupby(\"question_id\")[\"tag_name\"].apply(list).reset_index(name=\"q_tags\")\n",
    "full_data = pd.merge(full_data,questions_tags,how='left',  on=[\"question_id\" ])"
   ]
  },
  {
   "cell_type": "code",
   "execution_count": 93,
   "metadata": {},
   "outputs": [],
   "source": [
    "# creating a data for all the professionals\n",
    "professionals_dataset = pd.DataFrame(columns = [\"professional_id\"])\n",
    "professionals_dataset[\"professional_id\"] = professionals[\"professionals_id\"]\n",
    "# getting the response rate by counting the number of questions answered after the email was sent\n",
    "response = full_data.groupby(\"professional_id\").mean().drop(columns = [\"email_id\"]).reset_index()\n",
    "professionals_dataset = pd.merge(professionals_dataset, response,how='left',  on=[\"professional_id\" ])\n",
    "professionals_dataset = professionals_dataset.rename(columns = {\"q_answered?\": \"response_rate\"})\n",
    "\n",
    "# getting the average time they took to answer the question if they did\n",
    "grouped = full_data.groupby('professional_id')[\"time_taken\"]\n",
    "time_mean = grouped.apply(lambda x: np.mean(x))\n",
    "professionals_dataset = pd.merge(professionals_dataset, time_mean,how='left',  on=[\"professional_id\" ])\n",
    "professionals_dataset=  professionals_dataset.rename(columns ={\"time_taken\": \"avg_time_taken\"})\n",
    "# count the total number of questions that each professional answered (including those answered after email)\n",
    "answers_count = answers[\"professional_id\"].value_counts().reset_index().rename(columns = {\"professional_id\":\"number_q_answered\",\"index\":\"professional_id\",  })\n",
    "professionals_dataset = pd.merge(professionals_dataset, answers_count,how='left',  on=[\"professional_id\" ])\n",
    "professionals_dataset[\"number_q_answered\"]= professionals_dataset[\"number_q_answered\"].fillna(0)\n",
    "\n",
    "# get all the tags that each professional is following\n",
    "all_tags = pd.merge(tag_users.rename(columns = {\"tag_users_tag_id\": \"tag_id\"}),tags.rename(columns = {\"tags_tag_id\": \"tag_id\"}),how='left',  on=[\"tag_id\" ])\n",
    "foll_tags = all_tags.groupby('tag_users_user_id')['tags_tag_name'].apply(lambda x: list(set(x))).reset_index(name='following_tags').rename(columns = {\"tag_users_user_id\": \"professional_id\"})\n",
    "professionals_dataset = pd.merge(professionals_dataset, foll_tags,how='left',  on=[\"professional_id\" ])\n",
    "# get all the tags of the questions that he answered before\n",
    "a = full_data[[\"professional_id\",\"q_tags\"]][full_data[\"q_tags\"].notnull()].groupby(\"professional_id\")[\"q_tags\"].agg(sum).apply(lambda x: list(set(x)))\n",
    "professionals_dataset = pd.merge(professionals_dataset, a,how='left',  on=[\"professional_id\" ])\n",
    "professionals_dataset = professionals_dataset.rename(columns = {\"q_tags\": \"prev_q_tags\"})\n",
    "# get the average score for each professional\n",
    "\n",
    "prof_score = pd.merge(answers[[\"professional_id\",\"answers_id\" ]], answers_scores.rename(columns = {\"id\":\"answers_id\"}),how='left',  on=[\"answers_id\" ]).drop(columns = [\"answers_id\"])\n",
    "score_mean = prof_score.groupby(\"professional_id\").mean().reset_index()\n",
    "professionals_dataset = pd.merge(professionals_dataset,score_mean,how='left',  on=[\"professional_id\" ]).rename(columns = {\"score\":\"avg_ansrs_score\"})\n",
    "professionals_dataset[\"avg_ansrs_score\"] = professionals_dataset[\"avg_ansrs_score\"].fillna(0)\n",
    "# get the number of groups that each professional is following\n",
    "prof_grp = group_members[\"group_memberships_user_id\"].value_counts().reset_index().rename(columns = {\"index\":\"professional_id\", \"group_memberships_user_id\":\"num_groups\"})\n",
    "professionals_dataset = pd.merge(professionals_dataset,prof_grp,how='left',  on=[\"professional_id\" ])\n",
    "# get the number of schools that each professional is following\n",
    "prof_schl = schools_members[\"school_memberships_user_id\"].value_counts().reset_index().rename(columns = {\"index\":\"professional_id\", \"school_memberships_user_id\":\"num_schools\"})\n",
    "professionals_dataset = pd.merge(professionals_dataset,prof_schl,how='left',  on=[\"professional_id\" ])\n",
    "#get the answers to email ratio (#answers/#emails sent) for each professional\n",
    "\n",
    "prof_emls = immediate_emails[\"emails_recipient_id\"].value_counts().reset_index().rename(columns = {\"index\":\"professional_id\", \"emails_recipient_id\":\"num_emails\"})\n",
    "professionals_dataset = pd.merge(professionals_dataset,prof_emls,how='left',  on=[\"professional_id\" ])\n",
    "professionals_dataset[\"answrs_emails_ratio\"] = professionals_dataset[\"number_q_answered\"] / professionals_dataset[\"num_emails\"]\n"
   ]
  },
  {
   "cell_type": "code",
   "execution_count": 94,
   "metadata": {},
   "outputs": [
    {
     "data": {
      "text/html": [
       "<div>\n",
       "<style scoped>\n",
       "    .dataframe tbody tr th:only-of-type {\n",
       "        vertical-align: middle;\n",
       "    }\n",
       "\n",
       "    .dataframe tbody tr th {\n",
       "        vertical-align: top;\n",
       "    }\n",
       "\n",
       "    .dataframe thead th {\n",
       "        text-align: right;\n",
       "    }\n",
       "</style>\n",
       "<table border=\"1\" class=\"dataframe\">\n",
       "  <thead>\n",
       "    <tr style=\"text-align: right;\">\n",
       "      <th></th>\n",
       "      <th>Unnamed: 0_x</th>\n",
       "      <th>email_id</th>\n",
       "      <th>professional_id</th>\n",
       "      <th>emails_date_sent</th>\n",
       "      <th>emails_frequency_level</th>\n",
       "      <th>Unnamed: 0_y</th>\n",
       "      <th>question_id</th>\n",
       "      <th>answers_id</th>\n",
       "      <th>answers_date_added</th>\n",
       "      <th>answers_body</th>\n",
       "      <th>q_answered?</th>\n",
       "      <th>time_taken</th>\n",
       "      <th>q_tags</th>\n",
       "    </tr>\n",
       "  </thead>\n",
       "  <tbody>\n",
       "    <tr>\n",
       "      <th>0</th>\n",
       "      <td>292</td>\n",
       "      <td>508143</td>\n",
       "      <td>0c673e046d824ec0ad0ebe012a0673e4</td>\n",
       "      <td>2016-05-20 20:07:48</td>\n",
       "      <td>email_notification_immediate</td>\n",
       "      <td>3291613</td>\n",
       "      <td>b551946952ae4328864414a9164a95d8</td>\n",
       "      <td>NaN</td>\n",
       "      <td>NaN</td>\n",
       "      <td>NaN</td>\n",
       "      <td>0</td>\n",
       "      <td>NaT</td>\n",
       "      <td>[guidance-counselor, school-counselor, school,...</td>\n",
       "    </tr>\n",
       "  </tbody>\n",
       "</table>\n",
       "</div>"
      ],
      "text/plain": [
       "   Unnamed: 0_x  email_id                   professional_id  \\\n",
       "0           292    508143  0c673e046d824ec0ad0ebe012a0673e4   \n",
       "\n",
       "     emails_date_sent        emails_frequency_level  Unnamed: 0_y  \\\n",
       "0 2016-05-20 20:07:48  email_notification_immediate       3291613   \n",
       "\n",
       "                        question_id answers_id answers_date_added  \\\n",
       "0  b551946952ae4328864414a9164a95d8        NaN                NaN   \n",
       "\n",
       "  answers_body  q_answered? time_taken  \\\n",
       "0          NaN            0        NaT   \n",
       "\n",
       "                                              q_tags  \n",
       "0  [guidance-counselor, school-counselor, school,...  "
      ]
     },
     "execution_count": 94,
     "metadata": {},
     "output_type": "execute_result"
    }
   ],
   "source": [
    "full_data.head(1)"
   ]
  },
  {
   "cell_type": "code",
   "execution_count": 95,
   "metadata": {},
   "outputs": [
    {
     "data": {
      "text/html": [
       "<div>\n",
       "<style scoped>\n",
       "    .dataframe tbody tr th:only-of-type {\n",
       "        vertical-align: middle;\n",
       "    }\n",
       "\n",
       "    .dataframe tbody tr th {\n",
       "        vertical-align: top;\n",
       "    }\n",
       "\n",
       "    .dataframe thead th {\n",
       "        text-align: right;\n",
       "    }\n",
       "</style>\n",
       "<table border=\"1\" class=\"dataframe\">\n",
       "  <thead>\n",
       "    <tr style=\"text-align: right;\">\n",
       "      <th></th>\n",
       "      <th>professional_id</th>\n",
       "      <th>Unnamed: 0_x</th>\n",
       "      <th>Unnamed: 0_y</th>\n",
       "      <th>response_rate</th>\n",
       "      <th>avg_time_taken</th>\n",
       "      <th>number_q_answered</th>\n",
       "      <th>following_tags</th>\n",
       "      <th>prev_q_tags</th>\n",
       "      <th>avg_ansrs_score</th>\n",
       "      <th>num_groups</th>\n",
       "      <th>num_schools</th>\n",
       "      <th>num_emails</th>\n",
       "      <th>answrs_emails_ratio</th>\n",
       "    </tr>\n",
       "  </thead>\n",
       "  <tbody>\n",
       "    <tr>\n",
       "      <th>0</th>\n",
       "      <td>9ced4ce7519049c0944147afb75a8ce3</td>\n",
       "      <td>NaN</td>\n",
       "      <td>NaN</td>\n",
       "      <td>NaN</td>\n",
       "      <td>NaT</td>\n",
       "      <td>1.0</td>\n",
       "      <td>NaN</td>\n",
       "      <td>NaN</td>\n",
       "      <td>5.0</td>\n",
       "      <td>NaN</td>\n",
       "      <td>NaN</td>\n",
       "      <td>NaN</td>\n",
       "      <td>NaN</td>\n",
       "    </tr>\n",
       "  </tbody>\n",
       "</table>\n",
       "</div>"
      ],
      "text/plain": [
       "                    professional_id  Unnamed: 0_x  Unnamed: 0_y  \\\n",
       "0  9ced4ce7519049c0944147afb75a8ce3           NaN           NaN   \n",
       "\n",
       "   response_rate avg_time_taken  number_q_answered following_tags prev_q_tags  \\\n",
       "0            NaN            NaT                1.0            NaN         NaN   \n",
       "\n",
       "   avg_ansrs_score  num_groups  num_schools  num_emails  answrs_emails_ratio  \n",
       "0              5.0         NaN          NaN         NaN                  NaN  "
      ]
     },
     "execution_count": 95,
     "metadata": {},
     "output_type": "execute_result"
    }
   ],
   "source": [
    "professionals_dataset.head(1)"
   ]
  },
  {
   "cell_type": "code",
   "execution_count": null,
   "metadata": {},
   "outputs": [],
   "source": []
  },
  {
   "cell_type": "code",
   "execution_count": 96,
   "metadata": {},
   "outputs": [
    {
     "data": {
      "text/html": [
       "<div>\n",
       "<style scoped>\n",
       "    .dataframe tbody tr th:only-of-type {\n",
       "        vertical-align: middle;\n",
       "    }\n",
       "\n",
       "    .dataframe tbody tr th {\n",
       "        vertical-align: top;\n",
       "    }\n",
       "\n",
       "    .dataframe thead th {\n",
       "        text-align: right;\n",
       "    }\n",
       "</style>\n",
       "<table border=\"1\" class=\"dataframe\">\n",
       "  <thead>\n",
       "    <tr style=\"text-align: right;\">\n",
       "      <th></th>\n",
       "      <th>professional_id</th>\n",
       "      <th>Unnamed: 0_x</th>\n",
       "      <th>Unnamed: 0_y</th>\n",
       "      <th>response_rate</th>\n",
       "      <th>avg_time_taken</th>\n",
       "      <th>number_q_answered</th>\n",
       "      <th>following_tags</th>\n",
       "      <th>prev_q_tags</th>\n",
       "      <th>avg_ansrs_score</th>\n",
       "      <th>num_groups</th>\n",
       "      <th>num_schools</th>\n",
       "      <th>num_emails</th>\n",
       "      <th>answrs_emails_ratio</th>\n",
       "    </tr>\n",
       "  </thead>\n",
       "  <tbody>\n",
       "    <tr>\n",
       "      <th>10</th>\n",
       "      <td>7d425e8d7cfb4fe7b0702fff4d6d84e7</td>\n",
       "      <td>8.798182e+02</td>\n",
       "      <td>2.506310e+06</td>\n",
       "      <td>0.080808</td>\n",
       "      <td>0 days 09:07:59</td>\n",
       "      <td>43.0</td>\n",
       "      <td>[latin-america, political-science, teaching, t...</td>\n",
       "      <td>[educator, law, college-major, 3d-studio-max, ...</td>\n",
       "      <td>1.697674</td>\n",
       "      <td>NaN</td>\n",
       "      <td>NaN</td>\n",
       "      <td>198.0</td>\n",
       "      <td>0.217172</td>\n",
       "    </tr>\n",
       "    <tr>\n",
       "      <th>15</th>\n",
       "      <td>68ecc66323b8418092fdd724aaf5be94</td>\n",
       "      <td>1.864500e+03</td>\n",
       "      <td>2.500534e+06</td>\n",
       "      <td>0.071429</td>\n",
       "      <td>0 days 05:15:37</td>\n",
       "      <td>9.0</td>\n",
       "      <td>[event-planning, hospitality]</td>\n",
       "      <td>[relations, communications, leisure, actress, ...</td>\n",
       "      <td>2.222222</td>\n",
       "      <td>NaN</td>\n",
       "      <td>NaN</td>\n",
       "      <td>14.0</td>\n",
       "      <td>0.642857</td>\n",
       "    </tr>\n",
       "    <tr>\n",
       "      <th>27</th>\n",
       "      <td>2a8328f6ceb548699a64293f986f3d19</td>\n",
       "      <td>3.964516e+03</td>\n",
       "      <td>2.525227e+06</td>\n",
       "      <td>0.048387</td>\n",
       "      <td>0 days 18:13:05.333333</td>\n",
       "      <td>15.0</td>\n",
       "      <td>[law, international]</td>\n",
       "      <td>[relations, personal-injury, undercover, legal...</td>\n",
       "      <td>2.933333</td>\n",
       "      <td>NaN</td>\n",
       "      <td>NaN</td>\n",
       "      <td>124.0</td>\n",
       "      <td>0.120968</td>\n",
       "    </tr>\n",
       "    <tr>\n",
       "      <th>50</th>\n",
       "      <td>70f812ce6f57465fa79531f8c56ecdf8</td>\n",
       "      <td>7.383153e+03</td>\n",
       "      <td>2.396877e+06</td>\n",
       "      <td>0.016949</td>\n",
       "      <td>0 days 00:28:37</td>\n",
       "      <td>2.0</td>\n",
       "      <td>[technology]</td>\n",
       "      <td>[genetics, higher-education, technician, high-...</td>\n",
       "      <td>2.000000</td>\n",
       "      <td>NaN</td>\n",
       "      <td>NaN</td>\n",
       "      <td>59.0</td>\n",
       "      <td>0.033898</td>\n",
       "    </tr>\n",
       "    <tr>\n",
       "      <th>52</th>\n",
       "      <td>1e4cc96c24344c8b806c26c3e6746167</td>\n",
       "      <td>7.543765e+03</td>\n",
       "      <td>2.462448e+06</td>\n",
       "      <td>0.117647</td>\n",
       "      <td>0 days 00:14:58</td>\n",
       "      <td>14.0</td>\n",
       "      <td>[restaurants, restaurant, food]</td>\n",
       "      <td>[college-major, job-search, schooling, food-an...</td>\n",
       "      <td>2.142857</td>\n",
       "      <td>NaN</td>\n",
       "      <td>NaN</td>\n",
       "      <td>17.0</td>\n",
       "      <td>0.823529</td>\n",
       "    </tr>\n",
       "    <tr>\n",
       "      <th>...</th>\n",
       "      <td>...</td>\n",
       "      <td>...</td>\n",
       "      <td>...</td>\n",
       "      <td>...</td>\n",
       "      <td>...</td>\n",
       "      <td>...</td>\n",
       "      <td>...</td>\n",
       "      <td>...</td>\n",
       "      <td>...</td>\n",
       "      <td>...</td>\n",
       "      <td>...</td>\n",
       "      <td>...</td>\n",
       "      <td>...</td>\n",
       "    </tr>\n",
       "    <tr>\n",
       "      <th>19094</th>\n",
       "      <td>9f045ce7ac9e45bba07858a8e8be39c6</td>\n",
       "      <td>1.719547e+06</td>\n",
       "      <td>1.642991e+06</td>\n",
       "      <td>0.043478</td>\n",
       "      <td>0 days 01:39:00</td>\n",
       "      <td>1.0</td>\n",
       "      <td>[financial-services, mortgage-lending2, mortga...</td>\n",
       "      <td>[credit, studyabroad, college-student, job-sea...</td>\n",
       "      <td>0.000000</td>\n",
       "      <td>NaN</td>\n",
       "      <td>NaN</td>\n",
       "      <td>23.0</td>\n",
       "      <td>0.043478</td>\n",
       "    </tr>\n",
       "    <tr>\n",
       "      <th>21397</th>\n",
       "      <td>85043fa9a4db46199558715bb2b0b490</td>\n",
       "      <td>1.781618e+06</td>\n",
       "      <td>1.447522e+06</td>\n",
       "      <td>0.137931</td>\n",
       "      <td>0 days 13:22:11.250000</td>\n",
       "      <td>47.0</td>\n",
       "      <td>[performing-arts, social-services, case-manage...</td>\n",
       "      <td>[housing, college-major, occupationaltherapy, ...</td>\n",
       "      <td>0.063830</td>\n",
       "      <td>NaN</td>\n",
       "      <td>3.0</td>\n",
       "      <td>116.0</td>\n",
       "      <td>0.405172</td>\n",
       "    </tr>\n",
       "    <tr>\n",
       "      <th>22677</th>\n",
       "      <td>e2b4c84bf1ca4aea9b108869692d8017</td>\n",
       "      <td>1.798968e+06</td>\n",
       "      <td>1.334372e+06</td>\n",
       "      <td>0.677966</td>\n",
       "      <td>1 days 09:40:49.400000</td>\n",
       "      <td>133.0</td>\n",
       "      <td>[information-technology-and-services, unix, ps...</td>\n",
       "      <td>[electricalengineering, controlsystems, law, c...</td>\n",
       "      <td>0.195489</td>\n",
       "      <td>NaN</td>\n",
       "      <td>NaN</td>\n",
       "      <td>109.0</td>\n",
       "      <td>1.220183</td>\n",
       "    </tr>\n",
       "    <tr>\n",
       "      <th>24454</th>\n",
       "      <td>a7bf251a290b418e923e8f04a67b7ebb</td>\n",
       "      <td>1.827599e+06</td>\n",
       "      <td>5.043470e+05</td>\n",
       "      <td>1.000000</td>\n",
       "      <td>0 days 02:52:16</td>\n",
       "      <td>13.0</td>\n",
       "      <td>[game-development, 3d-graphics, computer-softw...</td>\n",
       "      <td>[mechanicalengineering, electricalengineering,...</td>\n",
       "      <td>0.384615</td>\n",
       "      <td>2.0</td>\n",
       "      <td>1.0</td>\n",
       "      <td>1.0</td>\n",
       "      <td>13.000000</td>\n",
       "    </tr>\n",
       "    <tr>\n",
       "      <th>25510</th>\n",
       "      <td>ef090fcc6d34434986ee59e2451b1f96</td>\n",
       "      <td>1.837739e+06</td>\n",
       "      <td>1.529676e+06</td>\n",
       "      <td>0.021277</td>\n",
       "      <td>0 days 06:54:29</td>\n",
       "      <td>2.0</td>\n",
       "      <td>[college, counseling, admissions, higher-educa...</td>\n",
       "      <td>[law, college-major, any, high-school, job-sea...</td>\n",
       "      <td>0.000000</td>\n",
       "      <td>NaN</td>\n",
       "      <td>NaN</td>\n",
       "      <td>47.0</td>\n",
       "      <td>0.042553</td>\n",
       "    </tr>\n",
       "  </tbody>\n",
       "</table>\n",
       "<p>873 rows × 13 columns</p>\n",
       "</div>"
      ],
      "text/plain": [
       "                        professional_id  Unnamed: 0_x  Unnamed: 0_y  \\\n",
       "10     7d425e8d7cfb4fe7b0702fff4d6d84e7  8.798182e+02  2.506310e+06   \n",
       "15     68ecc66323b8418092fdd724aaf5be94  1.864500e+03  2.500534e+06   \n",
       "27     2a8328f6ceb548699a64293f986f3d19  3.964516e+03  2.525227e+06   \n",
       "50     70f812ce6f57465fa79531f8c56ecdf8  7.383153e+03  2.396877e+06   \n",
       "52     1e4cc96c24344c8b806c26c3e6746167  7.543765e+03  2.462448e+06   \n",
       "...                                 ...           ...           ...   \n",
       "19094  9f045ce7ac9e45bba07858a8e8be39c6  1.719547e+06  1.642991e+06   \n",
       "21397  85043fa9a4db46199558715bb2b0b490  1.781618e+06  1.447522e+06   \n",
       "22677  e2b4c84bf1ca4aea9b108869692d8017  1.798968e+06  1.334372e+06   \n",
       "24454  a7bf251a290b418e923e8f04a67b7ebb  1.827599e+06  5.043470e+05   \n",
       "25510  ef090fcc6d34434986ee59e2451b1f96  1.837739e+06  1.529676e+06   \n",
       "\n",
       "       response_rate         avg_time_taken  number_q_answered  \\\n",
       "10          0.080808        0 days 09:07:59               43.0   \n",
       "15          0.071429        0 days 05:15:37                9.0   \n",
       "27          0.048387 0 days 18:13:05.333333               15.0   \n",
       "50          0.016949        0 days 00:28:37                2.0   \n",
       "52          0.117647        0 days 00:14:58               14.0   \n",
       "...              ...                    ...                ...   \n",
       "19094       0.043478        0 days 01:39:00                1.0   \n",
       "21397       0.137931 0 days 13:22:11.250000               47.0   \n",
       "22677       0.677966 1 days 09:40:49.400000              133.0   \n",
       "24454       1.000000        0 days 02:52:16               13.0   \n",
       "25510       0.021277        0 days 06:54:29                2.0   \n",
       "\n",
       "                                          following_tags  \\\n",
       "10     [latin-america, political-science, teaching, t...   \n",
       "15                         [event-planning, hospitality]   \n",
       "27                                  [law, international]   \n",
       "50                                          [technology]   \n",
       "52                       [restaurants, restaurant, food]   \n",
       "...                                                  ...   \n",
       "19094  [financial-services, mortgage-lending2, mortga...   \n",
       "21397  [performing-arts, social-services, case-manage...   \n",
       "22677  [information-technology-and-services, unix, ps...   \n",
       "24454  [game-development, 3d-graphics, computer-softw...   \n",
       "25510  [college, counseling, admissions, higher-educa...   \n",
       "\n",
       "                                             prev_q_tags  avg_ansrs_score  \\\n",
       "10     [educator, law, college-major, 3d-studio-max, ...         1.697674   \n",
       "15     [relations, communications, leisure, actress, ...         2.222222   \n",
       "27     [relations, personal-injury, undercover, legal...         2.933333   \n",
       "50     [genetics, higher-education, technician, high-...         2.000000   \n",
       "52     [college-major, job-search, schooling, food-an...         2.142857   \n",
       "...                                                  ...              ...   \n",
       "19094  [credit, studyabroad, college-student, job-sea...         0.000000   \n",
       "21397  [housing, college-major, occupationaltherapy, ...         0.063830   \n",
       "22677  [electricalengineering, controlsystems, law, c...         0.195489   \n",
       "24454  [mechanicalengineering, electricalengineering,...         0.384615   \n",
       "25510  [law, college-major, any, high-school, job-sea...         0.000000   \n",
       "\n",
       "       num_groups  num_schools  num_emails  answrs_emails_ratio  \n",
       "10            NaN          NaN       198.0             0.217172  \n",
       "15            NaN          NaN        14.0             0.642857  \n",
       "27            NaN          NaN       124.0             0.120968  \n",
       "50            NaN          NaN        59.0             0.033898  \n",
       "52            NaN          NaN        17.0             0.823529  \n",
       "...           ...          ...         ...                  ...  \n",
       "19094         NaN          NaN        23.0             0.043478  \n",
       "21397         NaN          3.0       116.0             0.405172  \n",
       "22677         NaN          NaN       109.0             1.220183  \n",
       "24454         2.0          1.0         1.0            13.000000  \n",
       "25510         NaN          NaN        47.0             0.042553  \n",
       "\n",
       "[873 rows x 13 columns]"
      ]
     },
     "execution_count": 96,
     "metadata": {},
     "output_type": "execute_result"
    }
   ],
   "source": [
    "professionals_dataset[professionals_dataset.avg_time_taken.notnull()]"
   ]
  },
  {
   "cell_type": "code",
   "execution_count": null,
   "metadata": {},
   "outputs": [],
   "source": []
  },
  {
   "cell_type": "code",
   "execution_count": 97,
   "metadata": {},
   "outputs": [],
   "source": [
    "def Intersection(topics1, topics2):\n",
    "    \"\"\"\n",
    "    Number of topics in common\n",
    "    \"\"\"\n",
    "    return len(set(topics1).intersection(topics2))\n",
    "def IoU(topics1, topics2): \n",
    "    \"\"\"\n",
    "    Intersection over Union: number of intersecting topics over the total number of topics\n",
    "    \n",
    "    \"\"\"\n",
    "    return (len(set(topics1).intersection(topics2))/ (len(topics1)+len(topics2)))\n",
    "def IoI(topics1, topics2):\n",
    "    \"\"\"\n",
    "    Intersection over Interest: number of intersecting topics over the number of topics of the prof's interest\n",
    "    \"\"\"\n",
    "    return (len(set(topics1).intersection(topics2))/ (len(topics1)))"
   ]
  },
  {
   "cell_type": "code",
   "execution_count": 98,
   "metadata": {},
   "outputs": [],
   "source": [
    "model_dataset = pd.merge(full_data,professionals_dataset,how='left',  on=[\"professional_id\" ])"
   ]
  },
  {
   "cell_type": "code",
   "execution_count": 99,
   "metadata": {},
   "outputs": [],
   "source": [
    "model_dataset[\"following_tags\"]= model_dataset[\"following_tags\"].fillna(\"Na\")\n",
    "model_dataset[\"prev_q_tags\"]= model_dataset[\"prev_q_tags\"].fillna(\"Na\")\n",
    "model_dataset[\"q_tags\"]= model_dataset[\"q_tags\"].fillna(\"Na\")"
   ]
  },
  {
   "cell_type": "code",
   "execution_count": 100,
   "metadata": {},
   "outputs": [],
   "source": [
    "follow_I = model_dataset.apply(lambda x: Intersection(x.following_tags, x.q_tags), axis=1)\n",
    "follow_IoI = model_dataset.apply(lambda x: IoI(x.following_tags, x.q_tags), axis=1)\n",
    "follow_IoU = model_dataset.apply(lambda x: IoU(x.following_tags, x.q_tags), axis=1)\n",
    "\n",
    "prev_I = model_dataset.apply(lambda x: Intersection(x.prev_q_tags, x.q_tags), axis=1)\n",
    "\n",
    "model_dataset[\"follow_I\"]=follow_I\n",
    "model_dataset[\"follow_IoI\"]=follow_IoI\n",
    "model_dataset[\"follow_IoU\"]=follow_IoU\n",
    "model_dataset[\"prev_I\"]=prev_I"
   ]
  },
  {
   "cell_type": "code",
   "execution_count": 101,
   "metadata": {},
   "outputs": [
    {
     "data": {
      "text/html": [
       "<div>\n",
       "<style scoped>\n",
       "    .dataframe tbody tr th:only-of-type {\n",
       "        vertical-align: middle;\n",
       "    }\n",
       "\n",
       "    .dataframe tbody tr th {\n",
       "        vertical-align: top;\n",
       "    }\n",
       "\n",
       "    .dataframe thead th {\n",
       "        text-align: right;\n",
       "    }\n",
       "</style>\n",
       "<table border=\"1\" class=\"dataframe\">\n",
       "  <thead>\n",
       "    <tr style=\"text-align: right;\">\n",
       "      <th></th>\n",
       "      <th>Unnamed: 0_x_x</th>\n",
       "      <th>email_id</th>\n",
       "      <th>professional_id</th>\n",
       "      <th>emails_date_sent</th>\n",
       "      <th>emails_frequency_level</th>\n",
       "      <th>Unnamed: 0_y_x</th>\n",
       "      <th>question_id</th>\n",
       "      <th>answers_id</th>\n",
       "      <th>answers_date_added</th>\n",
       "      <th>answers_body</th>\n",
       "      <th>...</th>\n",
       "      <th>prev_q_tags</th>\n",
       "      <th>avg_ansrs_score</th>\n",
       "      <th>num_groups</th>\n",
       "      <th>num_schools</th>\n",
       "      <th>num_emails</th>\n",
       "      <th>answrs_emails_ratio</th>\n",
       "      <th>follow_I</th>\n",
       "      <th>follow_IoI</th>\n",
       "      <th>follow_IoU</th>\n",
       "      <th>prev_I</th>\n",
       "    </tr>\n",
       "  </thead>\n",
       "  <tbody>\n",
       "    <tr>\n",
       "      <th>0</th>\n",
       "      <td>292</td>\n",
       "      <td>508143</td>\n",
       "      <td>0c673e046d824ec0ad0ebe012a0673e4</td>\n",
       "      <td>2016-05-20 20:07:48</td>\n",
       "      <td>email_notification_immediate</td>\n",
       "      <td>3291613</td>\n",
       "      <td>b551946952ae4328864414a9164a95d8</td>\n",
       "      <td>NaN</td>\n",
       "      <td>NaN</td>\n",
       "      <td>NaN</td>\n",
       "      <td>...</td>\n",
       "      <td>[educator, college-major, law, higher-educatio...</td>\n",
       "      <td>1.974359</td>\n",
       "      <td>NaN</td>\n",
       "      <td>NaN</td>\n",
       "      <td>70.0</td>\n",
       "      <td>0.557143</td>\n",
       "      <td>1</td>\n",
       "      <td>0.2</td>\n",
       "      <td>0.1</td>\n",
       "      <td>5</td>\n",
       "    </tr>\n",
       "  </tbody>\n",
       "</table>\n",
       "<p>1 rows × 29 columns</p>\n",
       "</div>"
      ],
      "text/plain": [
       "   Unnamed: 0_x_x  email_id                   professional_id  \\\n",
       "0             292    508143  0c673e046d824ec0ad0ebe012a0673e4   \n",
       "\n",
       "     emails_date_sent        emails_frequency_level  Unnamed: 0_y_x  \\\n",
       "0 2016-05-20 20:07:48  email_notification_immediate         3291613   \n",
       "\n",
       "                        question_id answers_id answers_date_added  \\\n",
       "0  b551946952ae4328864414a9164a95d8        NaN                NaN   \n",
       "\n",
       "  answers_body  ...                                        prev_q_tags  \\\n",
       "0          NaN  ...  [educator, college-major, law, higher-educatio...   \n",
       "\n",
       "  avg_ansrs_score num_groups  num_schools  num_emails  answrs_emails_ratio  \\\n",
       "0        1.974359        NaN          NaN        70.0             0.557143   \n",
       "\n",
       "  follow_I  follow_IoI follow_IoU prev_I  \n",
       "0        1         0.2        0.1      5  \n",
       "\n",
       "[1 rows x 29 columns]"
      ]
     },
     "execution_count": 101,
     "metadata": {},
     "output_type": "execute_result"
    }
   ],
   "source": [
    "model_dataset.head(1)"
   ]
  },
  {
   "cell_type": "code",
   "execution_count": 102,
   "metadata": {},
   "outputs": [
    {
     "data": {
      "text/plain": [
       "Index(['Unnamed: 0_x_x', 'email_id', 'professional_id', 'emails_date_sent',\n",
       "       'emails_frequency_level', 'Unnamed: 0_y_x', 'question_id', 'answers_id',\n",
       "       'answers_date_added', 'answers_body', 'q_answered?', 'time_taken',\n",
       "       'q_tags', 'Unnamed: 0_x_y', 'Unnamed: 0_y_y', 'response_rate',\n",
       "       'avg_time_taken', 'number_q_answered', 'following_tags', 'prev_q_tags',\n",
       "       'avg_ansrs_score', 'num_groups', 'num_schools', 'num_emails',\n",
       "       'answrs_emails_ratio', 'follow_I', 'follow_IoI', 'follow_IoU',\n",
       "       'prev_I'],\n",
       "      dtype='object')"
      ]
     },
     "execution_count": 102,
     "metadata": {},
     "output_type": "execute_result"
    }
   ],
   "source": [
    "model_dataset.columns"
   ]
  },
  {
   "cell_type": "code",
   "execution_count": 103,
   "metadata": {},
   "outputs": [],
   "source": [
    "model_dataset1 = model_dataset.drop(columns = [\"email_id\", \"emails_date_sent\", \"answers_id\", \"answers_date_added\", \"answers_body\", \"time_taken\",\n",
    "                              \"Unnamed: 0_x_x\",\"Unnamed: 0_x_y\",\"Unnamed: 0_y_x\",\"Unnamed: 0_y_y\"])"
   ]
  },
  {
   "cell_type": "code",
   "execution_count": 104,
   "metadata": {},
   "outputs": [],
   "source": [
    "model_dataset = model_dataset.drop(columns = [\"email_id\", \"professional_id\", \"emails_date_sent\", \"emails_frequency_level\",\n",
    "                              \"answers_id\", \"answers_date_added\", \"answers_body\", \"time_taken\",\n",
    "                              \"q_tags\", \"following_tags\", \"prev_q_tags\",\"Unnamed: 0_x_x\",\"Unnamed: 0_x_y\",\"Unnamed: 0_y_x\",\"Unnamed: 0_y_y\"])"
   ]
  },
  {
   "cell_type": "code",
   "execution_count": 105,
   "metadata": {},
   "outputs": [
    {
     "data": {
      "text/plain": [
       "<matplotlib.axes._subplots.AxesSubplot at 0x7fd7a4f5d310>"
      ]
     },
     "execution_count": 105,
     "metadata": {},
     "output_type": "execute_result"
    },
    {
     "data": {
      "image/png": "[encoded data removed]",
      "text/plain": [
       "<Figure size 432x288 with 2 Axes>"
      ]
     },
     "metadata": {
      "needs_background": "light"
     },
     "output_type": "display_data"
    }
   ],
   "source": [
    "cols = model_dataset.columns\n",
    "colours = ['#000099', '#ffff00'] # specify the colours - yellow is missing. blue is not missing.\n",
    "sns.heatmap(model_dataset[cols].isnull(), cmap=sns.color_palette(colours))"
   ]
  },
  {
   "cell_type": "code",
   "execution_count": 106,
   "metadata": {},
   "outputs": [],
   "source": [
    "model_dataset[\"num_schools\"]  =model_dataset[\"num_schools\"].fillna(0)\n",
    "model_dataset[\"num_groups\"] = model_dataset[\"num_groups\"].fillna(0)"
   ]
  },
  {
   "cell_type": "code",
   "execution_count": 107,
   "metadata": {},
   "outputs": [],
   "source": [
    "model_dataset[\"avg_time_taken\"]= model_dataset[\"avg_time_taken\"][model_dataset[\"avg_time_taken\"].notnull()].apply(lambda x: x.total_seconds()/3600)"
   ]
  },
  {
   "cell_type": "code",
   "execution_count": 108,
   "metadata": {},
   "outputs": [
    {
     "data": {
      "text/plain": [
       "count    112383.000000\n",
       "mean        212.373288\n",
       "std         971.146922\n",
       "min           0.000000\n",
       "25%           2.229907\n",
       "50%          11.692668\n",
       "75%          47.353889\n",
       "max       12390.666667\n",
       "Name: avg_time_taken, dtype: float64"
      ]
     },
     "execution_count": 108,
     "metadata": {},
     "output_type": "execute_result"
    }
   ],
   "source": [
    "model_dataset[\"avg_time_taken\"].describe()"
   ]
  },
  {
   "cell_type": "code",
   "execution_count": 109,
   "metadata": {},
   "outputs": [],
   "source": [
    "med = model_dataset[\"avg_time_taken\"].median()\n",
    "model_dataset[\"avg_time_taken\"] = model_dataset[\"avg_time_taken\"].fillna(med)"
   ]
  },
  {
   "cell_type": "code",
   "execution_count": 110,
   "metadata": {},
   "outputs": [],
   "source": [
    "positive = model_dataset[ model_dataset[\"q_answered?\"] != 0]\n",
    "negative = model_dataset[ model_dataset[\"q_answered?\"] == 0]"
   ]
  },
  {
   "cell_type": "code",
   "execution_count": 111,
   "metadata": {},
   "outputs": [],
   "source": [
    "negative_sample = negative.sample(5000)"
   ]
  },
  {
   "cell_type": "code",
   "execution_count": 112,
   "metadata": {},
   "outputs": [],
   "source": [
    "resampled_data = pd.concat([positive,negative_sample ])"
   ]
  },
  {
   "cell_type": "code",
   "execution_count": 113,
   "metadata": {},
   "outputs": [],
   "source": [
    "target = resampled_data[\"q_answered?\"]\n",
    "resampled_data = resampled_data.drop(columns = [\"q_answered?\"])"
   ]
  },
  {
   "cell_type": "code",
   "execution_count": 114,
   "metadata": {},
   "outputs": [],
   "source": [
    "from sklearn.linear_model import LogisticRegression\n",
    "from sklearn.model_selection import train_test_split"
   ]
  },
  {
   "cell_type": "code",
   "execution_count": 115,
   "metadata": {},
   "outputs": [],
   "source": [
    "x_train, x_test, y_train, y_test = train_test_split(resampled_data, target, test_size=0.2, random_state=42)"
   ]
  },
  {
   "cell_type": "code",
   "execution_count": 116,
   "metadata": {},
   "outputs": [
    {
     "ename": "ValueError",
     "evalue": "could not convert string to float: '430b599362944d3383e8060552103bbb'",
     "output_type": "error",
     "traceback": [
      "\u001b[0;31m---------------------------------------------------------------------------\u001b[0m",
      "\u001b[0;31mValueError\u001b[0m                                Traceback (most recent call last)",
      "\u001b[0;32m<ipython-input-116-0cc9d0b2a073>\u001b[0m in \u001b[0;36m<module>\u001b[0;34m\u001b[0m\n\u001b[1;32m      1\u001b[0m \u001b[0mLR\u001b[0m \u001b[0;34m=\u001b[0m \u001b[0mLogisticRegression\u001b[0m\u001b[0;34m(\u001b[0m\u001b[0mmax_iter\u001b[0m \u001b[0;34m=\u001b[0m \u001b[0;36m10000\u001b[0m\u001b[0;34m)\u001b[0m\u001b[0;34m\u001b[0m\u001b[0;34m\u001b[0m\u001b[0m\n\u001b[0;32m----> 2\u001b[0;31m \u001b[0mLR\u001b[0m\u001b[0;34m.\u001b[0m\u001b[0mfit\u001b[0m\u001b[0;34m(\u001b[0m\u001b[0mx_train\u001b[0m\u001b[0;34m,\u001b[0m \u001b[0my_train\u001b[0m\u001b[0;34m)\u001b[0m\u001b[0;34m\u001b[0m\u001b[0;34m\u001b[0m\u001b[0m\n\u001b[0m",
      "\u001b[0;32m~/opt/anaconda3/lib/python3.8/site-packages/sklearn/linear_model/_logistic.py\u001b[0m in \u001b[0;36mfit\u001b[0;34m(self, X, y, sample_weight)\u001b[0m\n\u001b[1;32m   1340\u001b[0m             \u001b[0m_dtype\u001b[0m \u001b[0;34m=\u001b[0m \u001b[0;34m[\u001b[0m\u001b[0mnp\u001b[0m\u001b[0;34m.\u001b[0m\u001b[0mfloat64\u001b[0m\u001b[0;34m,\u001b[0m \u001b[0mnp\u001b[0m\u001b[0;34m.\u001b[0m\u001b[0mfloat32\u001b[0m\u001b[0;34m]\u001b[0m\u001b[0;34m\u001b[0m\u001b[0;34m\u001b[0m\u001b[0m\n\u001b[1;32m   1341\u001b[0m \u001b[0;34m\u001b[0m\u001b[0m\n\u001b[0;32m-> 1342\u001b[0;31m         X, y = self._validate_data(X, y, accept_sparse='csr', dtype=_dtype,\n\u001b[0m\u001b[1;32m   1343\u001b[0m                                    \u001b[0morder\u001b[0m\u001b[0;34m=\u001b[0m\u001b[0;34m\"C\"\u001b[0m\u001b[0;34m,\u001b[0m\u001b[0;34m\u001b[0m\u001b[0;34m\u001b[0m\u001b[0m\n\u001b[1;32m   1344\u001b[0m                                    accept_large_sparse=solver != 'liblinear')\n",
      "\u001b[0;32m~/opt/anaconda3/lib/python3.8/site-packages/sklearn/base.py\u001b[0m in \u001b[0;36m_validate_data\u001b[0;34m(self, X, y, reset, validate_separately, **check_params)\u001b[0m\n\u001b[1;32m    430\u001b[0m                 \u001b[0my\u001b[0m \u001b[0;34m=\u001b[0m \u001b[0mcheck_array\u001b[0m\u001b[0;34m(\u001b[0m\u001b[0my\u001b[0m\u001b[0;34m,\u001b[0m \u001b[0;34m**\u001b[0m\u001b[0mcheck_y_params\u001b[0m\u001b[0;34m)\u001b[0m\u001b[0;34m\u001b[0m\u001b[0;34m\u001b[0m\u001b[0m\n\u001b[1;32m    431\u001b[0m             \u001b[0;32melse\u001b[0m\u001b[0;34m:\u001b[0m\u001b[0;34m\u001b[0m\u001b[0;34m\u001b[0m\u001b[0m\n\u001b[0;32m--> 432\u001b[0;31m                 \u001b[0mX\u001b[0m\u001b[0;34m,\u001b[0m \u001b[0my\u001b[0m \u001b[0;34m=\u001b[0m \u001b[0mcheck_X_y\u001b[0m\u001b[0;34m(\u001b[0m\u001b[0mX\u001b[0m\u001b[0;34m,\u001b[0m \u001b[0my\u001b[0m\u001b[0;34m,\u001b[0m \u001b[0;34m**\u001b[0m\u001b[0mcheck_params\u001b[0m\u001b[0;34m)\u001b[0m\u001b[0;34m\u001b[0m\u001b[0;34m\u001b[0m\u001b[0m\n\u001b[0m\u001b[1;32m    433\u001b[0m             \u001b[0mout\u001b[0m \u001b[0;34m=\u001b[0m \u001b[0mX\u001b[0m\u001b[0;34m,\u001b[0m \u001b[0my\u001b[0m\u001b[0;34m\u001b[0m\u001b[0;34m\u001b[0m\u001b[0m\n\u001b[1;32m    434\u001b[0m \u001b[0;34m\u001b[0m\u001b[0m\n",
      "\u001b[0;32m~/opt/anaconda3/lib/python3.8/site-packages/sklearn/utils/validation.py\u001b[0m in \u001b[0;36minner_f\u001b[0;34m(*args, **kwargs)\u001b[0m\n\u001b[1;32m     71\u001b[0m                           FutureWarning)\n\u001b[1;32m     72\u001b[0m         \u001b[0mkwargs\u001b[0m\u001b[0;34m.\u001b[0m\u001b[0mupdate\u001b[0m\u001b[0;34m(\u001b[0m\u001b[0;34m{\u001b[0m\u001b[0mk\u001b[0m\u001b[0;34m:\u001b[0m \u001b[0marg\u001b[0m \u001b[0;32mfor\u001b[0m \u001b[0mk\u001b[0m\u001b[0;34m,\u001b[0m \u001b[0marg\u001b[0m \u001b[0;32min\u001b[0m \u001b[0mzip\u001b[0m\u001b[0;34m(\u001b[0m\u001b[0msig\u001b[0m\u001b[0;34m.\u001b[0m\u001b[0mparameters\u001b[0m\u001b[0;34m,\u001b[0m \u001b[0margs\u001b[0m\u001b[0;34m)\u001b[0m\u001b[0;34m}\u001b[0m\u001b[0;34m)\u001b[0m\u001b[0;34m\u001b[0m\u001b[0;34m\u001b[0m\u001b[0m\n\u001b[0;32m---> 73\u001b[0;31m         \u001b[0;32mreturn\u001b[0m \u001b[0mf\u001b[0m\u001b[0;34m(\u001b[0m\u001b[0;34m**\u001b[0m\u001b[0mkwargs\u001b[0m\u001b[0;34m)\u001b[0m\u001b[0;34m\u001b[0m\u001b[0;34m\u001b[0m\u001b[0m\n\u001b[0m\u001b[1;32m     74\u001b[0m     \u001b[0;32mreturn\u001b[0m \u001b[0minner_f\u001b[0m\u001b[0;34m\u001b[0m\u001b[0;34m\u001b[0m\u001b[0m\n\u001b[1;32m     75\u001b[0m \u001b[0;34m\u001b[0m\u001b[0m\n",
      "\u001b[0;32m~/opt/anaconda3/lib/python3.8/site-packages/sklearn/utils/validation.py\u001b[0m in \u001b[0;36mcheck_X_y\u001b[0;34m(X, y, accept_sparse, accept_large_sparse, dtype, order, copy, force_all_finite, ensure_2d, allow_nd, multi_output, ensure_min_samples, ensure_min_features, y_numeric, estimator)\u001b[0m\n\u001b[1;32m    794\u001b[0m         \u001b[0;32mraise\u001b[0m \u001b[0mValueError\u001b[0m\u001b[0;34m(\u001b[0m\u001b[0;34m\"y cannot be None\"\u001b[0m\u001b[0;34m)\u001b[0m\u001b[0;34m\u001b[0m\u001b[0;34m\u001b[0m\u001b[0m\n\u001b[1;32m    795\u001b[0m \u001b[0;34m\u001b[0m\u001b[0m\n\u001b[0;32m--> 796\u001b[0;31m     X = check_array(X, accept_sparse=accept_sparse,\n\u001b[0m\u001b[1;32m    797\u001b[0m                     \u001b[0maccept_large_sparse\u001b[0m\u001b[0;34m=\u001b[0m\u001b[0maccept_large_sparse\u001b[0m\u001b[0;34m,\u001b[0m\u001b[0;34m\u001b[0m\u001b[0;34m\u001b[0m\u001b[0m\n\u001b[1;32m    798\u001b[0m                     \u001b[0mdtype\u001b[0m\u001b[0;34m=\u001b[0m\u001b[0mdtype\u001b[0m\u001b[0;34m,\u001b[0m \u001b[0morder\u001b[0m\u001b[0;34m=\u001b[0m\u001b[0morder\u001b[0m\u001b[0;34m,\u001b[0m \u001b[0mcopy\u001b[0m\u001b[0;34m=\u001b[0m\u001b[0mcopy\u001b[0m\u001b[0;34m,\u001b[0m\u001b[0;34m\u001b[0m\u001b[0;34m\u001b[0m\u001b[0m\n",
      "\u001b[0;32m~/opt/anaconda3/lib/python3.8/site-packages/sklearn/utils/validation.py\u001b[0m in \u001b[0;36minner_f\u001b[0;34m(*args, **kwargs)\u001b[0m\n\u001b[1;32m     71\u001b[0m                           FutureWarning)\n\u001b[1;32m     72\u001b[0m         \u001b[0mkwargs\u001b[0m\u001b[0;34m.\u001b[0m\u001b[0mupdate\u001b[0m\u001b[0;34m(\u001b[0m\u001b[0;34m{\u001b[0m\u001b[0mk\u001b[0m\u001b[0;34m:\u001b[0m \u001b[0marg\u001b[0m \u001b[0;32mfor\u001b[0m \u001b[0mk\u001b[0m\u001b[0;34m,\u001b[0m \u001b[0marg\u001b[0m \u001b[0;32min\u001b[0m \u001b[0mzip\u001b[0m\u001b[0;34m(\u001b[0m\u001b[0msig\u001b[0m\u001b[0;34m.\u001b[0m\u001b[0mparameters\u001b[0m\u001b[0;34m,\u001b[0m \u001b[0margs\u001b[0m\u001b[0;34m)\u001b[0m\u001b[0;34m}\u001b[0m\u001b[0;34m)\u001b[0m\u001b[0;34m\u001b[0m\u001b[0;34m\u001b[0m\u001b[0m\n\u001b[0;32m---> 73\u001b[0;31m         \u001b[0;32mreturn\u001b[0m \u001b[0mf\u001b[0m\u001b[0;34m(\u001b[0m\u001b[0;34m**\u001b[0m\u001b[0mkwargs\u001b[0m\u001b[0;34m)\u001b[0m\u001b[0;34m\u001b[0m\u001b[0;34m\u001b[0m\u001b[0m\n\u001b[0m\u001b[1;32m     74\u001b[0m     \u001b[0;32mreturn\u001b[0m \u001b[0minner_f\u001b[0m\u001b[0;34m\u001b[0m\u001b[0;34m\u001b[0m\u001b[0m\n\u001b[1;32m     75\u001b[0m \u001b[0;34m\u001b[0m\u001b[0m\n",
      "\u001b[0;32m~/opt/anaconda3/lib/python3.8/site-packages/sklearn/utils/validation.py\u001b[0m in \u001b[0;36mcheck_array\u001b[0;34m(array, accept_sparse, accept_large_sparse, dtype, order, copy, force_all_finite, ensure_2d, allow_nd, ensure_min_samples, ensure_min_features, estimator)\u001b[0m\n\u001b[1;32m    597\u001b[0m                     \u001b[0marray\u001b[0m \u001b[0;34m=\u001b[0m \u001b[0marray\u001b[0m\u001b[0;34m.\u001b[0m\u001b[0mastype\u001b[0m\u001b[0;34m(\u001b[0m\u001b[0mdtype\u001b[0m\u001b[0;34m,\u001b[0m \u001b[0mcasting\u001b[0m\u001b[0;34m=\u001b[0m\u001b[0;34m\"unsafe\"\u001b[0m\u001b[0;34m,\u001b[0m \u001b[0mcopy\u001b[0m\u001b[0;34m=\u001b[0m\u001b[0;32mFalse\u001b[0m\u001b[0;34m)\u001b[0m\u001b[0;34m\u001b[0m\u001b[0;34m\u001b[0m\u001b[0m\n\u001b[1;32m    598\u001b[0m                 \u001b[0;32melse\u001b[0m\u001b[0;34m:\u001b[0m\u001b[0;34m\u001b[0m\u001b[0;34m\u001b[0m\u001b[0m\n\u001b[0;32m--> 599\u001b[0;31m                     \u001b[0marray\u001b[0m \u001b[0;34m=\u001b[0m \u001b[0mnp\u001b[0m\u001b[0;34m.\u001b[0m\u001b[0masarray\u001b[0m\u001b[0;34m(\u001b[0m\u001b[0marray\u001b[0m\u001b[0;34m,\u001b[0m \u001b[0morder\u001b[0m\u001b[0;34m=\u001b[0m\u001b[0morder\u001b[0m\u001b[0;34m,\u001b[0m \u001b[0mdtype\u001b[0m\u001b[0;34m=\u001b[0m\u001b[0mdtype\u001b[0m\u001b[0;34m)\u001b[0m\u001b[0;34m\u001b[0m\u001b[0;34m\u001b[0m\u001b[0m\n\u001b[0m\u001b[1;32m    600\u001b[0m             \u001b[0;32mexcept\u001b[0m \u001b[0mComplexWarning\u001b[0m\u001b[0;34m:\u001b[0m\u001b[0;34m\u001b[0m\u001b[0;34m\u001b[0m\u001b[0m\n\u001b[1;32m    601\u001b[0m                 raise ValueError(\"Complex data not supported\\n\"\n",
      "\u001b[0;32m~/opt/anaconda3/lib/python3.8/site-packages/numpy/core/_asarray.py\u001b[0m in \u001b[0;36masarray\u001b[0;34m(a, dtype, order)\u001b[0m\n\u001b[1;32m     83\u001b[0m \u001b[0;34m\u001b[0m\u001b[0m\n\u001b[1;32m     84\u001b[0m     \"\"\"\n\u001b[0;32m---> 85\u001b[0;31m     \u001b[0;32mreturn\u001b[0m \u001b[0marray\u001b[0m\u001b[0;34m(\u001b[0m\u001b[0ma\u001b[0m\u001b[0;34m,\u001b[0m \u001b[0mdtype\u001b[0m\u001b[0;34m,\u001b[0m \u001b[0mcopy\u001b[0m\u001b[0;34m=\u001b[0m\u001b[0;32mFalse\u001b[0m\u001b[0;34m,\u001b[0m \u001b[0morder\u001b[0m\u001b[0;34m=\u001b[0m\u001b[0morder\u001b[0m\u001b[0;34m)\u001b[0m\u001b[0;34m\u001b[0m\u001b[0;34m\u001b[0m\u001b[0m\n\u001b[0m\u001b[1;32m     86\u001b[0m \u001b[0;34m\u001b[0m\u001b[0m\n\u001b[1;32m     87\u001b[0m \u001b[0;34m\u001b[0m\u001b[0m\n",
      "\u001b[0;31mValueError\u001b[0m: could not convert string to float: '430b599362944d3383e8060552103bbb'"
     ]
    }
   ],
   "source": [
    "LR = LogisticRegression(max_iter = 10000)\n",
    "LR.fit(x_train, y_train)"
   ]
  },
  {
   "cell_type": "code",
   "execution_count": null,
   "metadata": {},
   "outputs": [],
   "source": [
    "LR.score(x_train, y_train)"
   ]
  },
  {
   "cell_type": "code",
   "execution_count": null,
   "metadata": {},
   "outputs": [],
   "source": [
    "LR.score(x_test, y_test)"
   ]
  },
  {
   "cell_type": "code",
   "execution_count": null,
   "metadata": {},
   "outputs": [],
   "source": [
    "#LR.classes_\n",
    "LR.predict_proba(x_test)"
   ]
  },
  {
   "cell_type": "code",
   "execution_count": null,
   "metadata": {},
   "outputs": [],
   "source": [
    "explainer = shap.LinearExplainer(LR, x_train, feature_perturbation=\"interventional\")\n",
    "shap_values = explainer.shap_values(x_test)\n",
    "shap.summary_plot(shap_values, x_train, plot_type=\"bar\")"
   ]
  },
  {
   "cell_type": "code",
   "execution_count": null,
   "metadata": {},
   "outputs": [],
   "source": [
    "shap.summary_plot(shap_values, x_test)"
   ]
  },
  {
   "cell_type": "code",
   "execution_count": null,
   "metadata": {},
   "outputs": [],
   "source": [
    "shap.dependence_plot(\"response_rate\", shap_values, x_test)"
   ]
  },
  {
   "cell_type": "code",
   "execution_count": null,
   "metadata": {},
   "outputs": [],
   "source": [
    "shap.initjs()\n",
    "shap.force_plot(explainer.expected_value, shap_values[1,:], x_test.iloc[0,:])"
   ]
  },
  {
   "cell_type": "code",
   "execution_count": null,
   "metadata": {},
   "outputs": [],
   "source": []
  },
  {
   "cell_type": "code",
   "execution_count": null,
   "metadata": {},
   "outputs": [],
   "source": []
  },
  {
   "cell_type": "code",
   "execution_count": null,
   "metadata": {},
   "outputs": [],
   "source": [
    "#model_dataset.loc[0][\"following_tags\"]"
   ]
  },
  {
   "cell_type": "code",
   "execution_count": null,
   "metadata": {},
   "outputs": [],
   "source": [
    "#model_dataset.loc[1][\"q_tags\"]"
   ]
  },
  {
   "cell_type": "code",
   "execution_count": null,
   "metadata": {},
   "outputs": [],
   "source": [
    "from keras.models import Sequential\n",
    "from keras.layers import Dense\n",
    "import pandas as pd\n",
    "from sklearn import datasets\n",
    "import matplotlib.pyplot as plt\n",
    "import numpy as np\n",
    "from tensorflow import keras"
   ]
  },
  {
   "cell_type": "code",
   "execution_count": null,
   "metadata": {},
   "outputs": [],
   "source": []
  },
  {
   "cell_type": "code",
   "execution_count": null,
   "metadata": {},
   "outputs": [],
   "source": [
    "# define the keras model\n",
    "model = Sequential()\n",
    "model.add(Dense(12, input_dim=12, activation='relu')) # 12 neurons and expecting 8 columns x\n",
    "model.add(Dense(8, activation='relu'))#8 neurons with activation function rectified\n",
    "model.add(Dense(8, activation='relu'))#8 neurons with activation function rectified\n",
    "model.add(Dense(1, activation='sigmoid')) #1 neuron with sigmoid activation\n",
    "model.compile(loss='binary_crossentropy', optimizer='adam', metrics=['accuracy'])\n",
    "model.summary()"
   ]
  },
  {
   "cell_type": "code",
   "execution_count": null,
   "metadata": {},
   "outputs": [],
   "source": [
    "model.fit(x_train, y_train, epochs = 100)"
   ]
  },
  {
   "cell_type": "code",
   "execution_count": null,
   "metadata": {},
   "outputs": [],
   "source": [
    "#accuracy\n",
    "model.evaluate(x_test, y_test, verbose = True)[1]"
   ]
  },
  {
   "cell_type": "code",
   "execution_count": null,
   "metadata": {},
   "outputs": [],
   "source": [
    "len(tags.tags_tag_name.unique())"
   ]
  },
  {
   "cell_type": "code",
   "execution_count": null,
   "metadata": {},
   "outputs": [],
   "source": []
  }
 ],
 "metadata": {
  "kernelspec": {
   "display_name": "Python 3",
   "language": "python",
   "name": "python3"
  },
  "language_info": {
   "codemirror_mode": {
    "name": "ipython",
    "version": 3
   },
   "file_extension": ".py",
   "mimetype": "text/x-python",
   "name": "python",
   "nbconvert_exporter": "python",
   "pygments_lexer": "ipython3",
   "version": "3.8.3"
  }
 },
 "nbformat": 4,
 "nbformat_minor": 4
}
