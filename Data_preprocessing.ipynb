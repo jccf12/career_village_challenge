{
  "nbformat": 4,
  "nbformat_minor": 0,
  "metadata": {
    "kernelspec": {
      "display_name": "Python 3",
      "language": "python",
      "name": "python3"
    },
    "language_info": {
      "codemirror_mode": {
        "name": "ipython",
        "version": 3
      },
      "file_extension": ".py",
      "mimetype": "text/x-python",
      "name": "python",
      "nbconvert_exporter": "python",
      "pygments_lexer": "ipython3",
      "version": "3.8.3"
    },
    "colab": {
      "name": "Data_preprocessing.ipynb",
      "provenance": []
    }
  },
  "cells": [
    {
      "cell_type": "code",
      "metadata": {
        "id": "84y-7AcyUDjA"
      },
      "source": [
        "import numpy as np\n",
        "import matplotlib.pyplot as plt\n",
        "import pandas as pd\n",
        "import datetime"
      ],
      "execution_count": null,
      "outputs": []
    },
    {
      "cell_type": "code",
      "metadata": {
        "id": "NctHriVnUDjB"
      },
      "source": [
        "tag_users = pd.read_csv(\"data/tag_users.csv\")\n",
        "tag_questions = pd.read_csv(\"data/tag_questions.csv\")\n",
        "tags = pd.read_csv(\"data/tags.csv\")\n",
        "professionals = pd.read_csv(\"data/professionals.csv\")\n",
        "answers = pd.read_csv(\"data/answers.csv\")\n",
        "emails1 = pd.read_csv(\"data/emails1.csv\")\n",
        "emails2 = pd.read_csv(\"data/emails2.csv\")\n",
        "emails = pd.concat([emails1,emails2])\n",
        "questions = pd.read_csv(\"data/questions.csv\")\n",
        "matches1 = pd.read_csv(\"data/matches1.csv\")\n",
        "matches2 = pd.read_csv(\"data/matches2.csv\")\n",
        "matches3 = pd.read_csv(\"data/matches3.csv\")\n",
        "matches = pd.concat([matches1,matches2,matches3])\n",
        "answers_scores = pd.read_csv(\"data/answer_scores.csv\")\n",
        "group_members = pd.read_csv(\"data/group_memberships.csv\")\n",
        "schools_members = pd.read_csv(\"data/school_memberships.csv\")"
      ],
      "execution_count": null,
      "outputs": []
    },
    {
      "cell_type": "code",
      "metadata": {
        "id": "zF9fncRtUDjB"
      },
      "source": [
        "def get_user_tags(user_id):\n",
        "    user_tags = tag_users[tag_users[\"tag_users_user_id\"] == user_id][\"tag_users_tag_id\"]\n",
        "    tags_names =tags.loc[tags[\"tags_tag_id\"].isin(user_tags)]\n",
        "    return(tags)"
      ],
      "execution_count": null,
      "outputs": []
    },
    {
      "cell_type": "code",
      "metadata": {
        "id": "Pa6Zm2lEUDjB"
      },
      "source": [
        "def get_user_answers(user_id):\n",
        "    all_answers = answers.loc[answers[\"answers_author_id\"]==user_id]\n",
        "    return all_answers"
      ],
      "execution_count": null,
      "outputs": []
    },
    {
      "cell_type": "code",
      "metadata": {
        "id": "R8ccf90NUDjB"
      },
      "source": [
        "def match_email_question(email_date):\n",
        "    f = lambda x: datetime.datetime.strptime(x, \"%Y-%m-%d %H:%M:%S UTC+0000\")\n",
        "    b  =f(email_date)\n",
        "    t = questions[\"questions_date_added\"].apply(f)\n",
        "    return questions.iloc[(b-t).abs().argsort()[:1]]"
      ],
      "execution_count": null,
      "outputs": []
    },
    {
      "cell_type": "code",
      "metadata": {
        "id": "tptTxfAJUDjB"
      },
      "source": [
        "immediate_emails = emails[emails[\"emails_frequency_level\"]==\"email_notification_immediate\"]\n",
        "immediate_matches = matches[matches[\"matches_email_id\"].isin(immediate_emails[\"emails_id\"])]\n",
        "immediate_emails = immediate_emails[immediate_emails[\"emails_id\"].isin(matches[\"matches_email_id\"])]\n",
        "\n",
        "immediate_emails = immediate_emails.rename(columns={'emails_id':\"id\"})\n",
        "immediate_matches = immediate_matches.rename(columns={'matches_email_id':\"id\"})"
      ],
      "execution_count": null,
      "outputs": []
    },
    {
      "cell_type": "code",
      "metadata": {
        "id": "K4xPOSc4UDjB"
      },
      "source": [
        "emails_questions = pd.merge(immediate_emails, immediate_matches, how=\"left\", on=\"id\")\n",
        "emails_questions = emails_questions.rename(columns = {\"matches_question_id\": \"question_id\", \"emails_recipient_id\": \"professional_id\"})\n",
        "answers = answers.rename(columns = {\"answers_question_id\": \"question_id\", \"answers_author_id\": \"professional_id\"})"
      ],
      "execution_count": null,
      "outputs": []
    },
    {
      "cell_type": "code",
      "metadata": {
        "id": "-uuT_OraUDjB"
      },
      "source": [
        "full_data = pd.merge(emails_questions, answers,how='left',  on=[\"professional_id\",\"question_id\" ])\n",
        "target = full_data['answers_id'].fillna(0)\n",
        "target = pd.to_numeric(target, errors='coerce').fillna(1).astype(int)\n",
        "full_data[\"q_answered\"] = target\n",
        "full_data = full_data.rename(columns = {\"id\": \"email_id\"})\n",
        "date_vectorizer = lambda x: datetime.datetime.strptime(x, \"%Y-%m-%d %H:%M:%S UTC+0000\")\n",
        "full_data[\"emails_date_sent\"] = full_data[\"emails_date_sent\"].apply(date_vectorizer)\n",
        "indices = full_data[\"answers_date_added\"][full_data[\"answers_date_added\"].notnull()].index.values\n",
        "full_data.loc[indices, \"answers_date_added\"] = full_data[\"answers_date_added\"][full_data[\"answers_date_added\"].notnull()].apply(date_vectorizer)\n",
        "full_data[\"time_taken\"] =  pd.to_datetime(full_data[\"answers_date_added\"]) - pd.to_datetime(full_data[\"emails_date_sent\"])\n",
        "indices2 = full_data[\"time_taken\"][full_data[\"time_taken\"] < datetime.timedelta( days=0)].index.values\n",
        "full_data.loc[indices2, \"time_taken\"]=datetime.timedelta(days=0, seconds=0,minutes=0, hours=0 )"
      ],
      "execution_count": null,
      "outputs": []
    },
    {
      "cell_type": "code",
      "metadata": {
        "id": "NNrVaS9hUDjB"
      },
      "source": [
        "response = full_data.groupby(\"professional_id\").mean().drop(columns = [\"email_id\"]).reset_index()\n",
        "professionals_dataset = pd.DataFrame(columns = [\"professional_id\"])\n",
        "professionals_dataset[\"professional_id\"] = professionals[\"professionals_id\"]\n",
        "professionals_dataset = pd.merge(professionals_dataset, response,how='left',  on=[\"professional_id\" ])\n",
        "professionals_dataset = professionals_dataset.rename(columns = {\"q_answered\": \"response_rate\"})\n",
        "grouped = full_data.groupby('professional_id')[\"time_taken\"]\n",
        "time_mean = grouped.apply(lambda x: np.mean(x))\n",
        "professionals_dataset = pd.merge(professionals_dataset, time_mean,how='left',  on=[\"professional_id\" ])\n",
        "professionals_dataset=  professionals_dataset.rename(columns ={\"time_taken\": \"avg_time_taken\"})\n",
        "answers_count = answers[\"professional_id\"].value_counts().reset_index().rename(columns = {\"professional_id\":\"number_q_answered\",\"index\":\"professional_id\",  })\n",
        "professionals_dataset = pd.merge(professionals_dataset, answers_count,how='left',  on=[\"professional_id\" ])\n",
        "all_tags = pd.merge(tag_users.rename(columns = {\"tag_users_tag_id\": \"tag_id\"}),tags.rename(columns = {\"tags_tag_id\": \"tag_id\"}),how='left',  on=[\"tag_id\" ])\n",
        "foll_tags = all_tags.groupby('tag_users_user_id')['tags_tag_name'].apply(list).reset_index(name='following_tags').rename(columns = {\"tag_users_user_id\": \"professional_id\"})\n",
        "professionals_dataset = pd.merge(professionals_dataset, foll_tags,how='left',  on=[\"professional_id\" ])\n",
        "a = pd.merge(answers[\"question_id\"].reset_index(), tag_questions.rename(columns = {\"tag_questions_question_id\": \"question_id\"}),how='left',  on=[\"question_id\" ])\n",
        "b = pd.merge(a.rename(columns = {\"tag_questions_tag_id\":\"tags_tag_id\"}), tags,how='left',  on=[\"tags_tag_id\" ]).drop(columns = [\"index\", \"tags_tag_id\"])\n",
        "c = pd.merge(b, answers,how='left',  on=[\"question_id\" ]).drop(columns = [\"answers_id\", \"answers_date_added\", \"answers_body\", \"question_id\"])\n",
        "d = c.groupby(\"professional_id\")[\"tags_tag_name\"].apply(list).reset_index()\n",
        "professionals_dataset = pd.merge(professionals_dataset, d.rename(columns = {\"tags_tag_name\": \"prev_q_tags\"}),how='left',  on=[\"professional_id\" ])\n",
        "prof_score = pd.merge(answers[[\"professional_id\",\"answers_id\" ]], answers_scores.rename(columns = {\"id\":\"answers_id\"}),how='left',  on=[\"answers_id\" ]).drop(columns = [\"answers_id\"])\n",
        "prof_score.groupby(\"professional_id\").mean().reset_index()\n",
        "professionals_dataset = pd.merge(professionals_dataset,prof_score,how='left',  on=[\"professional_id\" ]).rename(columns = {\"score\":\"avg_ansrs_score\"})\n",
        "prof_grp = group_members[\"group_memberships_user_id\"].value_counts().reset_index().rename(columns = {\"index\":\"professional_id\", \"group_memberships_user_id\":\"num_groups\"})\n",
        "professionals_dataset = pd.merge(professionals_dataset,prof_grp,how='left',  on=[\"professional_id\" ])\n",
        "prof_schl = schools_members[\"school_memberships_user_id\"].value_counts().reset_index().rename(columns = {\"index\":\"professional_id\", \"school_memberships_user_id\":\"num_schools\"})\n",
        "professionals_dataset = pd.merge(professionals_dataset,prof_schl,how='left',  on=[\"professional_id\" ])\n",
        "prof_emls = immediate_emails[\"emails_recipient_id\"].value_counts().reset_index().rename(columns = {\"index\":\"professional_id\", \"emails_recipient_id\":\"num_emails\"})\n",
        "professionals_dataset = pd.merge(professionals_dataset,prof_emls,how='left',  on=[\"professional_id\" ])\n",
        "professionals_dataset[\"answrs_emails_ratio\"] = professionals_dataset[\"number_q_answered\"] / professionals_dataset[\"num_emails\"]\n"
      ],
      "execution_count": null,
      "outputs": []
    },
    {
      "cell_type": "code",
      "metadata": {
        "id": "Ke1CaDrxUDjB",
        "outputId": "7196a014-a4ff-412f-8c84-3497921af541"
      },
      "source": [
        "professionals_dataset"
      ],
      "execution_count": null,
      "outputs": [
        {
          "output_type": "execute_result",
          "data": {
            "text/html": [
              "<div>\n",
              "<style scoped>\n",
              "    .dataframe tbody tr th:only-of-type {\n",
              "        vertical-align: middle;\n",
              "    }\n",
              "\n",
              "    .dataframe tbody tr th {\n",
              "        vertical-align: top;\n",
              "    }\n",
              "\n",
              "    .dataframe thead th {\n",
              "        text-align: right;\n",
              "    }\n",
              "</style>\n",
              "<table border=\"1\" class=\"dataframe\">\n",
              "  <thead>\n",
              "    <tr style=\"text-align: right;\">\n",
              "      <th></th>\n",
              "      <th>professional_id</th>\n",
              "      <th>Unnamed: 0_x</th>\n",
              "      <th>Unnamed: 0_y</th>\n",
              "      <th>response_rate</th>\n",
              "      <th>avg_time_taken</th>\n",
              "      <th>number_q_answered</th>\n",
              "      <th>following_tags</th>\n",
              "      <th>prev_q_tags</th>\n",
              "      <th>avg_ansrs_score</th>\n",
              "      <th>num_groups</th>\n",
              "      <th>num_schools</th>\n",
              "      <th>num_emails</th>\n",
              "      <th>answrs_emails_ratio</th>\n",
              "    </tr>\n",
              "  </thead>\n",
              "  <tbody>\n",
              "    <tr>\n",
              "      <th>0</th>\n",
              "      <td>9ced4ce7519049c0944147afb75a8ce3</td>\n",
              "      <td>NaN</td>\n",
              "      <td>NaN</td>\n",
              "      <td>NaN</td>\n",
              "      <td>NaT</td>\n",
              "      <td>1.0</td>\n",
              "      <td>NaN</td>\n",
              "      <td>[consulting, resume, consulting, resume, consu...</td>\n",
              "      <td>5.0</td>\n",
              "      <td>NaN</td>\n",
              "      <td>NaN</td>\n",
              "      <td>NaN</td>\n",
              "      <td>NaN</td>\n",
              "    </tr>\n",
              "    <tr>\n",
              "      <th>1</th>\n",
              "      <td>f718dcf6d2ec4cb0a52a9db59d7f9e67</td>\n",
              "      <td>NaN</td>\n",
              "      <td>NaN</td>\n",
              "      <td>NaN</td>\n",
              "      <td>NaT</td>\n",
              "      <td>NaN</td>\n",
              "      <td>NaN</td>\n",
              "      <td>NaN</td>\n",
              "      <td>NaN</td>\n",
              "      <td>NaN</td>\n",
              "      <td>NaN</td>\n",
              "      <td>NaN</td>\n",
              "      <td>NaN</td>\n",
              "    </tr>\n",
              "    <tr>\n",
              "      <th>2</th>\n",
              "      <td>0c673e046d824ec0ad0ebe012a0673e4</td>\n",
              "      <td>329.342857</td>\n",
              "      <td>2.402384e+06</td>\n",
              "      <td>0.0</td>\n",
              "      <td>NaT</td>\n",
              "      <td>39.0</td>\n",
              "      <td>[consulting, education, consulting, education,...</td>\n",
              "      <td>[experience, healthcare, doctor, anesthesiolog...</td>\n",
              "      <td>1.0</td>\n",
              "      <td>NaN</td>\n",
              "      <td>NaN</td>\n",
              "      <td>70.0</td>\n",
              "      <td>0.557143</td>\n",
              "    </tr>\n",
              "    <tr>\n",
              "      <th>3</th>\n",
              "      <td>0c673e046d824ec0ad0ebe012a0673e4</td>\n",
              "      <td>329.342857</td>\n",
              "      <td>2.402384e+06</td>\n",
              "      <td>0.0</td>\n",
              "      <td>NaT</td>\n",
              "      <td>39.0</td>\n",
              "      <td>[consulting, education, consulting, education,...</td>\n",
              "      <td>[experience, healthcare, doctor, anesthesiolog...</td>\n",
              "      <td>0.0</td>\n",
              "      <td>NaN</td>\n",
              "      <td>NaN</td>\n",
              "      <td>70.0</td>\n",
              "      <td>0.557143</td>\n",
              "    </tr>\n",
              "    <tr>\n",
              "      <th>4</th>\n",
              "      <td>0c673e046d824ec0ad0ebe012a0673e4</td>\n",
              "      <td>329.342857</td>\n",
              "      <td>2.402384e+06</td>\n",
              "      <td>0.0</td>\n",
              "      <td>NaT</td>\n",
              "      <td>39.0</td>\n",
              "      <td>[consulting, education, consulting, education,...</td>\n",
              "      <td>[experience, healthcare, doctor, anesthesiolog...</td>\n",
              "      <td>3.0</td>\n",
              "      <td>NaN</td>\n",
              "      <td>NaN</td>\n",
              "      <td>70.0</td>\n",
              "      <td>0.557143</td>\n",
              "    </tr>\n",
              "    <tr>\n",
              "      <th>...</th>\n",
              "      <td>...</td>\n",
              "      <td>...</td>\n",
              "      <td>...</td>\n",
              "      <td>...</td>\n",
              "      <td>...</td>\n",
              "      <td>...</td>\n",
              "      <td>...</td>\n",
              "      <td>...</td>\n",
              "      <td>...</td>\n",
              "      <td>...</td>\n",
              "      <td>...</td>\n",
              "      <td>...</td>\n",
              "      <td>...</td>\n",
              "    </tr>\n",
              "    <tr>\n",
              "      <th>68186</th>\n",
              "      <td>9f267950ab8e43e2afcf564327049297</td>\n",
              "      <td>NaN</td>\n",
              "      <td>NaN</td>\n",
              "      <td>NaN</td>\n",
              "      <td>NaT</td>\n",
              "      <td>NaN</td>\n",
              "      <td>[broadcast-media]</td>\n",
              "      <td>NaN</td>\n",
              "      <td>NaN</td>\n",
              "      <td>NaN</td>\n",
              "      <td>NaN</td>\n",
              "      <td>NaN</td>\n",
              "      <td>NaN</td>\n",
              "    </tr>\n",
              "    <tr>\n",
              "      <th>68187</th>\n",
              "      <td>4a7e1e5dd884488da283e1cab6ad11e0</td>\n",
              "      <td>NaN</td>\n",
              "      <td>NaN</td>\n",
              "      <td>NaN</td>\n",
              "      <td>NaT</td>\n",
              "      <td>NaN</td>\n",
              "      <td>[telecommunications, firstnet, #inbuildingsolu...</td>\n",
              "      <td>NaN</td>\n",
              "      <td>NaN</td>\n",
              "      <td>NaN</td>\n",
              "      <td>NaN</td>\n",
              "      <td>NaN</td>\n",
              "      <td>NaN</td>\n",
              "    </tr>\n",
              "    <tr>\n",
              "      <th>68188</th>\n",
              "      <td>ea75c5fce38348e0a151c3c346929e6a</td>\n",
              "      <td>NaN</td>\n",
              "      <td>NaN</td>\n",
              "      <td>NaN</td>\n",
              "      <td>NaT</td>\n",
              "      <td>NaN</td>\n",
              "      <td>[computer-software, electrical-engineering, ha...</td>\n",
              "      <td>NaN</td>\n",
              "      <td>NaN</td>\n",
              "      <td>NaN</td>\n",
              "      <td>NaN</td>\n",
              "      <td>NaN</td>\n",
              "      <td>NaN</td>\n",
              "    </tr>\n",
              "    <tr>\n",
              "      <th>68189</th>\n",
              "      <td>34f6222c3c02480ca2df8a3e4ba878d0</td>\n",
              "      <td>NaN</td>\n",
              "      <td>NaN</td>\n",
              "      <td>NaN</td>\n",
              "      <td>NaT</td>\n",
              "      <td>NaN</td>\n",
              "      <td>[telecommunications]</td>\n",
              "      <td>NaN</td>\n",
              "      <td>NaN</td>\n",
              "      <td>NaN</td>\n",
              "      <td>NaN</td>\n",
              "      <td>NaN</td>\n",
              "      <td>NaN</td>\n",
              "    </tr>\n",
              "    <tr>\n",
              "      <th>68190</th>\n",
              "      <td>ebc523719253485bb35e94ca561eb051</td>\n",
              "      <td>NaN</td>\n",
              "      <td>NaN</td>\n",
              "      <td>NaN</td>\n",
              "      <td>NaT</td>\n",
              "      <td>NaN</td>\n",
              "      <td>[communications, mentoring, coaching, organiza...</td>\n",
              "      <td>NaN</td>\n",
              "      <td>NaN</td>\n",
              "      <td>NaN</td>\n",
              "      <td>NaN</td>\n",
              "      <td>NaN</td>\n",
              "      <td>NaN</td>\n",
              "    </tr>\n",
              "  </tbody>\n",
              "</table>\n",
              "<p>68191 rows × 13 columns</p>\n",
              "</div>"
            ],
            "text/plain": [
              "                        professional_id  Unnamed: 0_x  Unnamed: 0_y  \\\n",
              "0      9ced4ce7519049c0944147afb75a8ce3           NaN           NaN   \n",
              "1      f718dcf6d2ec4cb0a52a9db59d7f9e67           NaN           NaN   \n",
              "2      0c673e046d824ec0ad0ebe012a0673e4    329.342857  2.402384e+06   \n",
              "3      0c673e046d824ec0ad0ebe012a0673e4    329.342857  2.402384e+06   \n",
              "4      0c673e046d824ec0ad0ebe012a0673e4    329.342857  2.402384e+06   \n",
              "...                                 ...           ...           ...   \n",
              "68186  9f267950ab8e43e2afcf564327049297           NaN           NaN   \n",
              "68187  4a7e1e5dd884488da283e1cab6ad11e0           NaN           NaN   \n",
              "68188  ea75c5fce38348e0a151c3c346929e6a           NaN           NaN   \n",
              "68189  34f6222c3c02480ca2df8a3e4ba878d0           NaN           NaN   \n",
              "68190  ebc523719253485bb35e94ca561eb051           NaN           NaN   \n",
              "\n",
              "       response_rate avg_time_taken  number_q_answered  \\\n",
              "0                NaN            NaT                1.0   \n",
              "1                NaN            NaT                NaN   \n",
              "2                0.0            NaT               39.0   \n",
              "3                0.0            NaT               39.0   \n",
              "4                0.0            NaT               39.0   \n",
              "...              ...            ...                ...   \n",
              "68186            NaN            NaT                NaN   \n",
              "68187            NaN            NaT                NaN   \n",
              "68188            NaN            NaT                NaN   \n",
              "68189            NaN            NaT                NaN   \n",
              "68190            NaN            NaT                NaN   \n",
              "\n",
              "                                          following_tags  \\\n",
              "0                                                    NaN   \n",
              "1                                                    NaN   \n",
              "2      [consulting, education, consulting, education,...   \n",
              "3      [consulting, education, consulting, education,...   \n",
              "4      [consulting, education, consulting, education,...   \n",
              "...                                                  ...   \n",
              "68186                                  [broadcast-media]   \n",
              "68187  [telecommunications, firstnet, #inbuildingsolu...   \n",
              "68188  [computer-software, electrical-engineering, ha...   \n",
              "68189                               [telecommunications]   \n",
              "68190  [communications, mentoring, coaching, organiza...   \n",
              "\n",
              "                                             prev_q_tags  avg_ansrs_score  \\\n",
              "0      [consulting, resume, consulting, resume, consu...              5.0   \n",
              "1                                                    NaN              NaN   \n",
              "2      [experience, healthcare, doctor, anesthesiolog...              1.0   \n",
              "3      [experience, healthcare, doctor, anesthesiolog...              0.0   \n",
              "4      [experience, healthcare, doctor, anesthesiolog...              3.0   \n",
              "...                                                  ...              ...   \n",
              "68186                                                NaN              NaN   \n",
              "68187                                                NaN              NaN   \n",
              "68188                                                NaN              NaN   \n",
              "68189                                                NaN              NaN   \n",
              "68190                                                NaN              NaN   \n",
              "\n",
              "       num_groups  num_schools  num_emails  answrs_emails_ratio  \n",
              "0             NaN          NaN         NaN                  NaN  \n",
              "1             NaN          NaN         NaN                  NaN  \n",
              "2             NaN          NaN        70.0             0.557143  \n",
              "3             NaN          NaN        70.0             0.557143  \n",
              "4             NaN          NaN        70.0             0.557143  \n",
              "...           ...          ...         ...                  ...  \n",
              "68186         NaN          NaN         NaN                  NaN  \n",
              "68187         NaN          NaN         NaN                  NaN  \n",
              "68188         NaN          NaN         NaN                  NaN  \n",
              "68189         NaN          NaN         NaN                  NaN  \n",
              "68190         NaN          NaN         NaN                  NaN  \n",
              "\n",
              "[68191 rows x 13 columns]"
            ]
          },
          "metadata": {
            "tags": []
          },
          "execution_count": 18
        }
      ]
    },
    {
      "cell_type": "code",
      "metadata": {
        "id": "xZ1uTKjvUDjD",
        "outputId": "baee4ed7-a6ee-4016-9992-de488f1d65f8"
      },
      "source": [
        "professionals_dataset[\"answrs_emails_ratio\"][professionals_dataset[\"answrs_emails_ratio\"]> 1]"
      ],
      "execution_count": null,
      "outputs": [
        {
          "output_type": "execute_result",
          "data": {
            "text/plain": [
              "309       2.333333\n",
              "310       2.333333\n",
              "311       2.333333\n",
              "312       2.333333\n",
              "313       2.333333\n",
              "           ...    \n",
              "63384    13.000000\n",
              "63385    13.000000\n",
              "63386    13.000000\n",
              "63387    13.000000\n",
              "63388    13.000000\n",
              "Name: answrs_emails_ratio, Length: 7622, dtype: float64"
            ]
          },
          "metadata": {
            "tags": []
          },
          "execution_count": 19
        }
      ]
    },
    {
      "cell_type": "code",
      "metadata": {
        "id": "4lby0yzlUDjE",
        "outputId": "e6daa10e-90c4-4516-f874-7b114c8a1da8"
      },
      "source": [
        "answers.head(1)"
      ],
      "execution_count": null,
      "outputs": [
        {
          "output_type": "execute_result",
          "data": {
            "text/html": [
              "<div>\n",
              "<style scoped>\n",
              "    .dataframe tbody tr th:only-of-type {\n",
              "        vertical-align: middle;\n",
              "    }\n",
              "\n",
              "    .dataframe tbody tr th {\n",
              "        vertical-align: top;\n",
              "    }\n",
              "\n",
              "    .dataframe thead th {\n",
              "        text-align: right;\n",
              "    }\n",
              "</style>\n",
              "<table border=\"1\" class=\"dataframe\">\n",
              "  <thead>\n",
              "    <tr style=\"text-align: right;\">\n",
              "      <th></th>\n",
              "      <th>answers_id</th>\n",
              "      <th>professional_id</th>\n",
              "      <th>question_id</th>\n",
              "      <th>answers_date_added</th>\n",
              "      <th>answers_body</th>\n",
              "    </tr>\n",
              "  </thead>\n",
              "  <tbody>\n",
              "    <tr>\n",
              "      <th>0</th>\n",
              "      <td>4e5f01128cae4f6d8fd697cec5dca60c</td>\n",
              "      <td>36ff3b3666df400f956f8335cf53e09e</td>\n",
              "      <td>332a511f1569444485cf7a7a556a5e54</td>\n",
              "      <td>2016-04-29 19:40:14 UTC+0000</td>\n",
              "      <td>&lt;p&gt;Hi!&lt;/p&gt;\\n&lt;p&gt;You are asking a very interesti...</td>\n",
              "    </tr>\n",
              "  </tbody>\n",
              "</table>\n",
              "</div>"
            ],
            "text/plain": [
              "                         answers_id                   professional_id  \\\n",
              "0  4e5f01128cae4f6d8fd697cec5dca60c  36ff3b3666df400f956f8335cf53e09e   \n",
              "\n",
              "                        question_id            answers_date_added  \\\n",
              "0  332a511f1569444485cf7a7a556a5e54  2016-04-29 19:40:14 UTC+0000   \n",
              "\n",
              "                                        answers_body  \n",
              "0  <p>Hi!</p>\\n<p>You are asking a very interesti...  "
            ]
          },
          "metadata": {
            "tags": []
          },
          "execution_count": 20
        }
      ]
    },
    {
      "cell_type": "code",
      "metadata": {
        "id": "EdvXd5VhUDjE",
        "outputId": "2902eff4-589c-4bc1-e73e-a7f7b857d3fa"
      },
      "source": [
        "emails.head(1)"
      ],
      "execution_count": null,
      "outputs": [
        {
          "output_type": "execute_result",
          "data": {
            "text/html": [
              "<div>\n",
              "<style scoped>\n",
              "    .dataframe tbody tr th:only-of-type {\n",
              "        vertical-align: middle;\n",
              "    }\n",
              "\n",
              "    .dataframe tbody tr th {\n",
              "        vertical-align: top;\n",
              "    }\n",
              "\n",
              "    .dataframe thead th {\n",
              "        text-align: right;\n",
              "    }\n",
              "</style>\n",
              "<table border=\"1\" class=\"dataframe\">\n",
              "  <thead>\n",
              "    <tr style=\"text-align: right;\">\n",
              "      <th></th>\n",
              "      <th>Unnamed: 0</th>\n",
              "      <th>emails_id</th>\n",
              "      <th>emails_recipient_id</th>\n",
              "      <th>emails_date_sent</th>\n",
              "      <th>emails_frequency_level</th>\n",
              "    </tr>\n",
              "  </thead>\n",
              "  <tbody>\n",
              "    <tr>\n",
              "      <th>0</th>\n",
              "      <td>0</td>\n",
              "      <td>2337714</td>\n",
              "      <td>0c673e046d824ec0ad0ebe012a0673e4</td>\n",
              "      <td>2018-12-07 01:05:40 UTC+0000</td>\n",
              "      <td>email_notification_daily</td>\n",
              "    </tr>\n",
              "  </tbody>\n",
              "</table>\n",
              "</div>"
            ],
            "text/plain": [
              "   Unnamed: 0  emails_id               emails_recipient_id  \\\n",
              "0           0    2337714  0c673e046d824ec0ad0ebe012a0673e4   \n",
              "\n",
              "               emails_date_sent    emails_frequency_level  \n",
              "0  2018-12-07 01:05:40 UTC+0000  email_notification_daily  "
            ]
          },
          "metadata": {
            "tags": []
          },
          "execution_count": 21
        }
      ]
    },
    {
      "cell_type": "code",
      "metadata": {
        "id": "4219sJnJUDjE",
        "outputId": "0ed46cdb-2471-46c2-ae63-d58fb0ea69e5"
      },
      "source": [
        "matches.head(1)"
      ],
      "execution_count": null,
      "outputs": [
        {
          "output_type": "execute_result",
          "data": {
            "text/html": [
              "<div>\n",
              "<style scoped>\n",
              "    .dataframe tbody tr th:only-of-type {\n",
              "        vertical-align: middle;\n",
              "    }\n",
              "\n",
              "    .dataframe tbody tr th {\n",
              "        vertical-align: top;\n",
              "    }\n",
              "\n",
              "    .dataframe thead th {\n",
              "        text-align: right;\n",
              "    }\n",
              "</style>\n",
              "<table border=\"1\" class=\"dataframe\">\n",
              "  <thead>\n",
              "    <tr style=\"text-align: right;\">\n",
              "      <th></th>\n",
              "      <th>Unnamed: 0</th>\n",
              "      <th>matches_email_id</th>\n",
              "      <th>matches_question_id</th>\n",
              "    </tr>\n",
              "  </thead>\n",
              "  <tbody>\n",
              "    <tr>\n",
              "      <th>0</th>\n",
              "      <td>0</td>\n",
              "      <td>1721939</td>\n",
              "      <td>332a511f1569444485cf7a7a556a5e54</td>\n",
              "    </tr>\n",
              "  </tbody>\n",
              "</table>\n",
              "</div>"
            ],
            "text/plain": [
              "   Unnamed: 0  matches_email_id               matches_question_id\n",
              "0           0           1721939  332a511f1569444485cf7a7a556a5e54"
            ]
          },
          "metadata": {
            "tags": []
          },
          "execution_count": 22
        }
      ]
    },
    {
      "cell_type": "code",
      "metadata": {
        "id": "Yq8ZyGfKUDjE",
        "outputId": "67abdaa7-b659-4843-c3f9-048c6bd57aa5"
      },
      "source": [
        "match_proff = pd.merge(matches.rename(columns = {\"matches_email_id\":\"emails_id\"}), emails,how='left',  on=[\"emails_id\" ])\n",
        "match_proff.head(1)"
      ],
      "execution_count": null,
      "outputs": [
        {
          "output_type": "execute_result",
          "data": {
            "text/html": [
              "<div>\n",
              "<style scoped>\n",
              "    .dataframe tbody tr th:only-of-type {\n",
              "        vertical-align: middle;\n",
              "    }\n",
              "\n",
              "    .dataframe tbody tr th {\n",
              "        vertical-align: top;\n",
              "    }\n",
              "\n",
              "    .dataframe thead th {\n",
              "        text-align: right;\n",
              "    }\n",
              "</style>\n",
              "<table border=\"1\" class=\"dataframe\">\n",
              "  <thead>\n",
              "    <tr style=\"text-align: right;\">\n",
              "      <th></th>\n",
              "      <th>Unnamed: 0_x</th>\n",
              "      <th>emails_id</th>\n",
              "      <th>matches_question_id</th>\n",
              "      <th>Unnamed: 0_y</th>\n",
              "      <th>emails_recipient_id</th>\n",
              "      <th>emails_date_sent</th>\n",
              "      <th>emails_frequency_level</th>\n",
              "    </tr>\n",
              "  </thead>\n",
              "  <tbody>\n",
              "    <tr>\n",
              "      <th>0</th>\n",
              "      <td>0</td>\n",
              "      <td>1721939</td>\n",
              "      <td>332a511f1569444485cf7a7a556a5e54</td>\n",
              "      <td>1303869</td>\n",
              "      <td>172d6cac9efd4f41929430b163854b6b</td>\n",
              "      <td>2018-03-25 01:03:06 UTC+0000</td>\n",
              "      <td>email_notification_daily</td>\n",
              "    </tr>\n",
              "  </tbody>\n",
              "</table>\n",
              "</div>"
            ],
            "text/plain": [
              "   Unnamed: 0_x  emails_id               matches_question_id  Unnamed: 0_y  \\\n",
              "0             0    1721939  332a511f1569444485cf7a7a556a5e54       1303869   \n",
              "\n",
              "                emails_recipient_id              emails_date_sent  \\\n",
              "0  172d6cac9efd4f41929430b163854b6b  2018-03-25 01:03:06 UTC+0000   \n",
              "\n",
              "     emails_frequency_level  \n",
              "0  email_notification_daily  "
            ]
          },
          "metadata": {
            "tags": []
          },
          "execution_count": 23
        }
      ]
    },
    {
      "cell_type": "code",
      "metadata": {
        "id": "3mmjvL7WUDjE",
        "outputId": "2dc32891-ca21-4bc1-8218-0dff1b73b261"
      },
      "source": [
        "answers.head(1)"
      ],
      "execution_count": null,
      "outputs": [
        {
          "output_type": "execute_result",
          "data": {
            "text/html": [
              "<div>\n",
              "<style scoped>\n",
              "    .dataframe tbody tr th:only-of-type {\n",
              "        vertical-align: middle;\n",
              "    }\n",
              "\n",
              "    .dataframe tbody tr th {\n",
              "        vertical-align: top;\n",
              "    }\n",
              "\n",
              "    .dataframe thead th {\n",
              "        text-align: right;\n",
              "    }\n",
              "</style>\n",
              "<table border=\"1\" class=\"dataframe\">\n",
              "  <thead>\n",
              "    <tr style=\"text-align: right;\">\n",
              "      <th></th>\n",
              "      <th>answers_id</th>\n",
              "      <th>professional_id</th>\n",
              "      <th>question_id</th>\n",
              "      <th>answers_date_added</th>\n",
              "      <th>answers_body</th>\n",
              "    </tr>\n",
              "  </thead>\n",
              "  <tbody>\n",
              "    <tr>\n",
              "      <th>0</th>\n",
              "      <td>4e5f01128cae4f6d8fd697cec5dca60c</td>\n",
              "      <td>36ff3b3666df400f956f8335cf53e09e</td>\n",
              "      <td>332a511f1569444485cf7a7a556a5e54</td>\n",
              "      <td>2016-04-29 19:40:14 UTC+0000</td>\n",
              "      <td>&lt;p&gt;Hi!&lt;/p&gt;\\n&lt;p&gt;You are asking a very interesti...</td>\n",
              "    </tr>\n",
              "  </tbody>\n",
              "</table>\n",
              "</div>"
            ],
            "text/plain": [
              "                         answers_id                   professional_id  \\\n",
              "0  4e5f01128cae4f6d8fd697cec5dca60c  36ff3b3666df400f956f8335cf53e09e   \n",
              "\n",
              "                        question_id            answers_date_added  \\\n",
              "0  332a511f1569444485cf7a7a556a5e54  2016-04-29 19:40:14 UTC+0000   \n",
              "\n",
              "                                        answers_body  \n",
              "0  <p>Hi!</p>\\n<p>You are asking a very interesti...  "
            ]
          },
          "metadata": {
            "tags": []
          },
          "execution_count": 24
        }
      ]
    },
    {
      "cell_type": "code",
      "metadata": {
        "id": "4d9dU7rmUDjF"
      },
      "source": [
        "matches_questions = pd.merge(answers, match_proff.rename(columns = {\"emails_recipient_id\":\"professional_id\" }),how='left',  on=[\"professional_id\" ])[[\"answers_id\", \"professional_id\",\"question_id\",\"emails_id\" ]]\n"
      ],
      "execution_count": null,
      "outputs": []
    },
    {
      "cell_type": "code",
      "metadata": {
        "id": "K-HbN0-ZUDjF"
      },
      "source": [
        "matches_questions[\"emails_id\"] = matches_questions[\"emails_id\"].fillna(0)\n",
        "indices = matches_questions[\"emails_id\"][matches_questions[\"emails_id\"]>0].index.values\n",
        "matches_questions.loc[indices,\"emails_id\" ]=1"
      ],
      "execution_count": null,
      "outputs": []
    },
    {
      "cell_type": "code",
      "metadata": {
        "id": "IBqBnBmGUDjF",
        "outputId": "a46b74f9-5d42-430c-fcfa-c7add916d006"
      },
      "source": [
        "matches_questions.rename(columns = {\"emails_id\": \"is_matched\"})"
      ],
      "execution_count": null,
      "outputs": [
        {
          "output_type": "execute_result",
          "data": {
            "text/html": [
              "<div>\n",
              "<style scoped>\n",
              "    .dataframe tbody tr th:only-of-type {\n",
              "        vertical-align: middle;\n",
              "    }\n",
              "\n",
              "    .dataframe tbody tr th {\n",
              "        vertical-align: top;\n",
              "    }\n",
              "\n",
              "    .dataframe thead th {\n",
              "        text-align: right;\n",
              "    }\n",
              "</style>\n",
              "<table border=\"1\" class=\"dataframe\">\n",
              "  <thead>\n",
              "    <tr style=\"text-align: right;\">\n",
              "      <th></th>\n",
              "      <th>answers_id</th>\n",
              "      <th>professional_id</th>\n",
              "      <th>question_id</th>\n",
              "      <th>is_matched</th>\n",
              "    </tr>\n",
              "  </thead>\n",
              "  <tbody>\n",
              "    <tr>\n",
              "      <th>0</th>\n",
              "      <td>4e5f01128cae4f6d8fd697cec5dca60c</td>\n",
              "      <td>36ff3b3666df400f956f8335cf53e09e</td>\n",
              "      <td>332a511f1569444485cf7a7a556a5e54</td>\n",
              "      <td>1.0</td>\n",
              "    </tr>\n",
              "    <tr>\n",
              "      <th>1</th>\n",
              "      <td>4e5f01128cae4f6d8fd697cec5dca60c</td>\n",
              "      <td>36ff3b3666df400f956f8335cf53e09e</td>\n",
              "      <td>332a511f1569444485cf7a7a556a5e54</td>\n",
              "      <td>1.0</td>\n",
              "    </tr>\n",
              "    <tr>\n",
              "      <th>2</th>\n",
              "      <td>4e5f01128cae4f6d8fd697cec5dca60c</td>\n",
              "      <td>36ff3b3666df400f956f8335cf53e09e</td>\n",
              "      <td>332a511f1569444485cf7a7a556a5e54</td>\n",
              "      <td>1.0</td>\n",
              "    </tr>\n",
              "    <tr>\n",
              "      <th>3</th>\n",
              "      <td>4e5f01128cae4f6d8fd697cec5dca60c</td>\n",
              "      <td>36ff3b3666df400f956f8335cf53e09e</td>\n",
              "      <td>332a511f1569444485cf7a7a556a5e54</td>\n",
              "      <td>1.0</td>\n",
              "    </tr>\n",
              "    <tr>\n",
              "      <th>4</th>\n",
              "      <td>4e5f01128cae4f6d8fd697cec5dca60c</td>\n",
              "      <td>36ff3b3666df400f956f8335cf53e09e</td>\n",
              "      <td>332a511f1569444485cf7a7a556a5e54</td>\n",
              "      <td>1.0</td>\n",
              "    </tr>\n",
              "    <tr>\n",
              "      <th>...</th>\n",
              "      <td>...</td>\n",
              "      <td>...</td>\n",
              "      <td>...</td>\n",
              "      <td>...</td>\n",
              "    </tr>\n",
              "    <tr>\n",
              "      <th>26521409</th>\n",
              "      <td>563bc22e715e42bfb4b6ef9c3a95fb23</td>\n",
              "      <td>5750e3d592cd4b0486ec4e7eb01c29ad</td>\n",
              "      <td>1b1ebe9afc5046ccbb328704e88e5cc0</td>\n",
              "      <td>1.0</td>\n",
              "    </tr>\n",
              "    <tr>\n",
              "      <th>26521410</th>\n",
              "      <td>563bc22e715e42bfb4b6ef9c3a95fb23</td>\n",
              "      <td>5750e3d592cd4b0486ec4e7eb01c29ad</td>\n",
              "      <td>1b1ebe9afc5046ccbb328704e88e5cc0</td>\n",
              "      <td>1.0</td>\n",
              "    </tr>\n",
              "    <tr>\n",
              "      <th>26521411</th>\n",
              "      <td>563bc22e715e42bfb4b6ef9c3a95fb23</td>\n",
              "      <td>5750e3d592cd4b0486ec4e7eb01c29ad</td>\n",
              "      <td>1b1ebe9afc5046ccbb328704e88e5cc0</td>\n",
              "      <td>1.0</td>\n",
              "    </tr>\n",
              "    <tr>\n",
              "      <th>26521412</th>\n",
              "      <td>563bc22e715e42bfb4b6ef9c3a95fb23</td>\n",
              "      <td>5750e3d592cd4b0486ec4e7eb01c29ad</td>\n",
              "      <td>1b1ebe9afc5046ccbb328704e88e5cc0</td>\n",
              "      <td>1.0</td>\n",
              "    </tr>\n",
              "    <tr>\n",
              "      <th>26521413</th>\n",
              "      <td>563bc22e715e42bfb4b6ef9c3a95fb23</td>\n",
              "      <td>5750e3d592cd4b0486ec4e7eb01c29ad</td>\n",
              "      <td>1b1ebe9afc5046ccbb328704e88e5cc0</td>\n",
              "      <td>1.0</td>\n",
              "    </tr>\n",
              "  </tbody>\n",
              "</table>\n",
              "<p>26521414 rows × 4 columns</p>\n",
              "</div>"
            ],
            "text/plain": [
              "                                answers_id                   professional_id  \\\n",
              "0         4e5f01128cae4f6d8fd697cec5dca60c  36ff3b3666df400f956f8335cf53e09e   \n",
              "1         4e5f01128cae4f6d8fd697cec5dca60c  36ff3b3666df400f956f8335cf53e09e   \n",
              "2         4e5f01128cae4f6d8fd697cec5dca60c  36ff3b3666df400f956f8335cf53e09e   \n",
              "3         4e5f01128cae4f6d8fd697cec5dca60c  36ff3b3666df400f956f8335cf53e09e   \n",
              "4         4e5f01128cae4f6d8fd697cec5dca60c  36ff3b3666df400f956f8335cf53e09e   \n",
              "...                                    ...                               ...   \n",
              "26521409  563bc22e715e42bfb4b6ef9c3a95fb23  5750e3d592cd4b0486ec4e7eb01c29ad   \n",
              "26521410  563bc22e715e42bfb4b6ef9c3a95fb23  5750e3d592cd4b0486ec4e7eb01c29ad   \n",
              "26521411  563bc22e715e42bfb4b6ef9c3a95fb23  5750e3d592cd4b0486ec4e7eb01c29ad   \n",
              "26521412  563bc22e715e42bfb4b6ef9c3a95fb23  5750e3d592cd4b0486ec4e7eb01c29ad   \n",
              "26521413  563bc22e715e42bfb4b6ef9c3a95fb23  5750e3d592cd4b0486ec4e7eb01c29ad   \n",
              "\n",
              "                               question_id  is_matched  \n",
              "0         332a511f1569444485cf7a7a556a5e54         1.0  \n",
              "1         332a511f1569444485cf7a7a556a5e54         1.0  \n",
              "2         332a511f1569444485cf7a7a556a5e54         1.0  \n",
              "3         332a511f1569444485cf7a7a556a5e54         1.0  \n",
              "4         332a511f1569444485cf7a7a556a5e54         1.0  \n",
              "...                                    ...         ...  \n",
              "26521409  1b1ebe9afc5046ccbb328704e88e5cc0         1.0  \n",
              "26521410  1b1ebe9afc5046ccbb328704e88e5cc0         1.0  \n",
              "26521411  1b1ebe9afc5046ccbb328704e88e5cc0         1.0  \n",
              "26521412  1b1ebe9afc5046ccbb328704e88e5cc0         1.0  \n",
              "26521413  1b1ebe9afc5046ccbb328704e88e5cc0         1.0  \n",
              "\n",
              "[26521414 rows x 4 columns]"
            ]
          },
          "metadata": {
            "tags": []
          },
          "execution_count": 27
        }
      ]
    },
    {
      "cell_type": "code",
      "metadata": {
        "id": "85ubCZLAUDjF"
      },
      "source": [
        "matrh"
      ],
      "execution_count": null,
      "outputs": []
    },
    {
      "cell_type": "markdown",
      "metadata": {
        "id": "eQH3qQ6IUGc_"
      },
      "source": [
        "#NLP Functions"
      ]
    },
    {
      "cell_type": "code",
      "metadata": {
        "id": "31GrH9OIUKUp"
      },
      "source": [
        "#Functions for NLP\n",
        "\n",
        "def lowercase(input):\n",
        "  return input.lower()\n",
        "\n",
        "def remove_punctuation(input):\n",
        "  return input.translate(str.maketrans('','', string.punctuation))\n",
        "\n",
        "def remove_whitespaces(input):\n",
        "  return \" \".join(input.split())\n",
        "  \n",
        "def remove_html_tags(input):\n",
        "    soup = BeautifulSoup(input, \"html.parser\")\n",
        "    stripped_input = soup.get_text(separator=\" \")\n",
        "    return stripped_input\n",
        "\n",
        "def tokenize(input):\n",
        "  return word_tokenize(input)\n",
        "\n",
        "def remove_stop_words(input):\n",
        "  input = word_tokenize(input)\n",
        "  return [word for word in input if word not in stopwords.words('english')]\n",
        "\n",
        "def lemmatize(input):\n",
        "  lemmatizer=WordNetLemmatizer()\n",
        "  input_str=word_tokenize(input)\n",
        "  new_words = []\n",
        "  for word in input_str:\n",
        "    new_words.append(lemmatizer.lemmatize(word))\n",
        "  return ' '.join(new_words)\n",
        "\n",
        "#Function that calls all other functions together to perform NLP on a given text\n",
        "def nlp_pipeline(input):\n",
        "  return lemmatize(' '.join(remove_stop_words(remove_whitespaces(remove_punctuation(remove_html_tags(lowercase(input)))))))"
      ],
      "execution_count": null,
      "outputs": []
    },
    {
      "cell_type": "markdown",
      "metadata": {
        "id": "btAaqztXULL2"
      },
      "source": [
        "#Topic Modeling for individual questions"
      ]
    },
    {
      "cell_type": "code",
      "metadata": {
        "id": "86hLotbwURkT"
      },
      "source": [
        "from sklearn.feature_extraction.text import CountVectorizer\n",
        "from sklearn.decomposition import LatentDirichletAllocation as LDA\n",
        "\n",
        "#Turn tags into a set for faster checking of whether a tag exists or not\n",
        "unique_tags = set(tags['tags_tag_name'])\n",
        "\n",
        "def find_topics(question_body):\n",
        "  \"\"\"\n",
        "  Function that takes a question as an input, and finds the two most important topics/tags\n",
        "  If the found topics exist in the already existing database of tags, we add these tags\n",
        "  to the professional who answered the question\n",
        "  \"\"\"\n",
        "\n",
        "  text = nlp_pipeline(question_body)\n",
        "  count_vectorizer = CountVectorizer(stop_words='english')\n",
        "  count_data = count_vectorizer.fit_transform([text])\n",
        "  # One topic that has an avg of two words because most questions had 1/2 tags\n",
        "  number_topics = 1\n",
        "  number_words = 2\n",
        "  # Create and fit the LDA model\n",
        "  lda = LDA(n_components=number_topics, n_jobs=-1)\n",
        "  lda.fit(count_data)\n",
        "\n",
        "  words = count_vectorizer.get_feature_names()\n",
        "\n",
        "  #Get topics from model. They are represented as a list e.g. ['military','army']\n",
        "  topics = [words[i] for i in topic.argsort()[:-number_words - 1:-1] for topic_idx, topic in enumerate(lda.components_)]\n",
        "\n",
        "  #Only use topics for which a tag already exists\n",
        "  existing_topics = []\n",
        "  for tag in topics:\n",
        "    if tag in unique_tags:\n",
        "      existing_topics.append(tag)\n",
        "\n",
        "  return existing_topics"
      ],
      "execution_count": null,
      "outputs": []
    }
  ]
}