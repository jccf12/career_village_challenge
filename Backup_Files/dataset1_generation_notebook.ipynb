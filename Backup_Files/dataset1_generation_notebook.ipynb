{
  "nbformat": 4,
  "nbformat_minor": 0,
  "metadata": {
    "colab": {
      "name": "CareerVillage Preprocessing.ipynb",
      "provenance": [],
      "collapsed_sections": [],
      "toc_visible": true
    },
    "kernelspec": {
      "name": "python3",
      "display_name": "Python 3"
    }
  },
  "cells": [
    {
      "cell_type": "markdown",
      "metadata": {
        "id": "sixdirO2Qsvp"
      },
      "source": [
        "#Import packages"
      ]
    },
    {
      "cell_type": "code",
      "metadata": {
        "id": "hsDob9VmOvkn"
      },
      "source": [
        "import pandas as pd\n",
        "import numpy as np\n",
        "import os\n",
        "from google.colab import files\n",
        "import cv2\n",
        "from sklearn.utils import shuffle\n",
        "import itertools\n",
        "import shutil\n",
        "from bs4 import BeautifulSoup\n",
        "import string\n",
        "from nltk.tokenize import word_tokenize\n",
        "from nltk.corpus import stopwords\n",
        "from nltk.stem import WordNetLemmatizer\n",
        "from datetime import datetime\n",
        "from dateutil import parser\n",
        "\n",
        "np.random.seed(101)"
      ],
      "execution_count": null,
      "outputs": []
    },
    {
      "cell_type": "code",
      "metadata": {
        "colab": {
          "base_uri": "https://localhost:8080/"
        },
        "id": "6hd_ZE_sW3f_",
        "outputId": "17aafc15-30a9-45f3-f8c1-45c9b663f4d8"
      },
      "source": [
        "import nltk\n",
        "nltk.download('stopwords')\n",
        "nltk.download('punkt')\n",
        "nltk.download('wordnet')"
      ],
      "execution_count": null,
      "outputs": [
        {
          "output_type": "stream",
          "text": [
            "[nltk_data] Downloading package stopwords to /root/nltk_data...\n",
            "[nltk_data]   Unzipping corpora/stopwords.zip.\n",
            "[nltk_data] Downloading package punkt to /root/nltk_data...\n",
            "[nltk_data]   Unzipping tokenizers/punkt.zip.\n",
            "[nltk_data] Downloading package wordnet to /root/nltk_data...\n",
            "[nltk_data]   Unzipping corpora/wordnet.zip.\n"
          ],
          "name": "stdout"
        },
        {
          "output_type": "execute_result",
          "data": {
            "text/plain": [
              "True"
            ]
          },
          "metadata": {
            "tags": []
          },
          "execution_count": 47
        }
      ]
    },
    {
      "cell_type": "markdown",
      "metadata": {
        "id": "KpPQHsikQrVx"
      },
      "source": [
        "#Download dataset"
      ]
    },
    {
      "cell_type": "code",
      "metadata": {
        "id": "3-VoxtrKUMmW",
        "colab": {
          "base_uri": "https://localhost:8080/"
        },
        "outputId": "9fedc7d3-c16d-46a3-abd1-6e9287155354"
      },
      "source": [
        "# Install a kaggle package to download the dataset\n",
        "! pip install -q kaggle\n",
        "! pip install --upgrade --force-reinstall --no-deps kaggle"
      ],
      "execution_count": null,
      "outputs": [
        {
          "output_type": "stream",
          "text": [
            "Processing /root/.cache/pip/wheels/68/6d/9b/7a98271454edcba3b56328cbc78c037286e787d004c8afee71/kaggle-1.5.9-cp36-none-any.whl\n",
            "Installing collected packages: kaggle\n",
            "  Found existing installation: kaggle 1.5.9\n",
            "    Uninstalling kaggle-1.5.9:\n",
            "      Successfully uninstalled kaggle-1.5.9\n",
            "Successfully installed kaggle-1.5.9\n"
          ],
          "name": "stdout"
        }
      ]
    },
    {
      "cell_type": "code",
      "metadata": {
        "colab": {
          "resources": {
            "http://localhost:8080/nbextensions/google.colab/files.js": {
              "data": "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",
              "ok": true,
              "headers": [
                [
                  "content-type",
                  "application/javascript"
                ]
              ],
              "status": 200,
              "status_text": ""
            }
          },
          "base_uri": "https://localhost:8080/",
          "height": 73
        },
        "id": "IhacQtt0OoZ6",
        "outputId": "c56137c8-bd41-4582-b492-5c992bd25804"
      },
      "source": [
        "# Run this cell, then upload your \"kaggle.json\" file when prompted.\n",
        "# This is basically a password linked to your account to allow you to download\n",
        "# the dataset\n",
        "\n",
        "from google.colab import files\n",
        "uploaded = files.upload()"
      ],
      "execution_count": null,
      "outputs": [
        {
          "output_type": "display_data",
          "data": {
            "text/html": [
              "\n",
              "     <input type=\"file\" id=\"files-e76ce8b6-1b78-422e-b2fc-e8d9c2bfb957\" name=\"files[]\" multiple disabled\n",
              "        style=\"border:none\" />\n",
              "     <output id=\"result-e76ce8b6-1b78-422e-b2fc-e8d9c2bfb957\">\n",
              "      Upload widget is only available when the cell has been executed in the\n",
              "      current browser session. Please rerun this cell to enable.\n",
              "      </output>\n",
              "      <script src=\"/nbextensions/google.colab/files.js\"></script> "
            ],
            "text/plain": [
              "<IPython.core.display.HTML object>"
            ]
          },
          "metadata": {
            "tags": []
          }
        },
        {
          "output_type": "stream",
          "text": [
            "Saving kaggle.json to kaggle.json\n"
          ],
          "name": "stdout"
        }
      ]
    },
    {
      "cell_type": "code",
      "metadata": {
        "id": "NY_RHpL7Ord_"
      },
      "source": [
        "# Below is code to gain permission to download the dataset\n",
        "\n",
        "! mkdir ~/.kaggle\n",
        "! cp kaggle.json ~/.kaggle/\n",
        "! chmod 600 ~/.kaggle/kaggle.json"
      ],
      "execution_count": null,
      "outputs": []
    },
    {
      "cell_type": "code",
      "metadata": {
        "id": "xgTUAFS0O95_",
        "colab": {
          "base_uri": "https://localhost:8080/"
        },
        "outputId": "c2288c8f-087a-476f-b3a9-f02b4e141d5d"
      },
      "source": [
        "# Download the desired dataset (in the default zip format)\n",
        "\n",
        "! kaggle competitions download -c data-science-for-good-careervillage"
      ],
      "execution_count": null,
      "outputs": [
        {
          "output_type": "stream",
          "text": [
            "Downloading data-science-for-good-careervillage.zip to /content\n",
            " 85% 57.0M/67.3M [00:01<00:00, 47.7MB/s]\n",
            "100% 67.3M/67.3M [00:01<00:00, 65.7MB/s]\n"
          ],
          "name": "stdout"
        }
      ]
    },
    {
      "cell_type": "code",
      "metadata": {
        "id": "IqkyIt10QkMX"
      },
      "source": [
        "# Unzip and load the dataset onto your current directory\n",
        "import zipfile\n",
        "zip = zipfile.ZipFile('data-science-for-good-careervillage.zip')\n",
        "zip.extractall()"
      ],
      "execution_count": null,
      "outputs": []
    },
    {
      "cell_type": "markdown",
      "metadata": {
        "id": "zQ4qVTmbQycI"
      },
      "source": [
        "#Create dataset 1 (professional topics + response rate + average speed)"
      ]
    },
    {
      "cell_type": "code",
      "metadata": {
        "colab": {
          "base_uri": "https://localhost:8080/",
          "height": 36
        },
        "id": "6wgRtGAUVMLp",
        "outputId": "045cbc09-9878-49ec-e79d-770b79f6af87"
      },
      "source": [
        "#Functions for NLP\n",
        "\n",
        "def lowercase(input):\n",
        "  return input.lower()\n",
        "\n",
        "def remove_punctuation(input):\n",
        "  return input.translate(str.maketrans('','', string.punctuation))\n",
        "\n",
        "def remove_whitespaces(input):\n",
        "  return \" \".join(input.split())\n",
        "  \n",
        "def remove_html_tags(input):\n",
        "    soup = BeautifulSoup(input, \"html.parser\")\n",
        "    stripped_input = soup.get_text(separator=\" \")\n",
        "    return stripped_input\n",
        "\n",
        "def tokenize(input):\n",
        "  return word_tokenize(input)\n",
        "\n",
        "def remove_stop_words(input):\n",
        "  return [word for word in input if word not in stopwords.words(\"english\")]\n",
        "\n",
        "def lemmatize(input):\n",
        "  lemmatizer=WordNetLemmatizer()\n",
        "  input_str=word_tokenize(input)\n",
        "  new_words = []\n",
        "  for word in input_str:\n",
        "    new_words.append(lemmatizer.lemmatize(word))\n",
        "  return ' '.join(new_words)\n",
        "\n",
        "lemmatize(remove_whitespaces(remove_punctuation(remove_html_tags(lowercase('engineering')))))\n"
      ],
      "execution_count": null,
      "outputs": [
        {
          "output_type": "execute_result",
          "data": {
            "application/vnd.google.colaboratory.intrinsic+json": {
              "type": "string"
            },
            "text/plain": [
              "'engineer'"
            ]
          },
          "metadata": {
            "tags": []
          },
          "execution_count": 74
        }
      ]
    },
    {
      "cell_type": "code",
      "metadata": {
        "colab": {
          "base_uri": "https://localhost:8080/"
        },
        "id": "tw58BJzMQwRQ",
        "outputId": "f279b448-504e-4df8-8e38-c27c022f633b"
      },
      "source": [
        "#Remove potentially duplicate tags from tag list\n",
        "\n",
        "tags = pd.read_csv('tags.csv')\n",
        "tags = tags[tags['tags_tag_name'].notna()]\n",
        "old_tags = tags['tags_tag_name'].unique()\n",
        "\n",
        "print('No. of unique tags before: ',len(tags['tags_tag_name'].unique()))\n",
        "for i in range(len(tags['tags_tag_name'])):\n",
        "  tags.iloc[i,1] = lemmatize(remove_whitespaces(remove_punctuation(remove_html_tags((tags.iloc[i,1])))))\n",
        "\n",
        "unique_tags = tags['tags_tag_name'].unique()\n",
        "print('No. of unique tags after: ', len(unique_tags))"
      ],
      "execution_count": null,
      "outputs": [
        {
          "output_type": "stream",
          "text": [
            "No. of unique tags before:  16268\n"
          ],
          "name": "stdout"
        },
        {
          "output_type": "stream",
          "text": [
            "/usr/local/lib/python3.6/dist-packages/bs4/__init__.py:273: UserWarning: \"b'/'\" looks like a filename, not markup. You should probably open this file and pass the filehandle into Beautiful Soup.\n",
            "  ' Beautiful Soup.' % markup)\n"
          ],
          "name": "stderr"
        },
        {
          "output_type": "stream",
          "text": [
            "No. of unique tags after:  13464\n"
          ],
          "name": "stdout"
        }
      ]
    },
    {
      "cell_type": "code",
      "metadata": {
        "id": "__ioc7tjrJUt",
        "colab": {
          "base_uri": "https://localhost:8080/",
          "height": 113
        },
        "outputId": "d240a379-ae76-4797-9e14-8a0f62c28922"
      },
      "source": [
        "#Create dataframe for dataset using tags\n",
        "dataset1 = pd.DataFrame(columns = np.concatenate((np.array(['prof_id','response_rate','speed']),unique_tags)))\n",
        "dataset1"
      ],
      "execution_count": null,
      "outputs": [
        {
          "output_type": "execute_result",
          "data": {
            "text/html": [
              "<div>\n",
              "<style scoped>\n",
              "    .dataframe tbody tr th:only-of-type {\n",
              "        vertical-align: middle;\n",
              "    }\n",
              "\n",
              "    .dataframe tbody tr th {\n",
              "        vertical-align: top;\n",
              "    }\n",
              "\n",
              "    .dataframe thead th {\n",
              "        text-align: right;\n",
              "    }\n",
              "</style>\n",
              "<table border=\"1\" class=\"dataframe\">\n",
              "  <thead>\n",
              "    <tr style=\"text-align: right;\">\n",
              "      <th></th>\n",
              "      <th>prof_id</th>\n",
              "      <th>response_rate</th>\n",
              "      <th>speed</th>\n",
              "      <th>college</th>\n",
              "      <th>computerscience</th>\n",
              "      <th>computersoftware</th>\n",
              "      <th>business</th>\n",
              "      <th>doctor</th>\n",
              "      <th>engineering</th>\n",
              "      <th>career</th>\n",
              "      <th>medicine</th>\n",
              "      <th>science</th>\n",
              "      <th>engineer</th>\n",
              "      <th>teaching</th>\n",
              "      <th>nursing</th>\n",
              "      <th>psychology</th>\n",
              "      <th>teacher</th>\n",
              "      <th>medical</th>\n",
              "      <th>finance</th>\n",
              "      <th>healthcare</th>\n",
              "      <th>collegemajor</th>\n",
              "      <th>professor</th>\n",
              "      <th>computer</th>\n",
              "      <th>law</th>\n",
              "      <th>nurse</th>\n",
              "      <th>biology</th>\n",
              "      <th>technology</th>\n",
              "      <th>job</th>\n",
              "      <th>education</th>\n",
              "      <th>management</th>\n",
              "      <th>any</th>\n",
              "      <th>professional</th>\n",
              "      <th>sport</th>\n",
              "      <th>accounting</th>\n",
              "      <th>university</th>\n",
              "      <th>lawyer</th>\n",
              "      <th>marketing</th>\n",
              "      <th>art</th>\n",
              "      <th>careercounseling</th>\n",
              "      <th>internship</th>\n",
              "      <th>...</th>\n",
              "      <th>xp</th>\n",
              "      <th>xrayionization</th>\n",
              "      <th>xraytech</th>\n",
              "      <th>xslt</th>\n",
              "      <th>xubuntu</th>\n",
              "      <th>y</th>\n",
              "      <th>yachtchef</th>\n",
              "      <th>yale</th>\n",
              "      <th>yardi</th>\n",
              "      <th>yayabrother</th>\n",
              "      <th>yayy</th>\n",
              "      <th>ymca</th>\n",
              "      <th>yogainstructor</th>\n",
              "      <th>yogatherapy</th>\n",
              "      <th>yolo</th>\n",
              "      <th>yonseiuniversity</th>\n",
              "      <th>youarethefuture</th>\n",
              "      <th>young</th>\n",
              "      <th>youngmom</th>\n",
              "      <th>youngprofesional</th>\n",
              "      <th>youngprofessional</th>\n",
              "      <th>youthadvisor</th>\n",
              "      <th>youthdevelopment</th>\n",
              "      <th>youthemployment</th>\n",
              "      <th>youthengagement</th>\n",
              "      <th>youthpastor</th>\n",
              "      <th>youthprograms</th>\n",
              "      <th>youthservices</th>\n",
              "      <th>yui</th>\n",
              "      <th>zambia</th>\n",
              "      <th>zdijhvgiuasbvmnv</th>\n",
              "      <th>zealand</th>\n",
              "      <th>zeitgeist</th>\n",
              "      <th>zillow</th>\n",
              "      <th>zjz</th>\n",
              "      <th>zombiekilling</th>\n",
              "      <th>zsh</th>\n",
              "      <th>zumba</th>\n",
              "      <th>zynga</th>\n",
              "      <th>零售</th>\n",
              "    </tr>\n",
              "  </thead>\n",
              "  <tbody>\n",
              "  </tbody>\n",
              "</table>\n",
              "<p>0 rows × 13467 columns</p>\n",
              "</div>"
            ],
            "text/plain": [
              "Empty DataFrame\n",
              "Columns: [prof_id, response_rate, speed, college, computerscience, computersoftware, business, doctor, engineering, career, medicine, science, engineer, teaching, nursing, psychology, teacher, medical, finance, healthcare, collegemajor, professor, computer, law, nurse, biology, technology, job, education, management, any, professional, sport, accounting, university, lawyer, marketing, art, careercounseling, internship, music, mechanicalengineering, money, health, stem, school, careerchoice, student, entrepreneurship, careerpath, businessadministration, premed, graduateschool, math, fashion, educator, mathematics, graduate, programming, software, collegeadmissions, jobsearch, businessmanagement, leadership, research, ixzz4ofjuqwa1, major, police, registerednurses, communication, help, pediatrics, chemistry, economics, tech, acting, journalism, criminaljustice, design, careerpaths, veterinarian, highereducation, aviation, collegebound, humanresources, biomedical, scholarship, civilengineering, hospital, pediatrician, interview, resume, airlineindustry, computerengineering, architecture, physician, degree, experience, physic, electricalengineering, ...]\n",
              "Index: []\n",
              "\n",
              "[0 rows x 13467 columns]"
            ]
          },
          "metadata": {
            "tags": []
          },
          "execution_count": 206
        }
      ]
    },
    {
      "cell_type": "code",
      "metadata": {
        "id": "D4nd0om-b7w0"
      },
      "source": [
        "#Extract data for each professional\n",
        "\n",
        "#Read files\n",
        "professionals = pd.read_csv('professionals.csv')\n",
        "answers = pd.read_csv('answers.csv')\n",
        "tag_questions = pd.read_csv('tag_questions.csv')\n",
        "questions = pd.read_csv('questions.csv')\n",
        "emails = pd.read_csv('emails.csv')\n",
        "\n",
        "professionals_with_answers = answers['answers_author_id'].unique()\n",
        "\n",
        "\n",
        "#Loop through each professional's answers to get their topics\n",
        "count = 0\n",
        "for prof_id in professionals_with_answers:\n",
        "\n",
        "  #Should go upto 10000. It's printing to know how much time is left for the cell to end\n",
        "  print(count)\n",
        "\n",
        "  prof_answers = answers[answers['answers_author_id']==prof_id]\n",
        "  ques_ids = prof_answers['answers_question_id']\n",
        "  prof_tags = []\n",
        "  tag_ids = []\n",
        "\n",
        "\n",
        "  #Find tags in the professional's answers\n",
        "  for ques in ques_ids:\n",
        "    \n",
        "    #Check if question is tagged or not\n",
        "    if ques in list(tag_questions['tag_questions_question_id']):\n",
        "      tag_ids.append(tag_questions[tag_questions['tag_questions_question_id']==ques]['tag_questions_tag_id'].iloc[0])\n",
        "\n",
        "\n",
        "  for tag in tag_ids:\n",
        "    prof_tags.append(tags[tags['tags_tag_id'] == tag].iloc[0,1])\n",
        "\n",
        "  #Find response rate of professional\n",
        "\n",
        "  #In case an email was not sent to a professor, but they still answered a question\n",
        "  if prof_id not in list(emails['emails_recipient_id']):\n",
        "    rate = 0\n",
        "  \n",
        "  else:\n",
        "    emails_sent = emails.emails_recipient_id.value_counts()[prof_id]\n",
        "    rate = len(prof_answers)/emails_sent\n",
        "\n",
        "  #Find avg time taken for professional to answer questions\n",
        "  total_time = 0\n",
        "\n",
        "  for ques in ques_ids:\n",
        "    day_posted = parser.parse(questions[questions['questions_id']==ques]['questions_date_added'].iloc[0])\n",
        "    day_answered = parser.parse(answers[answers['answers_question_id']==ques]['answers_date_added'].iloc[0])\n",
        "    total_time += (day_answered - day_posted).days\n",
        "  \n",
        "  speed = total_time/len(prof_answers)\n",
        "\n",
        "\n",
        "  #Append data to dataset\n",
        "  row = [prof_id,rate,speed]\n",
        "\n",
        "  for i in unique_tags:\n",
        "    appended = False\n",
        "    for tag in prof_tags:\n",
        "      if tag == i:\n",
        "        row.append(1)\n",
        "        appended = True\n",
        "        break\n",
        "      else:\n",
        "        continue\n",
        "\n",
        "    if appended == False:    \n",
        "      row.append(0)\n",
        "  dataset1.loc[count] = row\n",
        "  count += 1\n",
        "\n",
        "\n",
        "  \n",
        "\n"
      ],
      "execution_count": null,
      "outputs": []
    },
    {
      "cell_type": "markdown",
      "metadata": {
        "id": "JJ9G8VXsle2p"
      },
      "source": [
        "#Alternatively, just directly download the data file from the link below"
      ]
    },
    {
      "cell_type": "code",
      "metadata": {
        "colab": {
          "base_uri": "https://localhost:8080/"
        },
        "id": "xUeiVjEv-VXI",
        "outputId": "adff09a9-5530-44ee-8a62-28f27707493f"
      },
      "source": [
        "!gdown --id 1yP5ck8mS5klbZ0tvz9dDqi88MWGJbg27"
      ],
      "execution_count": 2,
      "outputs": [
        {
          "output_type": "stream",
          "text": [
            "Downloading...\n",
            "From: https://drive.google.com/uc?id=1yP5ck8mS5klbZ0tvz9dDqi88MWGJbg27\n",
            "To: /content/data_part1.csv\n",
            "275MB [00:01, 151MB/s]\n"
          ],
          "name": "stdout"
        }
      ]
    }
  ]
}