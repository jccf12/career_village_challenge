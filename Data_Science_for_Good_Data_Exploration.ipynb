{
  "nbformat": 4,
  "nbformat_minor": 0,
  "metadata": {
    "colab": {
      "name": "Data Science for Good Data Exploration.ipynb",
      "provenance": []
    },
    "kernelspec": {
      "name": "python3",
      "display_name": "Python 3"
    }
  },
  "cells": [
    {
      "cell_type": "code",
      "metadata": {
        "id": "AqWoaMkuU71o"
      },
      "source": [
        "import pandas as pd\n",
        "import numpy as np"
      ],
      "execution_count": 3,
      "outputs": []
    },
    {
      "cell_type": "code",
      "metadata": {
        "id": "NvX1gjudVayr"
      },
      "source": [
        "questions = pd.read_csv('questions.csv', engine = 'python', encoding='utf-8')\n",
        "answers = pd.read_csv('answers.csv', engine = 'python', encoding='utf-8')"
      ],
      "execution_count": 9,
      "outputs": []
    },
    {
      "cell_type": "code",
      "metadata": {
        "id": "wSICaWbeWHFQ"
      },
      "source": [
        "subset_columns = ['questions_title','questions_body','answers_body']"
      ],
      "execution_count": 43,
      "outputs": []
    },
    {
      "cell_type": "code",
      "metadata": {
        "id": "C9zdgUrfbEM7"
      },
      "source": [
        "matched_q_a = pd.concat([questions.set_index('questions_id'),answers.set_index('answers_question_id')], axis=1, join='inner')"
      ],
      "execution_count": 51,
      "outputs": []
    },
    {
      "cell_type": "code",
      "metadata": {
        "colab": {
          "base_uri": "https://localhost:8080/"
        },
        "id": "CHvI_CLybZJ-",
        "outputId": "1c9cf00e-b630-4c36-acb7-b5f8f7a5572e"
      },
      "source": [
        "answers.shape\n",
        "matched_q_a.shape"
      ],
      "execution_count": 53,
      "outputs": [
        {
          "output_type": "execute_result",
          "data": {
            "text/plain": [
              "(51123, 8)"
            ]
          },
          "metadata": {
            "tags": []
          },
          "execution_count": 53
        }
      ]
    },
    {
      "cell_type": "code",
      "metadata": {
        "colab": {
          "base_uri": "https://localhost:8080/",
          "height": 462
        },
        "id": "17jirlbmboco",
        "outputId": "e299edcd-51dd-4079-c77a-3cbfcf306c21"
      },
      "source": [
        "matched_q_a.head(5)"
      ],
      "execution_count": 62,
      "outputs": [
        {
          "output_type": "execute_result",
          "data": {
            "text/html": [
              "<div>\n",
              "<style scoped>\n",
              "    .dataframe tbody tr th:only-of-type {\n",
              "        vertical-align: middle;\n",
              "    }\n",
              "\n",
              "    .dataframe tbody tr th {\n",
              "        vertical-align: top;\n",
              "    }\n",
              "\n",
              "    .dataframe thead th {\n",
              "        text-align: right;\n",
              "    }\n",
              "</style>\n",
              "<table border=\"1\" class=\"dataframe\">\n",
              "  <thead>\n",
              "    <tr style=\"text-align: right;\">\n",
              "      <th></th>\n",
              "      <th>questions_author_id</th>\n",
              "      <th>questions_date_added</th>\n",
              "      <th>questions_title</th>\n",
              "      <th>questions_body</th>\n",
              "      <th>answers_id</th>\n",
              "      <th>answers_author_id</th>\n",
              "      <th>answers_date_added</th>\n",
              "      <th>answers_body</th>\n",
              "    </tr>\n",
              "  </thead>\n",
              "  <tbody>\n",
              "    <tr>\n",
              "      <th>332a511f1569444485cf7a7a556a5e54</th>\n",
              "      <td>8f6f374ffd834d258ab69d376dd998f5</td>\n",
              "      <td>2016-04-26 11:14:26 UTC+0000</td>\n",
              "      <td>Teacher   career   question</td>\n",
              "      <td>What  is  a  maths  teacher?   what  is  a  ma...</td>\n",
              "      <td>4e5f01128cae4f6d8fd697cec5dca60c</td>\n",
              "      <td>36ff3b3666df400f956f8335cf53e09e</td>\n",
              "      <td>2016-04-29 19:40:14 UTC+0000</td>\n",
              "      <td>&lt;p&gt;Hi!&lt;/p&gt;\\n&lt;p&gt;You are asking a very interesti...</td>\n",
              "    </tr>\n",
              "    <tr>\n",
              "      <th>eb80205482e4424cad8f16bc25aa2d9c</th>\n",
              "      <td>acccbda28edd4362ab03fb8b6fd2d67b</td>\n",
              "      <td>2016-05-20 16:48:25 UTC+0000</td>\n",
              "      <td>I want to become an army officer. What can I d...</td>\n",
              "      <td>I am Priyanka from Bangalore . Now am in 10th ...</td>\n",
              "      <td>ada720538c014e9b8a6dceed09385ee3</td>\n",
              "      <td>2aa47af241bf42a4b874c453f0381bd4</td>\n",
              "      <td>2018-05-01 14:19:08 UTC+0000</td>\n",
              "      <td>&lt;p&gt;Hi. I joined the Army after I attended coll...</td>\n",
              "    </tr>\n",
              "    <tr>\n",
              "      <th>eb80205482e4424cad8f16bc25aa2d9c</th>\n",
              "      <td>acccbda28edd4362ab03fb8b6fd2d67b</td>\n",
              "      <td>2016-05-20 16:48:25 UTC+0000</td>\n",
              "      <td>I want to become an army officer. What can I d...</td>\n",
              "      <td>I am Priyanka from Bangalore . Now am in 10th ...</td>\n",
              "      <td>eaa66ef919bc408ab5296237440e323f</td>\n",
              "      <td>cbd8f30613a849bf918aed5c010340be</td>\n",
              "      <td>2018-05-02 02:41:02 UTC+0000</td>\n",
              "      <td>&lt;p&gt;Dear Priyanka,&lt;/p&gt;&lt;p&gt;Greetings! I have answ...</td>\n",
              "    </tr>\n",
              "    <tr>\n",
              "      <th>4ec31632938a40b98909416bdd0decff</th>\n",
              "      <td>f2c179a563024ccc927399ce529094b5</td>\n",
              "      <td>2017-02-08 19:13:38 UTC+0000</td>\n",
              "      <td>Will going abroad for your first job increase ...</td>\n",
              "      <td>I'm planning on going abroad for my first job....</td>\n",
              "      <td>1a6b3749d391486c9e371fbd1e605014</td>\n",
              "      <td>7e72a630c303442ba92ff00e8ea451df</td>\n",
              "      <td>2017-05-10 19:00:47 UTC+0000</td>\n",
              "      <td>&lt;p&gt;I work for a global company who values high...</td>\n",
              "    </tr>\n",
              "    <tr>\n",
              "      <th>2f6a9a99d9b24e5baa50d40d0ba50a75</th>\n",
              "      <td>2c30ffba444e40eabb4583b55233a5a4</td>\n",
              "      <td>2017-09-01 14:05:32 UTC+0000</td>\n",
              "      <td>To become a specialist in business  management...</td>\n",
              "      <td>i hear business management is a hard way to ge...</td>\n",
              "      <td>5229c514000446d582050f89ebd4e184</td>\n",
              "      <td>17802d94699140b0a0d2995f30c034c6</td>\n",
              "      <td>2017-10-13 22:07:33 UTC+0000</td>\n",
              "      <td>I agree with Denise. Every single job I've had...</td>\n",
              "    </tr>\n",
              "  </tbody>\n",
              "</table>\n",
              "</div>"
            ],
            "text/plain": [
              "                                               questions_author_id  ...                                       answers_body\n",
              "332a511f1569444485cf7a7a556a5e54  8f6f374ffd834d258ab69d376dd998f5  ...  <p>Hi!</p>\\n<p>You are asking a very interesti...\n",
              "eb80205482e4424cad8f16bc25aa2d9c  acccbda28edd4362ab03fb8b6fd2d67b  ...  <p>Hi. I joined the Army after I attended coll...\n",
              "eb80205482e4424cad8f16bc25aa2d9c  acccbda28edd4362ab03fb8b6fd2d67b  ...  <p>Dear Priyanka,</p><p>Greetings! I have answ...\n",
              "4ec31632938a40b98909416bdd0decff  f2c179a563024ccc927399ce529094b5  ...  <p>I work for a global company who values high...\n",
              "2f6a9a99d9b24e5baa50d40d0ba50a75  2c30ffba444e40eabb4583b55233a5a4  ...  I agree with Denise. Every single job I've had...\n",
              "\n",
              "[5 rows x 8 columns]"
            ]
          },
          "metadata": {
            "tags": []
          },
          "execution_count": 62
        }
      ]
    },
    {
      "cell_type": "code",
      "metadata": {
        "colab": {
          "base_uri": "https://localhost:8080/",
          "height": 134
        },
        "id": "bzyyyc5xb2bl",
        "outputId": "ed330f50-de79-4f38-ed09-2fa04dadf694"
      },
      "source": [
        "matched_q_a[matched_q_a.answers_body.isnull()]"
      ],
      "execution_count": 56,
      "outputs": [
        {
          "output_type": "execute_result",
          "data": {
            "text/html": [
              "<div>\n",
              "<style scoped>\n",
              "    .dataframe tbody tr th:only-of-type {\n",
              "        vertical-align: middle;\n",
              "    }\n",
              "\n",
              "    .dataframe tbody tr th {\n",
              "        vertical-align: top;\n",
              "    }\n",
              "\n",
              "    .dataframe thead th {\n",
              "        text-align: right;\n",
              "    }\n",
              "</style>\n",
              "<table border=\"1\" class=\"dataframe\">\n",
              "  <thead>\n",
              "    <tr style=\"text-align: right;\">\n",
              "      <th></th>\n",
              "      <th>questions_author_id</th>\n",
              "      <th>questions_date_added</th>\n",
              "      <th>questions_title</th>\n",
              "      <th>questions_body</th>\n",
              "      <th>answers_id</th>\n",
              "      <th>answers_author_id</th>\n",
              "      <th>answers_date_added</th>\n",
              "      <th>answers_body</th>\n",
              "    </tr>\n",
              "  </thead>\n",
              "  <tbody>\n",
              "    <tr>\n",
              "      <th>6583e411a80149ae90b0cd08fe0c200f</th>\n",
              "      <td>1dfbdacaa36141248ceedf254a35e69e</td>\n",
              "      <td>2016-05-17 22:06:37 UTC+0000</td>\n",
              "      <td>Would I be able to mantain a writing career as...</td>\n",
              "      <td>I'm passionate about writing but I want to be ...</td>\n",
              "      <td>1c6190c8090248a3b639407dcd5819e5</td>\n",
              "      <td>f123a7e8ad2345b49378d51b2238c50b</td>\n",
              "      <td>2016-05-19 05:31:28 UTC+0000</td>\n",
              "      <td>NaN</td>\n",
              "    </tr>\n",
              "  </tbody>\n",
              "</table>\n",
              "</div>"
            ],
            "text/plain": [
              "                                               questions_author_id  ... answers_body\n",
              "6583e411a80149ae90b0cd08fe0c200f  1dfbdacaa36141248ceedf254a35e69e  ...          NaN\n",
              "\n",
              "[1 rows x 8 columns]"
            ]
          },
          "metadata": {
            "tags": []
          },
          "execution_count": 56
        }
      ]
    },
    {
      "cell_type": "code",
      "metadata": {
        "id": "GLe6KekEdU25"
      },
      "source": [
        "professionals = pd.read_csv('professionals.csv')\n",
        "tag_questions = pd.read_csv('tag_questions.csv')"
      ],
      "execution_count": 59,
      "outputs": []
    },
    {
      "cell_type": "code",
      "metadata": {
        "colab": {
          "base_uri": "https://localhost:8080/",
          "height": 204
        },
        "id": "FpSLW8Rvd3d5",
        "outputId": "d6dc726d-a083-4d59-d292-e6df54ef2908"
      },
      "source": [
        "professionals.head(5)"
      ],
      "execution_count": 63,
      "outputs": [
        {
          "output_type": "execute_result",
          "data": {
            "text/html": [
              "<div>\n",
              "<style scoped>\n",
              "    .dataframe tbody tr th:only-of-type {\n",
              "        vertical-align: middle;\n",
              "    }\n",
              "\n",
              "    .dataframe tbody tr th {\n",
              "        vertical-align: top;\n",
              "    }\n",
              "\n",
              "    .dataframe thead th {\n",
              "        text-align: right;\n",
              "    }\n",
              "</style>\n",
              "<table border=\"1\" class=\"dataframe\">\n",
              "  <thead>\n",
              "    <tr style=\"text-align: right;\">\n",
              "      <th></th>\n",
              "      <th>professionals_id</th>\n",
              "      <th>professionals_location</th>\n",
              "      <th>professionals_industry</th>\n",
              "      <th>professionals_headline</th>\n",
              "      <th>professionals_date_joined</th>\n",
              "    </tr>\n",
              "  </thead>\n",
              "  <tbody>\n",
              "    <tr>\n",
              "      <th>0</th>\n",
              "      <td>9ced4ce7519049c0944147afb75a8ce3</td>\n",
              "      <td>NaN</td>\n",
              "      <td>NaN</td>\n",
              "      <td>NaN</td>\n",
              "      <td>2011-10-05 20:35:19 UTC+0000</td>\n",
              "    </tr>\n",
              "    <tr>\n",
              "      <th>1</th>\n",
              "      <td>f718dcf6d2ec4cb0a52a9db59d7f9e67</td>\n",
              "      <td>NaN</td>\n",
              "      <td>NaN</td>\n",
              "      <td>NaN</td>\n",
              "      <td>2011-10-05 20:49:21 UTC+0000</td>\n",
              "    </tr>\n",
              "    <tr>\n",
              "      <th>2</th>\n",
              "      <td>0c673e046d824ec0ad0ebe012a0673e4</td>\n",
              "      <td>New York, New York</td>\n",
              "      <td>NaN</td>\n",
              "      <td>NaN</td>\n",
              "      <td>2011-10-18 17:31:26 UTC+0000</td>\n",
              "    </tr>\n",
              "    <tr>\n",
              "      <th>3</th>\n",
              "      <td>977428d851b24183b223be0eb8619a8c</td>\n",
              "      <td>Boston, Massachusetts</td>\n",
              "      <td>NaN</td>\n",
              "      <td>NaN</td>\n",
              "      <td>2011-11-09 20:39:29 UTC+0000</td>\n",
              "    </tr>\n",
              "    <tr>\n",
              "      <th>4</th>\n",
              "      <td>e2d57e5041a44f489288397c9904c2b2</td>\n",
              "      <td>NaN</td>\n",
              "      <td>NaN</td>\n",
              "      <td>NaN</td>\n",
              "      <td>2011-12-10 22:14:44 UTC+0000</td>\n",
              "    </tr>\n",
              "  </tbody>\n",
              "</table>\n",
              "</div>"
            ],
            "text/plain": [
              "                   professionals_id  ...     professionals_date_joined\n",
              "0  9ced4ce7519049c0944147afb75a8ce3  ...  2011-10-05 20:35:19 UTC+0000\n",
              "1  f718dcf6d2ec4cb0a52a9db59d7f9e67  ...  2011-10-05 20:49:21 UTC+0000\n",
              "2  0c673e046d824ec0ad0ebe012a0673e4  ...  2011-10-18 17:31:26 UTC+0000\n",
              "3  977428d851b24183b223be0eb8619a8c  ...  2011-11-09 20:39:29 UTC+0000\n",
              "4  e2d57e5041a44f489288397c9904c2b2  ...  2011-12-10 22:14:44 UTC+0000\n",
              "\n",
              "[5 rows x 5 columns]"
            ]
          },
          "metadata": {
            "tags": []
          },
          "execution_count": 63
        }
      ]
    },
    {
      "cell_type": "code",
      "metadata": {
        "colab": {
          "base_uri": "https://localhost:8080/",
          "height": 462
        },
        "id": "tBJILgwPfFdu",
        "outputId": "dfcccf47-e3d5-4376-ffc4-311e0eb76128"
      },
      "source": [
        "matched_q_a.head(5)"
      ],
      "execution_count": 68,
      "outputs": [
        {
          "output_type": "execute_result",
          "data": {
            "text/html": [
              "<div>\n",
              "<style scoped>\n",
              "    .dataframe tbody tr th:only-of-type {\n",
              "        vertical-align: middle;\n",
              "    }\n",
              "\n",
              "    .dataframe tbody tr th {\n",
              "        vertical-align: top;\n",
              "    }\n",
              "\n",
              "    .dataframe thead th {\n",
              "        text-align: right;\n",
              "    }\n",
              "</style>\n",
              "<table border=\"1\" class=\"dataframe\">\n",
              "  <thead>\n",
              "    <tr style=\"text-align: right;\">\n",
              "      <th></th>\n",
              "      <th>questions_author_id</th>\n",
              "      <th>questions_date_added</th>\n",
              "      <th>questions_title</th>\n",
              "      <th>questions_body</th>\n",
              "      <th>answers_id</th>\n",
              "      <th>answers_author_id</th>\n",
              "      <th>answers_date_added</th>\n",
              "      <th>answers_body</th>\n",
              "    </tr>\n",
              "  </thead>\n",
              "  <tbody>\n",
              "    <tr>\n",
              "      <th>332a511f1569444485cf7a7a556a5e54</th>\n",
              "      <td>8f6f374ffd834d258ab69d376dd998f5</td>\n",
              "      <td>2016-04-26 11:14:26 UTC+0000</td>\n",
              "      <td>Teacher   career   question</td>\n",
              "      <td>What  is  a  maths  teacher?   what  is  a  ma...</td>\n",
              "      <td>4e5f01128cae4f6d8fd697cec5dca60c</td>\n",
              "      <td>36ff3b3666df400f956f8335cf53e09e</td>\n",
              "      <td>2016-04-29 19:40:14 UTC+0000</td>\n",
              "      <td>&lt;p&gt;Hi!&lt;/p&gt;\\n&lt;p&gt;You are asking a very interesti...</td>\n",
              "    </tr>\n",
              "    <tr>\n",
              "      <th>eb80205482e4424cad8f16bc25aa2d9c</th>\n",
              "      <td>acccbda28edd4362ab03fb8b6fd2d67b</td>\n",
              "      <td>2016-05-20 16:48:25 UTC+0000</td>\n",
              "      <td>I want to become an army officer. What can I d...</td>\n",
              "      <td>I am Priyanka from Bangalore . Now am in 10th ...</td>\n",
              "      <td>ada720538c014e9b8a6dceed09385ee3</td>\n",
              "      <td>2aa47af241bf42a4b874c453f0381bd4</td>\n",
              "      <td>2018-05-01 14:19:08 UTC+0000</td>\n",
              "      <td>&lt;p&gt;Hi. I joined the Army after I attended coll...</td>\n",
              "    </tr>\n",
              "    <tr>\n",
              "      <th>eb80205482e4424cad8f16bc25aa2d9c</th>\n",
              "      <td>acccbda28edd4362ab03fb8b6fd2d67b</td>\n",
              "      <td>2016-05-20 16:48:25 UTC+0000</td>\n",
              "      <td>I want to become an army officer. What can I d...</td>\n",
              "      <td>I am Priyanka from Bangalore . Now am in 10th ...</td>\n",
              "      <td>eaa66ef919bc408ab5296237440e323f</td>\n",
              "      <td>cbd8f30613a849bf918aed5c010340be</td>\n",
              "      <td>2018-05-02 02:41:02 UTC+0000</td>\n",
              "      <td>&lt;p&gt;Dear Priyanka,&lt;/p&gt;&lt;p&gt;Greetings! I have answ...</td>\n",
              "    </tr>\n",
              "    <tr>\n",
              "      <th>4ec31632938a40b98909416bdd0decff</th>\n",
              "      <td>f2c179a563024ccc927399ce529094b5</td>\n",
              "      <td>2017-02-08 19:13:38 UTC+0000</td>\n",
              "      <td>Will going abroad for your first job increase ...</td>\n",
              "      <td>I'm planning on going abroad for my first job....</td>\n",
              "      <td>1a6b3749d391486c9e371fbd1e605014</td>\n",
              "      <td>7e72a630c303442ba92ff00e8ea451df</td>\n",
              "      <td>2017-05-10 19:00:47 UTC+0000</td>\n",
              "      <td>&lt;p&gt;I work for a global company who values high...</td>\n",
              "    </tr>\n",
              "    <tr>\n",
              "      <th>2f6a9a99d9b24e5baa50d40d0ba50a75</th>\n",
              "      <td>2c30ffba444e40eabb4583b55233a5a4</td>\n",
              "      <td>2017-09-01 14:05:32 UTC+0000</td>\n",
              "      <td>To become a specialist in business  management...</td>\n",
              "      <td>i hear business management is a hard way to ge...</td>\n",
              "      <td>5229c514000446d582050f89ebd4e184</td>\n",
              "      <td>17802d94699140b0a0d2995f30c034c6</td>\n",
              "      <td>2017-10-13 22:07:33 UTC+0000</td>\n",
              "      <td>I agree with Denise. Every single job I've had...</td>\n",
              "    </tr>\n",
              "  </tbody>\n",
              "</table>\n",
              "</div>"
            ],
            "text/plain": [
              "                                               questions_author_id  ...                                       answers_body\n",
              "332a511f1569444485cf7a7a556a5e54  8f6f374ffd834d258ab69d376dd998f5  ...  <p>Hi!</p>\\n<p>You are asking a very interesti...\n",
              "eb80205482e4424cad8f16bc25aa2d9c  acccbda28edd4362ab03fb8b6fd2d67b  ...  <p>Hi. I joined the Army after I attended coll...\n",
              "eb80205482e4424cad8f16bc25aa2d9c  acccbda28edd4362ab03fb8b6fd2d67b  ...  <p>Dear Priyanka,</p><p>Greetings! I have answ...\n",
              "4ec31632938a40b98909416bdd0decff  f2c179a563024ccc927399ce529094b5  ...  <p>I work for a global company who values high...\n",
              "2f6a9a99d9b24e5baa50d40d0ba50a75  2c30ffba444e40eabb4583b55233a5a4  ...  I agree with Denise. Every single job I've had...\n",
              "\n",
              "[5 rows x 8 columns]"
            ]
          },
          "metadata": {
            "tags": []
          },
          "execution_count": 68
        }
      ]
    },
    {
      "cell_type": "code",
      "metadata": {
        "colab": {
          "base_uri": "https://localhost:8080/",
          "height": 134
        },
        "id": "LDhtUIN3ewEE",
        "outputId": "e5d51a75-2d92-42ed-b5dd-f6b52a18701f"
      },
      "source": [
        "matched_q_a[matched_q_a.answers_author_id == '9ced4ce7519049c0944147afb75a8ce3']"
      ],
      "execution_count": 69,
      "outputs": [
        {
          "output_type": "execute_result",
          "data": {
            "text/html": [
              "<div>\n",
              "<style scoped>\n",
              "    .dataframe tbody tr th:only-of-type {\n",
              "        vertical-align: middle;\n",
              "    }\n",
              "\n",
              "    .dataframe tbody tr th {\n",
              "        vertical-align: top;\n",
              "    }\n",
              "\n",
              "    .dataframe thead th {\n",
              "        text-align: right;\n",
              "    }\n",
              "</style>\n",
              "<table border=\"1\" class=\"dataframe\">\n",
              "  <thead>\n",
              "    <tr style=\"text-align: right;\">\n",
              "      <th></th>\n",
              "      <th>questions_author_id</th>\n",
              "      <th>questions_date_added</th>\n",
              "      <th>questions_title</th>\n",
              "      <th>questions_body</th>\n",
              "      <th>answers_id</th>\n",
              "      <th>answers_author_id</th>\n",
              "      <th>answers_date_added</th>\n",
              "      <th>answers_body</th>\n",
              "    </tr>\n",
              "  </thead>\n",
              "  <tbody>\n",
              "    <tr>\n",
              "      <th>f6b9ca94aed04ba28256492708e74f60</th>\n",
              "      <td>05444a2f42454327b2ac4b463c0adbe0</td>\n",
              "      <td>2011-09-27 15:26:19 UTC+0000</td>\n",
              "      <td>What do top tier consulting firms look for in ...</td>\n",
              "      <td>Please explain the factors consulting firms lo...</td>\n",
              "      <td>7640a6e5d5224c8681cc58de860858f4</td>\n",
              "      <td>9ced4ce7519049c0944147afb75a8ce3</td>\n",
              "      <td>2011-10-05 20:42:09 UTC+0000</td>\n",
              "      <td>&lt;p&gt;Basically three things: &lt;/p&gt;\\n&lt;ol&gt;\\n&lt;li&gt;Big...</td>\n",
              "    </tr>\n",
              "  </tbody>\n",
              "</table>\n",
              "</div>"
            ],
            "text/plain": [
              "                                               questions_author_id  ...                                       answers_body\n",
              "f6b9ca94aed04ba28256492708e74f60  05444a2f42454327b2ac4b463c0adbe0  ...  <p>Basically three things: </p>\\n<ol>\\n<li>Big...\n",
              "\n",
              "[1 rows x 8 columns]"
            ]
          },
          "metadata": {
            "tags": []
          },
          "execution_count": 69
        }
      ]
    },
    {
      "cell_type": "code",
      "metadata": {
        "colab": {
          "base_uri": "https://localhost:8080/",
          "height": 307
        },
        "id": "dRcVucOid83D",
        "outputId": "61c81fed-b098-4e74-cf2e-92864ba5a842"
      },
      "source": [
        "matched2 = pd.concat((matched_q_a.set_index('answers_author_id'),professionals.set_index('professionals_id')), axis = 1)"
      ],
      "execution_count": 77,
      "outputs": [
        {
          "output_type": "error",
          "ename": "ValueError",
          "evalue": "ignored",
          "traceback": [
            "\u001b[0;31m---------------------------------------------------------------------------\u001b[0m",
            "\u001b[0;31mValueError\u001b[0m                                Traceback (most recent call last)",
            "\u001b[0;32m<ipython-input-77-78dbc5981e59>\u001b[0m in \u001b[0;36m<module>\u001b[0;34m()\u001b[0m\n\u001b[0;32m----> 1\u001b[0;31m \u001b[0mmatched2\u001b[0m \u001b[0;34m=\u001b[0m \u001b[0mpd\u001b[0m\u001b[0;34m.\u001b[0m\u001b[0mconcat\u001b[0m\u001b[0;34m(\u001b[0m\u001b[0;34m(\u001b[0m\u001b[0mmatched_q_a\u001b[0m\u001b[0;34m.\u001b[0m\u001b[0mset_index\u001b[0m\u001b[0;34m(\u001b[0m\u001b[0;34m'answers_author_id'\u001b[0m\u001b[0;34m)\u001b[0m\u001b[0;34m,\u001b[0m\u001b[0mprofessionals\u001b[0m\u001b[0;34m.\u001b[0m\u001b[0mset_index\u001b[0m\u001b[0;34m(\u001b[0m\u001b[0;34m'professionals_id'\u001b[0m\u001b[0;34m)\u001b[0m\u001b[0;34m)\u001b[0m\u001b[0;34m,\u001b[0m \u001b[0maxis\u001b[0m \u001b[0;34m=\u001b[0m \u001b[0;36m1\u001b[0m\u001b[0;34m)\u001b[0m\u001b[0;34m\u001b[0m\u001b[0;34m\u001b[0m\u001b[0m\n\u001b[0m",
            "\u001b[0;32m/usr/local/lib/python3.6/dist-packages/pandas/core/reshape/concat.py\u001b[0m in \u001b[0;36mconcat\u001b[0;34m(objs, axis, join, ignore_index, keys, levels, names, verify_integrity, sort, copy)\u001b[0m\n\u001b[1;32m    285\u001b[0m     )\n\u001b[1;32m    286\u001b[0m \u001b[0;34m\u001b[0m\u001b[0m\n\u001b[0;32m--> 287\u001b[0;31m     \u001b[0;32mreturn\u001b[0m \u001b[0mop\u001b[0m\u001b[0;34m.\u001b[0m\u001b[0mget_result\u001b[0m\u001b[0;34m(\u001b[0m\u001b[0;34m)\u001b[0m\u001b[0;34m\u001b[0m\u001b[0;34m\u001b[0m\u001b[0m\n\u001b[0m\u001b[1;32m    288\u001b[0m \u001b[0;34m\u001b[0m\u001b[0m\n\u001b[1;32m    289\u001b[0m \u001b[0;34m\u001b[0m\u001b[0m\n",
            "\u001b[0;32m/usr/local/lib/python3.6/dist-packages/pandas/core/reshape/concat.py\u001b[0m in \u001b[0;36mget_result\u001b[0;34m(self)\u001b[0m\n\u001b[1;32m    501\u001b[0m \u001b[0;34m\u001b[0m\u001b[0m\n\u001b[1;32m    502\u001b[0m             new_data = concatenate_block_managers(\n\u001b[0;32m--> 503\u001b[0;31m                 \u001b[0mmgrs_indexers\u001b[0m\u001b[0;34m,\u001b[0m \u001b[0mself\u001b[0m\u001b[0;34m.\u001b[0m\u001b[0mnew_axes\u001b[0m\u001b[0;34m,\u001b[0m \u001b[0mconcat_axis\u001b[0m\u001b[0;34m=\u001b[0m\u001b[0mself\u001b[0m\u001b[0;34m.\u001b[0m\u001b[0mbm_axis\u001b[0m\u001b[0;34m,\u001b[0m \u001b[0mcopy\u001b[0m\u001b[0;34m=\u001b[0m\u001b[0mself\u001b[0m\u001b[0;34m.\u001b[0m\u001b[0mcopy\u001b[0m\u001b[0;34m,\u001b[0m\u001b[0;34m\u001b[0m\u001b[0;34m\u001b[0m\u001b[0m\n\u001b[0m\u001b[1;32m    504\u001b[0m             )\n\u001b[1;32m    505\u001b[0m             \u001b[0;32mif\u001b[0m \u001b[0;32mnot\u001b[0m \u001b[0mself\u001b[0m\u001b[0;34m.\u001b[0m\u001b[0mcopy\u001b[0m\u001b[0;34m:\u001b[0m\u001b[0;34m\u001b[0m\u001b[0;34m\u001b[0m\u001b[0m\n",
            "\u001b[0;32m/usr/local/lib/python3.6/dist-packages/pandas/core/internals/concat.py\u001b[0m in \u001b[0;36mconcatenate_block_managers\u001b[0;34m(mgrs_indexers, axes, concat_axis, copy)\u001b[0m\n\u001b[1;32m     82\u001b[0m         \u001b[0mblocks\u001b[0m\u001b[0;34m.\u001b[0m\u001b[0mappend\u001b[0m\u001b[0;34m(\u001b[0m\u001b[0mb\u001b[0m\u001b[0;34m)\u001b[0m\u001b[0;34m\u001b[0m\u001b[0;34m\u001b[0m\u001b[0m\n\u001b[1;32m     83\u001b[0m \u001b[0;34m\u001b[0m\u001b[0m\n\u001b[0;32m---> 84\u001b[0;31m     \u001b[0;32mreturn\u001b[0m \u001b[0mBlockManager\u001b[0m\u001b[0;34m(\u001b[0m\u001b[0mblocks\u001b[0m\u001b[0;34m,\u001b[0m \u001b[0maxes\u001b[0m\u001b[0;34m)\u001b[0m\u001b[0;34m\u001b[0m\u001b[0;34m\u001b[0m\u001b[0m\n\u001b[0m\u001b[1;32m     85\u001b[0m \u001b[0;34m\u001b[0m\u001b[0m\n\u001b[1;32m     86\u001b[0m \u001b[0;34m\u001b[0m\u001b[0m\n",
            "\u001b[0;32m/usr/local/lib/python3.6/dist-packages/pandas/core/internals/managers.py\u001b[0m in \u001b[0;36m__init__\u001b[0;34m(self, blocks, axes, do_integrity_check)\u001b[0m\n\u001b[1;32m    147\u001b[0m \u001b[0;34m\u001b[0m\u001b[0m\n\u001b[1;32m    148\u001b[0m         \u001b[0;32mif\u001b[0m \u001b[0mdo_integrity_check\u001b[0m\u001b[0;34m:\u001b[0m\u001b[0;34m\u001b[0m\u001b[0;34m\u001b[0m\u001b[0m\n\u001b[0;32m--> 149\u001b[0;31m             \u001b[0mself\u001b[0m\u001b[0;34m.\u001b[0m\u001b[0m_verify_integrity\u001b[0m\u001b[0;34m(\u001b[0m\u001b[0;34m)\u001b[0m\u001b[0;34m\u001b[0m\u001b[0;34m\u001b[0m\u001b[0m\n\u001b[0m\u001b[1;32m    150\u001b[0m \u001b[0;34m\u001b[0m\u001b[0m\n\u001b[1;32m    151\u001b[0m         \u001b[0;31m# Populate known_consolidate, blknos, and blklocs lazily\u001b[0m\u001b[0;34m\u001b[0m\u001b[0;34m\u001b[0m\u001b[0;34m\u001b[0m\u001b[0m\n",
            "\u001b[0;32m/usr/local/lib/python3.6/dist-packages/pandas/core/internals/managers.py\u001b[0m in \u001b[0;36m_verify_integrity\u001b[0;34m(self)\u001b[0m\n\u001b[1;32m    324\u001b[0m         \u001b[0;32mfor\u001b[0m \u001b[0mblock\u001b[0m \u001b[0;32min\u001b[0m \u001b[0mself\u001b[0m\u001b[0;34m.\u001b[0m\u001b[0mblocks\u001b[0m\u001b[0;34m:\u001b[0m\u001b[0;34m\u001b[0m\u001b[0;34m\u001b[0m\u001b[0m\n\u001b[1;32m    325\u001b[0m             \u001b[0;32mif\u001b[0m \u001b[0mblock\u001b[0m\u001b[0;34m.\u001b[0m\u001b[0mshape\u001b[0m\u001b[0;34m[\u001b[0m\u001b[0;36m1\u001b[0m\u001b[0;34m:\u001b[0m\u001b[0;34m]\u001b[0m \u001b[0;34m!=\u001b[0m \u001b[0mmgr_shape\u001b[0m\u001b[0;34m[\u001b[0m\u001b[0;36m1\u001b[0m\u001b[0;34m:\u001b[0m\u001b[0;34m]\u001b[0m\u001b[0;34m:\u001b[0m\u001b[0;34m\u001b[0m\u001b[0;34m\u001b[0m\u001b[0m\n\u001b[0;32m--> 326\u001b[0;31m                 \u001b[0;32mraise\u001b[0m \u001b[0mconstruction_error\u001b[0m\u001b[0;34m(\u001b[0m\u001b[0mtot_items\u001b[0m\u001b[0;34m,\u001b[0m \u001b[0mblock\u001b[0m\u001b[0;34m.\u001b[0m\u001b[0mshape\u001b[0m\u001b[0;34m[\u001b[0m\u001b[0;36m1\u001b[0m\u001b[0;34m:\u001b[0m\u001b[0;34m]\u001b[0m\u001b[0;34m,\u001b[0m \u001b[0mself\u001b[0m\u001b[0;34m.\u001b[0m\u001b[0maxes\u001b[0m\u001b[0;34m)\u001b[0m\u001b[0;34m\u001b[0m\u001b[0;34m\u001b[0m\u001b[0m\n\u001b[0m\u001b[1;32m    327\u001b[0m         \u001b[0;32mif\u001b[0m \u001b[0mlen\u001b[0m\u001b[0;34m(\u001b[0m\u001b[0mself\u001b[0m\u001b[0;34m.\u001b[0m\u001b[0mitems\u001b[0m\u001b[0;34m)\u001b[0m \u001b[0;34m!=\u001b[0m \u001b[0mtot_items\u001b[0m\u001b[0;34m:\u001b[0m\u001b[0;34m\u001b[0m\u001b[0;34m\u001b[0m\u001b[0m\n\u001b[1;32m    328\u001b[0m             raise AssertionError(\n",
            "\u001b[0;31mValueError\u001b[0m: Shape of passed values is (69208, 11), indices imply (28254, 11)"
          ]
        }
      ]
    },
    {
      "cell_type": "code",
      "metadata": {
        "colab": {
          "base_uri": "https://localhost:8080/"
        },
        "id": "bLX7fBa5enKG",
        "outputId": "3421623e-3e9d-4922-e9f0-19d34b0f8088"
      },
      "source": [
        "matched_q_a.set_index('answers_author_id').index.is_unique"
      ],
      "execution_count": 78,
      "outputs": [
        {
          "output_type": "execute_result",
          "data": {
            "text/plain": [
              "False"
            ]
          },
          "metadata": {
            "tags": []
          },
          "execution_count": 78
        }
      ]
    },
    {
      "cell_type": "code",
      "metadata": {
        "colab": {
          "base_uri": "https://localhost:8080/",
          "height": 470
        },
        "id": "E5Lg199Wfozx",
        "outputId": "3d7930c1-c73b-4b58-a0e5-1af8308bda43"
      },
      "source": [
        "professionals"
      ],
      "execution_count": 80,
      "outputs": [
        {
          "output_type": "execute_result",
          "data": {
            "text/html": [
              "<div>\n",
              "<style scoped>\n",
              "    .dataframe tbody tr th:only-of-type {\n",
              "        vertical-align: middle;\n",
              "    }\n",
              "\n",
              "    .dataframe tbody tr th {\n",
              "        vertical-align: top;\n",
              "    }\n",
              "\n",
              "    .dataframe thead th {\n",
              "        text-align: right;\n",
              "    }\n",
              "</style>\n",
              "<table border=\"1\" class=\"dataframe\">\n",
              "  <thead>\n",
              "    <tr style=\"text-align: right;\">\n",
              "      <th></th>\n",
              "      <th>professionals_id</th>\n",
              "      <th>professionals_location</th>\n",
              "      <th>professionals_industry</th>\n",
              "      <th>professionals_headline</th>\n",
              "      <th>professionals_date_joined</th>\n",
              "    </tr>\n",
              "  </thead>\n",
              "  <tbody>\n",
              "    <tr>\n",
              "      <th>0</th>\n",
              "      <td>9ced4ce7519049c0944147afb75a8ce3</td>\n",
              "      <td>NaN</td>\n",
              "      <td>NaN</td>\n",
              "      <td>NaN</td>\n",
              "      <td>2011-10-05 20:35:19 UTC+0000</td>\n",
              "    </tr>\n",
              "    <tr>\n",
              "      <th>1</th>\n",
              "      <td>f718dcf6d2ec4cb0a52a9db59d7f9e67</td>\n",
              "      <td>NaN</td>\n",
              "      <td>NaN</td>\n",
              "      <td>NaN</td>\n",
              "      <td>2011-10-05 20:49:21 UTC+0000</td>\n",
              "    </tr>\n",
              "    <tr>\n",
              "      <th>2</th>\n",
              "      <td>0c673e046d824ec0ad0ebe012a0673e4</td>\n",
              "      <td>New York, New York</td>\n",
              "      <td>NaN</td>\n",
              "      <td>NaN</td>\n",
              "      <td>2011-10-18 17:31:26 UTC+0000</td>\n",
              "    </tr>\n",
              "    <tr>\n",
              "      <th>3</th>\n",
              "      <td>977428d851b24183b223be0eb8619a8c</td>\n",
              "      <td>Boston, Massachusetts</td>\n",
              "      <td>NaN</td>\n",
              "      <td>NaN</td>\n",
              "      <td>2011-11-09 20:39:29 UTC+0000</td>\n",
              "    </tr>\n",
              "    <tr>\n",
              "      <th>4</th>\n",
              "      <td>e2d57e5041a44f489288397c9904c2b2</td>\n",
              "      <td>NaN</td>\n",
              "      <td>NaN</td>\n",
              "      <td>NaN</td>\n",
              "      <td>2011-12-10 22:14:44 UTC+0000</td>\n",
              "    </tr>\n",
              "    <tr>\n",
              "      <th>...</th>\n",
              "      <td>...</td>\n",
              "      <td>...</td>\n",
              "      <td>...</td>\n",
              "      <td>...</td>\n",
              "      <td>...</td>\n",
              "    </tr>\n",
              "    <tr>\n",
              "      <th>28147</th>\n",
              "      <td>9f267950ab8e43e2afcf564327049297</td>\n",
              "      <td>El Segundo, California</td>\n",
              "      <td>Broadcast Media</td>\n",
              "      <td>AVP, Technology at AT&amp;T</td>\n",
              "      <td>2019-01-31 23:48:32 UTC+0000</td>\n",
              "    </tr>\n",
              "    <tr>\n",
              "      <th>28148</th>\n",
              "      <td>4a7e1e5dd884488da283e1cab6ad11e0</td>\n",
              "      <td>Alexandria, Virginia</td>\n",
              "      <td>Telecommunications</td>\n",
              "      <td>Operations Manager, FirstNet Public Sector Sol...</td>\n",
              "      <td>2019-01-31 23:53:53 UTC+0000</td>\n",
              "    </tr>\n",
              "    <tr>\n",
              "      <th>28149</th>\n",
              "      <td>ea75c5fce38348e0a151c3c346929e6a</td>\n",
              "      <td>Berkeley, California</td>\n",
              "      <td>Electrical engineering Computer Software</td>\n",
              "      <td>GMA3 at Tesla</td>\n",
              "      <td>2019-01-31 23:56:16 UTC+0000</td>\n",
              "    </tr>\n",
              "    <tr>\n",
              "      <th>28150</th>\n",
              "      <td>34f6222c3c02480ca2df8a3e4ba878d0</td>\n",
              "      <td>Houston, Texas Area</td>\n",
              "      <td>Telecommunications</td>\n",
              "      <td>Customer Service Representative at AT&amp;T</td>\n",
              "      <td>2019-01-31 23:58:31 UTC+0000</td>\n",
              "    </tr>\n",
              "    <tr>\n",
              "      <th>28151</th>\n",
              "      <td>ebc523719253485bb35e94ca561eb051</td>\n",
              "      <td>Dallas, Texas</td>\n",
              "      <td>Mobility and Entertainment</td>\n",
              "      <td>Director - Program and Project Management</td>\n",
              "      <td>2019-01-31 23:59:09 UTC+0000</td>\n",
              "    </tr>\n",
              "  </tbody>\n",
              "</table>\n",
              "<p>28152 rows × 5 columns</p>\n",
              "</div>"
            ],
            "text/plain": [
              "                       professionals_id  ...     professionals_date_joined\n",
              "0      9ced4ce7519049c0944147afb75a8ce3  ...  2011-10-05 20:35:19 UTC+0000\n",
              "1      f718dcf6d2ec4cb0a52a9db59d7f9e67  ...  2011-10-05 20:49:21 UTC+0000\n",
              "2      0c673e046d824ec0ad0ebe012a0673e4  ...  2011-10-18 17:31:26 UTC+0000\n",
              "3      977428d851b24183b223be0eb8619a8c  ...  2011-11-09 20:39:29 UTC+0000\n",
              "4      e2d57e5041a44f489288397c9904c2b2  ...  2011-12-10 22:14:44 UTC+0000\n",
              "...                                 ...  ...                           ...\n",
              "28147  9f267950ab8e43e2afcf564327049297  ...  2019-01-31 23:48:32 UTC+0000\n",
              "28148  4a7e1e5dd884488da283e1cab6ad11e0  ...  2019-01-31 23:53:53 UTC+0000\n",
              "28149  ea75c5fce38348e0a151c3c346929e6a  ...  2019-01-31 23:56:16 UTC+0000\n",
              "28150  34f6222c3c02480ca2df8a3e4ba878d0  ...  2019-01-31 23:58:31 UTC+0000\n",
              "28151  ebc523719253485bb35e94ca561eb051  ...  2019-01-31 23:59:09 UTC+0000\n",
              "\n",
              "[28152 rows x 5 columns]"
            ]
          },
          "metadata": {
            "tags": []
          },
          "execution_count": 80
        }
      ]
    },
    {
      "cell_type": "code",
      "metadata": {
        "id": "a5PQ1EgRfcVY"
      },
      "source": [
        "emails = pd.read_csv('emails.csv')"
      ],
      "execution_count": 98,
      "outputs": []
    },
    {
      "cell_type": "code",
      "metadata": {
        "colab": {
          "base_uri": "https://localhost:8080/",
          "height": 419
        },
        "id": "Qt_AuixOhcHZ",
        "outputId": "0d7cb2e1-8a43-4ab9-e34d-76b234d80a86"
      },
      "source": [
        "emails"
      ],
      "execution_count": 83,
      "outputs": [
        {
          "output_type": "execute_result",
          "data": {
            "text/html": [
              "<div>\n",
              "<style scoped>\n",
              "    .dataframe tbody tr th:only-of-type {\n",
              "        vertical-align: middle;\n",
              "    }\n",
              "\n",
              "    .dataframe tbody tr th {\n",
              "        vertical-align: top;\n",
              "    }\n",
              "\n",
              "    .dataframe thead th {\n",
              "        text-align: right;\n",
              "    }\n",
              "</style>\n",
              "<table border=\"1\" class=\"dataframe\">\n",
              "  <thead>\n",
              "    <tr style=\"text-align: right;\">\n",
              "      <th></th>\n",
              "      <th>emails_id</th>\n",
              "      <th>emails_recipient_id</th>\n",
              "      <th>emails_date_sent</th>\n",
              "      <th>emails_frequency_level</th>\n",
              "    </tr>\n",
              "  </thead>\n",
              "  <tbody>\n",
              "    <tr>\n",
              "      <th>0</th>\n",
              "      <td>2337714</td>\n",
              "      <td>0c673e046d824ec0ad0ebe012a0673e4</td>\n",
              "      <td>2018-12-07 01:05:40 UTC+0000</td>\n",
              "      <td>email_notification_daily</td>\n",
              "    </tr>\n",
              "    <tr>\n",
              "      <th>1</th>\n",
              "      <td>2336077</td>\n",
              "      <td>0c673e046d824ec0ad0ebe012a0673e4</td>\n",
              "      <td>2018-12-06 01:14:15 UTC+0000</td>\n",
              "      <td>email_notification_daily</td>\n",
              "    </tr>\n",
              "    <tr>\n",
              "      <th>2</th>\n",
              "      <td>2314660</td>\n",
              "      <td>0c673e046d824ec0ad0ebe012a0673e4</td>\n",
              "      <td>2018-11-17 00:38:27 UTC+0000</td>\n",
              "      <td>email_notification_daily</td>\n",
              "    </tr>\n",
              "    <tr>\n",
              "      <th>3</th>\n",
              "      <td>2312639</td>\n",
              "      <td>0c673e046d824ec0ad0ebe012a0673e4</td>\n",
              "      <td>2018-11-16 00:32:19 UTC+0000</td>\n",
              "      <td>email_notification_daily</td>\n",
              "    </tr>\n",
              "    <tr>\n",
              "      <th>4</th>\n",
              "      <td>2299700</td>\n",
              "      <td>0c673e046d824ec0ad0ebe012a0673e4</td>\n",
              "      <td>2018-11-08 00:16:40 UTC+0000</td>\n",
              "      <td>email_notification_daily</td>\n",
              "    </tr>\n",
              "    <tr>\n",
              "      <th>...</th>\n",
              "      <td>...</td>\n",
              "      <td>...</td>\n",
              "      <td>...</td>\n",
              "      <td>...</td>\n",
              "    </tr>\n",
              "    <tr>\n",
              "      <th>1850096</th>\n",
              "      <td>2409293</td>\n",
              "      <td>de40a9dc047c4cf3acdf9756af10462c</td>\n",
              "      <td>2019-01-31 23:01:21 UTC+0000</td>\n",
              "      <td>email_notification_daily</td>\n",
              "    </tr>\n",
              "    <tr>\n",
              "      <th>1850097</th>\n",
              "      <td>2409400</td>\n",
              "      <td>eee7985edfc64e0494b1424fed2136b8</td>\n",
              "      <td>2019-01-31 23:07:25 UTC+0000</td>\n",
              "      <td>email_notification_daily</td>\n",
              "    </tr>\n",
              "    <tr>\n",
              "      <th>1850098</th>\n",
              "      <td>2409811</td>\n",
              "      <td>d6eec2d641424aa8ac2875c701c3b168</td>\n",
              "      <td>2019-01-31 23:31:47 UTC+0000</td>\n",
              "      <td>email_notification_daily</td>\n",
              "    </tr>\n",
              "    <tr>\n",
              "      <th>1850099</th>\n",
              "      <td>2409736</td>\n",
              "      <td>7dd5060696844838ba4fbad3246a6d3e</td>\n",
              "      <td>2019-01-31 23:26:51 UTC+0000</td>\n",
              "      <td>email_notification_daily</td>\n",
              "    </tr>\n",
              "    <tr>\n",
              "      <th>1850100</th>\n",
              "      <td>2409773</td>\n",
              "      <td>5157275d7d6f49e89147673f6663eb7c</td>\n",
              "      <td>2019-01-31 23:29:04 UTC+0000</td>\n",
              "      <td>email_notification_daily</td>\n",
              "    </tr>\n",
              "  </tbody>\n",
              "</table>\n",
              "<p>1850101 rows × 4 columns</p>\n",
              "</div>"
            ],
            "text/plain": [
              "         emails_id  ...    emails_frequency_level\n",
              "0          2337714  ...  email_notification_daily\n",
              "1          2336077  ...  email_notification_daily\n",
              "2          2314660  ...  email_notification_daily\n",
              "3          2312639  ...  email_notification_daily\n",
              "4          2299700  ...  email_notification_daily\n",
              "...            ...  ...                       ...\n",
              "1850096    2409293  ...  email_notification_daily\n",
              "1850097    2409400  ...  email_notification_daily\n",
              "1850098    2409811  ...  email_notification_daily\n",
              "1850099    2409736  ...  email_notification_daily\n",
              "1850100    2409773  ...  email_notification_daily\n",
              "\n",
              "[1850101 rows x 4 columns]"
            ]
          },
          "metadata": {
            "tags": []
          },
          "execution_count": 83
        }
      ]
    },
    {
      "cell_type": "code",
      "metadata": {
        "id": "eg6jstR4hgn3"
      },
      "source": [
        "matches = pd.read_csv('matches.csv')"
      ],
      "execution_count": 84,
      "outputs": []
    },
    {
      "cell_type": "code",
      "metadata": {
        "colab": {
          "base_uri": "https://localhost:8080/",
          "height": 419
        },
        "id": "Z8ruo5BCh3wD",
        "outputId": "f0dda065-1d15-4b7a-89a5-22ed79e41e74"
      },
      "source": [
        "matches"
      ],
      "execution_count": 85,
      "outputs": [
        {
          "output_type": "execute_result",
          "data": {
            "text/html": [
              "<div>\n",
              "<style scoped>\n",
              "    .dataframe tbody tr th:only-of-type {\n",
              "        vertical-align: middle;\n",
              "    }\n",
              "\n",
              "    .dataframe tbody tr th {\n",
              "        vertical-align: top;\n",
              "    }\n",
              "\n",
              "    .dataframe thead th {\n",
              "        text-align: right;\n",
              "    }\n",
              "</style>\n",
              "<table border=\"1\" class=\"dataframe\">\n",
              "  <thead>\n",
              "    <tr style=\"text-align: right;\">\n",
              "      <th></th>\n",
              "      <th>matches_email_id</th>\n",
              "      <th>matches_question_id</th>\n",
              "    </tr>\n",
              "  </thead>\n",
              "  <tbody>\n",
              "    <tr>\n",
              "      <th>0</th>\n",
              "      <td>1721939</td>\n",
              "      <td>332a511f1569444485cf7a7a556a5e54</td>\n",
              "    </tr>\n",
              "    <tr>\n",
              "      <th>1</th>\n",
              "      <td>1665388</td>\n",
              "      <td>332a511f1569444485cf7a7a556a5e54</td>\n",
              "    </tr>\n",
              "    <tr>\n",
              "      <th>2</th>\n",
              "      <td>1636634</td>\n",
              "      <td>332a511f1569444485cf7a7a556a5e54</td>\n",
              "    </tr>\n",
              "    <tr>\n",
              "      <th>3</th>\n",
              "      <td>1635498</td>\n",
              "      <td>332a511f1569444485cf7a7a556a5e54</td>\n",
              "    </tr>\n",
              "    <tr>\n",
              "      <th>4</th>\n",
              "      <td>1620298</td>\n",
              "      <td>332a511f1569444485cf7a7a556a5e54</td>\n",
              "    </tr>\n",
              "    <tr>\n",
              "      <th>...</th>\n",
              "      <td>...</td>\n",
              "      <td>...</td>\n",
              "    </tr>\n",
              "    <tr>\n",
              "      <th>4316270</th>\n",
              "      <td>184809</td>\n",
              "      <td>1b1ebe9afc5046ccbb328704e88e5cc0</td>\n",
              "    </tr>\n",
              "    <tr>\n",
              "      <th>4316271</th>\n",
              "      <td>184814</td>\n",
              "      <td>1b1ebe9afc5046ccbb328704e88e5cc0</td>\n",
              "    </tr>\n",
              "    <tr>\n",
              "      <th>4316272</th>\n",
              "      <td>184815</td>\n",
              "      <td>1b1ebe9afc5046ccbb328704e88e5cc0</td>\n",
              "    </tr>\n",
              "    <tr>\n",
              "      <th>4316273</th>\n",
              "      <td>184818</td>\n",
              "      <td>1b1ebe9afc5046ccbb328704e88e5cc0</td>\n",
              "    </tr>\n",
              "    <tr>\n",
              "      <th>4316274</th>\n",
              "      <td>184837</td>\n",
              "      <td>1b1ebe9afc5046ccbb328704e88e5cc0</td>\n",
              "    </tr>\n",
              "  </tbody>\n",
              "</table>\n",
              "<p>4316275 rows × 2 columns</p>\n",
              "</div>"
            ],
            "text/plain": [
              "         matches_email_id               matches_question_id\n",
              "0                 1721939  332a511f1569444485cf7a7a556a5e54\n",
              "1                 1665388  332a511f1569444485cf7a7a556a5e54\n",
              "2                 1636634  332a511f1569444485cf7a7a556a5e54\n",
              "3                 1635498  332a511f1569444485cf7a7a556a5e54\n",
              "4                 1620298  332a511f1569444485cf7a7a556a5e54\n",
              "...                   ...                               ...\n",
              "4316270            184809  1b1ebe9afc5046ccbb328704e88e5cc0\n",
              "4316271            184814  1b1ebe9afc5046ccbb328704e88e5cc0\n",
              "4316272            184815  1b1ebe9afc5046ccbb328704e88e5cc0\n",
              "4316273            184818  1b1ebe9afc5046ccbb328704e88e5cc0\n",
              "4316274            184837  1b1ebe9afc5046ccbb328704e88e5cc0\n",
              "\n",
              "[4316275 rows x 2 columns]"
            ]
          },
          "metadata": {
            "tags": []
          },
          "execution_count": 85
        }
      ]
    },
    {
      "cell_type": "code",
      "metadata": {
        "id": "ZFlv0p1qh4dy"
      },
      "source": [
        "groups = pd.read_csv('groups.csv')\n",
        "group_memberships = pd.read_csv('group_memberships.csv')"
      ],
      "execution_count": 90,
      "outputs": []
    },
    {
      "cell_type": "code",
      "metadata": {
        "colab": {
          "base_uri": "https://localhost:8080/",
          "height": 419
        },
        "id": "X22582uWjbdk",
        "outputId": "3afe17af-10b2-49bd-e8ea-69240926df50"
      },
      "source": [
        "group_memberships"
      ],
      "execution_count": 91,
      "outputs": [
        {
          "output_type": "execute_result",
          "data": {
            "text/html": [
              "<div>\n",
              "<style scoped>\n",
              "    .dataframe tbody tr th:only-of-type {\n",
              "        vertical-align: middle;\n",
              "    }\n",
              "\n",
              "    .dataframe tbody tr th {\n",
              "        vertical-align: top;\n",
              "    }\n",
              "\n",
              "    .dataframe thead th {\n",
              "        text-align: right;\n",
              "    }\n",
              "</style>\n",
              "<table border=\"1\" class=\"dataframe\">\n",
              "  <thead>\n",
              "    <tr style=\"text-align: right;\">\n",
              "      <th></th>\n",
              "      <th>group_memberships_group_id</th>\n",
              "      <th>group_memberships_user_id</th>\n",
              "    </tr>\n",
              "  </thead>\n",
              "  <tbody>\n",
              "    <tr>\n",
              "      <th>0</th>\n",
              "      <td>eabbdf4029734c848a9da20779637d03</td>\n",
              "      <td>9a5aead62c344207b2624dba90985dc5</td>\n",
              "    </tr>\n",
              "    <tr>\n",
              "      <th>1</th>\n",
              "      <td>eabbdf4029734c848a9da20779637d03</td>\n",
              "      <td>ea7122da1c7b4244a2184a4f9f944053</td>\n",
              "    </tr>\n",
              "    <tr>\n",
              "      <th>2</th>\n",
              "      <td>eabbdf4029734c848a9da20779637d03</td>\n",
              "      <td>cba603f34acb4a40b3ccb53fe6681b5d</td>\n",
              "    </tr>\n",
              "    <tr>\n",
              "      <th>3</th>\n",
              "      <td>eabbdf4029734c848a9da20779637d03</td>\n",
              "      <td>fa9a126e63714641ae0145557a390cab</td>\n",
              "    </tr>\n",
              "    <tr>\n",
              "      <th>4</th>\n",
              "      <td>eabbdf4029734c848a9da20779637d03</td>\n",
              "      <td>299da113c5d1420ab525106c242c9429</td>\n",
              "    </tr>\n",
              "    <tr>\n",
              "      <th>...</th>\n",
              "      <td>...</td>\n",
              "      <td>...</td>\n",
              "    </tr>\n",
              "    <tr>\n",
              "      <th>1033</th>\n",
              "      <td>66574765baa94b79a7e76b13f36a0d4a</td>\n",
              "      <td>0e98d45e17b249cb9a4614dd644f4813</td>\n",
              "    </tr>\n",
              "    <tr>\n",
              "      <th>1034</th>\n",
              "      <td>66574765baa94b79a7e76b13f36a0d4a</td>\n",
              "      <td>1281a56ed75b454faaa11962a0beca3a</td>\n",
              "    </tr>\n",
              "    <tr>\n",
              "      <th>1035</th>\n",
              "      <td>66574765baa94b79a7e76b13f36a0d4a</td>\n",
              "      <td>a303c1c4faef4adda38fcd4c0d2bade1</td>\n",
              "    </tr>\n",
              "    <tr>\n",
              "      <th>1036</th>\n",
              "      <td>66574765baa94b79a7e76b13f36a0d4a</td>\n",
              "      <td>f25658bc5e374a1a8ea099156fc1206a</td>\n",
              "    </tr>\n",
              "    <tr>\n",
              "      <th>1037</th>\n",
              "      <td>66574765baa94b79a7e76b13f36a0d4a</td>\n",
              "      <td>5c5ffaf87ed249d9a630c010d80feb3f</td>\n",
              "    </tr>\n",
              "  </tbody>\n",
              "</table>\n",
              "<p>1038 rows × 2 columns</p>\n",
              "</div>"
            ],
            "text/plain": [
              "            group_memberships_group_id         group_memberships_user_id\n",
              "0     eabbdf4029734c848a9da20779637d03  9a5aead62c344207b2624dba90985dc5\n",
              "1     eabbdf4029734c848a9da20779637d03  ea7122da1c7b4244a2184a4f9f944053\n",
              "2     eabbdf4029734c848a9da20779637d03  cba603f34acb4a40b3ccb53fe6681b5d\n",
              "3     eabbdf4029734c848a9da20779637d03  fa9a126e63714641ae0145557a390cab\n",
              "4     eabbdf4029734c848a9da20779637d03  299da113c5d1420ab525106c242c9429\n",
              "...                                ...                               ...\n",
              "1033  66574765baa94b79a7e76b13f36a0d4a  0e98d45e17b249cb9a4614dd644f4813\n",
              "1034  66574765baa94b79a7e76b13f36a0d4a  1281a56ed75b454faaa11962a0beca3a\n",
              "1035  66574765baa94b79a7e76b13f36a0d4a  a303c1c4faef4adda38fcd4c0d2bade1\n",
              "1036  66574765baa94b79a7e76b13f36a0d4a  f25658bc5e374a1a8ea099156fc1206a\n",
              "1037  66574765baa94b79a7e76b13f36a0d4a  5c5ffaf87ed249d9a630c010d80feb3f\n",
              "\n",
              "[1038 rows x 2 columns]"
            ]
          },
          "metadata": {
            "tags": []
          },
          "execution_count": 91
        }
      ]
    },
    {
      "cell_type": "code",
      "metadata": {
        "colab": {
          "base_uri": "https://localhost:8080/",
          "height": 307
        },
        "id": "7jaQV4TKjk6m",
        "outputId": "f2c93df8-5e04-48e6-a22e-b927f876cc05"
      },
      "source": [
        "pd.concat((professionals.set_index('professionals_id'),group_memberships.set_index('group_memberships_user_id')), axis=1, join='inner')"
      ],
      "execution_count": 95,
      "outputs": [
        {
          "output_type": "error",
          "ename": "ValueError",
          "evalue": "ignored",
          "traceback": [
            "\u001b[0;31m---------------------------------------------------------------------------\u001b[0m",
            "\u001b[0;31mValueError\u001b[0m                                Traceback (most recent call last)",
            "\u001b[0;32m<ipython-input-95-c5bd8d850edd>\u001b[0m in \u001b[0;36m<module>\u001b[0;34m()\u001b[0m\n\u001b[0;32m----> 1\u001b[0;31m \u001b[0mpd\u001b[0m\u001b[0;34m.\u001b[0m\u001b[0mconcat\u001b[0m\u001b[0;34m(\u001b[0m\u001b[0;34m(\u001b[0m\u001b[0mprofessionals\u001b[0m\u001b[0;34m.\u001b[0m\u001b[0mset_index\u001b[0m\u001b[0;34m(\u001b[0m\u001b[0;34m'professionals_id'\u001b[0m\u001b[0;34m)\u001b[0m\u001b[0;34m,\u001b[0m\u001b[0mgroup_memberships\u001b[0m\u001b[0;34m.\u001b[0m\u001b[0mset_index\u001b[0m\u001b[0;34m(\u001b[0m\u001b[0;34m'group_memberships_user_id'\u001b[0m\u001b[0;34m)\u001b[0m\u001b[0;34m)\u001b[0m\u001b[0;34m,\u001b[0m \u001b[0maxis\u001b[0m\u001b[0;34m=\u001b[0m\u001b[0;36m1\u001b[0m\u001b[0;34m,\u001b[0m \u001b[0mjoin\u001b[0m\u001b[0;34m=\u001b[0m\u001b[0;34m'inner'\u001b[0m\u001b[0;34m)\u001b[0m\u001b[0;34m\u001b[0m\u001b[0;34m\u001b[0m\u001b[0m\n\u001b[0m",
            "\u001b[0;32m/usr/local/lib/python3.6/dist-packages/pandas/core/reshape/concat.py\u001b[0m in \u001b[0;36mconcat\u001b[0;34m(objs, axis, join, ignore_index, keys, levels, names, verify_integrity, sort, copy)\u001b[0m\n\u001b[1;32m    285\u001b[0m     )\n\u001b[1;32m    286\u001b[0m \u001b[0;34m\u001b[0m\u001b[0m\n\u001b[0;32m--> 287\u001b[0;31m     \u001b[0;32mreturn\u001b[0m \u001b[0mop\u001b[0m\u001b[0;34m.\u001b[0m\u001b[0mget_result\u001b[0m\u001b[0;34m(\u001b[0m\u001b[0;34m)\u001b[0m\u001b[0;34m\u001b[0m\u001b[0;34m\u001b[0m\u001b[0m\n\u001b[0m\u001b[1;32m    288\u001b[0m \u001b[0;34m\u001b[0m\u001b[0m\n\u001b[1;32m    289\u001b[0m \u001b[0;34m\u001b[0m\u001b[0m\n",
            "\u001b[0;32m/usr/local/lib/python3.6/dist-packages/pandas/core/reshape/concat.py\u001b[0m in \u001b[0;36mget_result\u001b[0;34m(self)\u001b[0m\n\u001b[1;32m    501\u001b[0m \u001b[0;34m\u001b[0m\u001b[0m\n\u001b[1;32m    502\u001b[0m             new_data = concatenate_block_managers(\n\u001b[0;32m--> 503\u001b[0;31m                 \u001b[0mmgrs_indexers\u001b[0m\u001b[0;34m,\u001b[0m \u001b[0mself\u001b[0m\u001b[0;34m.\u001b[0m\u001b[0mnew_axes\u001b[0m\u001b[0;34m,\u001b[0m \u001b[0mconcat_axis\u001b[0m\u001b[0;34m=\u001b[0m\u001b[0mself\u001b[0m\u001b[0;34m.\u001b[0m\u001b[0mbm_axis\u001b[0m\u001b[0;34m,\u001b[0m \u001b[0mcopy\u001b[0m\u001b[0;34m=\u001b[0m\u001b[0mself\u001b[0m\u001b[0;34m.\u001b[0m\u001b[0mcopy\u001b[0m\u001b[0;34m,\u001b[0m\u001b[0;34m\u001b[0m\u001b[0;34m\u001b[0m\u001b[0m\n\u001b[0m\u001b[1;32m    504\u001b[0m             )\n\u001b[1;32m    505\u001b[0m             \u001b[0;32mif\u001b[0m \u001b[0;32mnot\u001b[0m \u001b[0mself\u001b[0m\u001b[0;34m.\u001b[0m\u001b[0mcopy\u001b[0m\u001b[0;34m:\u001b[0m\u001b[0;34m\u001b[0m\u001b[0;34m\u001b[0m\u001b[0m\n",
            "\u001b[0;32m/usr/local/lib/python3.6/dist-packages/pandas/core/internals/concat.py\u001b[0m in \u001b[0;36mconcatenate_block_managers\u001b[0;34m(mgrs_indexers, axes, concat_axis, copy)\u001b[0m\n\u001b[1;32m     82\u001b[0m         \u001b[0mblocks\u001b[0m\u001b[0;34m.\u001b[0m\u001b[0mappend\u001b[0m\u001b[0;34m(\u001b[0m\u001b[0mb\u001b[0m\u001b[0;34m)\u001b[0m\u001b[0;34m\u001b[0m\u001b[0;34m\u001b[0m\u001b[0m\n\u001b[1;32m     83\u001b[0m \u001b[0;34m\u001b[0m\u001b[0m\n\u001b[0;32m---> 84\u001b[0;31m     \u001b[0;32mreturn\u001b[0m \u001b[0mBlockManager\u001b[0m\u001b[0;34m(\u001b[0m\u001b[0mblocks\u001b[0m\u001b[0;34m,\u001b[0m \u001b[0maxes\u001b[0m\u001b[0;34m)\u001b[0m\u001b[0;34m\u001b[0m\u001b[0;34m\u001b[0m\u001b[0m\n\u001b[0m\u001b[1;32m     85\u001b[0m \u001b[0;34m\u001b[0m\u001b[0m\n\u001b[1;32m     86\u001b[0m \u001b[0;34m\u001b[0m\u001b[0m\n",
            "\u001b[0;32m/usr/local/lib/python3.6/dist-packages/pandas/core/internals/managers.py\u001b[0m in \u001b[0;36m__init__\u001b[0;34m(self, blocks, axes, do_integrity_check)\u001b[0m\n\u001b[1;32m    147\u001b[0m \u001b[0;34m\u001b[0m\u001b[0m\n\u001b[1;32m    148\u001b[0m         \u001b[0;32mif\u001b[0m \u001b[0mdo_integrity_check\u001b[0m\u001b[0;34m:\u001b[0m\u001b[0;34m\u001b[0m\u001b[0;34m\u001b[0m\u001b[0m\n\u001b[0;32m--> 149\u001b[0;31m             \u001b[0mself\u001b[0m\u001b[0;34m.\u001b[0m\u001b[0m_verify_integrity\u001b[0m\u001b[0;34m(\u001b[0m\u001b[0;34m)\u001b[0m\u001b[0;34m\u001b[0m\u001b[0;34m\u001b[0m\u001b[0m\n\u001b[0m\u001b[1;32m    150\u001b[0m \u001b[0;34m\u001b[0m\u001b[0m\n\u001b[1;32m    151\u001b[0m         \u001b[0;31m# Populate known_consolidate, blknos, and blklocs lazily\u001b[0m\u001b[0;34m\u001b[0m\u001b[0;34m\u001b[0m\u001b[0;34m\u001b[0m\u001b[0m\n",
            "\u001b[0;32m/usr/local/lib/python3.6/dist-packages/pandas/core/internals/managers.py\u001b[0m in \u001b[0;36m_verify_integrity\u001b[0;34m(self)\u001b[0m\n\u001b[1;32m    324\u001b[0m         \u001b[0;32mfor\u001b[0m \u001b[0mblock\u001b[0m \u001b[0;32min\u001b[0m \u001b[0mself\u001b[0m\u001b[0;34m.\u001b[0m\u001b[0mblocks\u001b[0m\u001b[0;34m:\u001b[0m\u001b[0;34m\u001b[0m\u001b[0;34m\u001b[0m\u001b[0m\n\u001b[1;32m    325\u001b[0m             \u001b[0;32mif\u001b[0m \u001b[0mblock\u001b[0m\u001b[0;34m.\u001b[0m\u001b[0mshape\u001b[0m\u001b[0;34m[\u001b[0m\u001b[0;36m1\u001b[0m\u001b[0;34m:\u001b[0m\u001b[0;34m]\u001b[0m \u001b[0;34m!=\u001b[0m \u001b[0mmgr_shape\u001b[0m\u001b[0;34m[\u001b[0m\u001b[0;36m1\u001b[0m\u001b[0;34m:\u001b[0m\u001b[0;34m]\u001b[0m\u001b[0;34m:\u001b[0m\u001b[0;34m\u001b[0m\u001b[0;34m\u001b[0m\u001b[0m\n\u001b[0;32m--> 326\u001b[0;31m                 \u001b[0;32mraise\u001b[0m \u001b[0mconstruction_error\u001b[0m\u001b[0;34m(\u001b[0m\u001b[0mtot_items\u001b[0m\u001b[0;34m,\u001b[0m \u001b[0mblock\u001b[0m\u001b[0;34m.\u001b[0m\u001b[0mshape\u001b[0m\u001b[0;34m[\u001b[0m\u001b[0;36m1\u001b[0m\u001b[0;34m:\u001b[0m\u001b[0;34m]\u001b[0m\u001b[0;34m,\u001b[0m \u001b[0mself\u001b[0m\u001b[0;34m.\u001b[0m\u001b[0maxes\u001b[0m\u001b[0;34m)\u001b[0m\u001b[0;34m\u001b[0m\u001b[0;34m\u001b[0m\u001b[0m\n\u001b[0m\u001b[1;32m    327\u001b[0m         \u001b[0;32mif\u001b[0m \u001b[0mlen\u001b[0m\u001b[0;34m(\u001b[0m\u001b[0mself\u001b[0m\u001b[0;34m.\u001b[0m\u001b[0mitems\u001b[0m\u001b[0;34m)\u001b[0m \u001b[0;34m!=\u001b[0m \u001b[0mtot_items\u001b[0m\u001b[0;34m:\u001b[0m\u001b[0;34m\u001b[0m\u001b[0;34m\u001b[0m\u001b[0m\n\u001b[1;32m    328\u001b[0m             raise AssertionError(\n",
            "\u001b[0;31mValueError\u001b[0m: Shape of passed values is (1663, 5), indices imply (727, 5)"
          ]
        }
      ]
    },
    {
      "cell_type": "code",
      "metadata": {
        "colab": {
          "base_uri": "https://localhost:8080/"
        },
        "id": "SazcMYDykMPe",
        "outputId": "b02aa366-7ca5-4f01-98f3-77cac6dc5a04"
      },
      "source": [
        "professionals.set_index('professionals_id').index.is_unique"
      ],
      "execution_count": 96,
      "outputs": [
        {
          "output_type": "execute_result",
          "data": {
            "text/plain": [
              "True"
            ]
          },
          "metadata": {
            "tags": []
          },
          "execution_count": 96
        }
      ]
    },
    {
      "cell_type": "code",
      "metadata": {
        "colab": {
          "base_uri": "https://localhost:8080/"
        },
        "id": "ASmWTGXlkc3Q",
        "outputId": "ff437d60-152c-4995-81dd-1cb339e236f6"
      },
      "source": [
        "group_memberships.set_index('group_memberships_user_id').index.is_unique"
      ],
      "execution_count": 97,
      "outputs": [
        {
          "output_type": "execute_result",
          "data": {
            "text/plain": [
              "False"
            ]
          },
          "metadata": {
            "tags": []
          },
          "execution_count": 97
        }
      ]
    },
    {
      "cell_type": "code",
      "metadata": {
        "id": "pcpIqOuGkgoC"
      },
      "source": [
        ""
      ],
      "execution_count": null,
      "outputs": []
    }
  ]
}